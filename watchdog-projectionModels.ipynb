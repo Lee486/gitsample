{
 "cells": [
  {
   "cell_type": "code",
   "execution_count": 2,
   "metadata": {},
   "outputs": [],
   "source": [
    "#dependencies:\n",
    "#for the data-organizing\n",
    "from datetime import datetime\n",
    "import csv\n",
    "import pandas as pd\n",
    "\n",
    "\n",
    "#for machine learning:\n",
    "from sklearn.linear_model import LinearRegression\n",
    "from sklearn.metrics import mean_squared_error, r2_score\n",
    "from sklearn.model_selection import train_test_split\n",
    "from sklearn.preprocessing import PolynomialFeatures"
   ]
  },
  {
   "cell_type": "code",
   "execution_count": 3,
   "metadata": {},
   "outputs": [],
   "source": [
    "data = pd.read_csv(\"watchdog.csv\")"
   ]
  },
  {
   "cell_type": "code",
   "execution_count": 4,
   "metadata": {},
   "outputs": [],
   "source": [
    "data['date'] = pd.to_datetime(data['date'], format='%Y%m%d', errors='ignore')"
   ]
  },
  {
   "cell_type": "code",
   "execution_count": 5,
   "metadata": {},
   "outputs": [
    {
     "data": {
      "text/html": [
       "<div>\n",
       "<style scoped>\n",
       "    .dataframe tbody tr th:only-of-type {\n",
       "        vertical-align: middle;\n",
       "    }\n",
       "\n",
       "    .dataframe tbody tr th {\n",
       "        vertical-align: top;\n",
       "    }\n",
       "\n",
       "    .dataframe thead th {\n",
       "        text-align: right;\n",
       "    }\n",
       "</style>\n",
       "<table border=\"1\" class=\"dataframe\">\n",
       "  <thead>\n",
       "    <tr style=\"text-align: right;\">\n",
       "      <th></th>\n",
       "      <th>wid</th>\n",
       "      <th>type</th>\n",
       "      <th>message</th>\n",
       "      <th>variables</th>\n",
       "      <th>severity</th>\n",
       "      <th>link</th>\n",
       "      <th>location</th>\n",
       "      <th>referer</th>\n",
       "      <th>hostname</th>\n",
       "      <th>date</th>\n",
       "      <th>lat</th>\n",
       "      <th>long</th>\n",
       "      <th>ip</th>\n",
       "    </tr>\n",
       "  </thead>\n",
       "  <tbody>\n",
       "    <tr>\n",
       "      <th>0</th>\n",
       "      <td>1</td>\n",
       "      <td>system</td>\n",
       "      <td>%module module installed.</td>\n",
       "      <td>a:1:{s:7:\"%module\";s:5:\"dblog\";}</td>\n",
       "      <td>6</td>\n",
       "      <td>NaN</td>\n",
       "      <td>https://jan11.dd:8443/core/install.php/?_forma...</td>\n",
       "      <td>https://jan11.dd:8443/core/install.php?rewrite...</td>\n",
       "      <td>127.0.0.1</td>\n",
       "      <td>2020-06-02</td>\n",
       "      <td>40.712784</td>\n",
       "      <td>-74.005941</td>\n",
       "      <td>84.188.196.83</td>\n",
       "    </tr>\n",
       "    <tr>\n",
       "      <th>1</th>\n",
       "      <td>2</td>\n",
       "      <td>system</td>\n",
       "      <td>%module module installed.</td>\n",
       "      <td>a:1:{s:7:\"%module\";s:8:\"big_pipe\";}</td>\n",
       "      <td>6</td>\n",
       "      <td>NaN</td>\n",
       "      <td>https://jan11.dd:8443/core/install.php/?_forma...</td>\n",
       "      <td>https://jan11.dd:8443/core/install.php?rewrite...</td>\n",
       "      <td>127.0.0.1</td>\n",
       "      <td>2020-01-15</td>\n",
       "      <td>34.052234</td>\n",
       "      <td>-118.243685</td>\n",
       "      <td>237.219.187.19</td>\n",
       "    </tr>\n",
       "    <tr>\n",
       "      <th>2</th>\n",
       "      <td>3</td>\n",
       "      <td>system</td>\n",
       "      <td>%module module installed.</td>\n",
       "      <td>a:1:{s:7:\"%module\";s:7:\"contact\";}</td>\n",
       "      <td>6</td>\n",
       "      <td>NaN</td>\n",
       "      <td>https://jan11.dd:8443/core/install.php/?_forma...</td>\n",
       "      <td>https://jan11.dd:8443/core/install.php?rewrite...</td>\n",
       "      <td>127.0.0.1</td>\n",
       "      <td>2019-12-20</td>\n",
       "      <td>41.878114</td>\n",
       "      <td>-87.629798</td>\n",
       "      <td>58.5.194.120</td>\n",
       "    </tr>\n",
       "    <tr>\n",
       "      <th>3</th>\n",
       "      <td>4</td>\n",
       "      <td>system</td>\n",
       "      <td>%module module installed.</td>\n",
       "      <td>a:1:{s:7:\"%module\";s:18:\"dynamic_page_cache\";}</td>\n",
       "      <td>6</td>\n",
       "      <td>NaN</td>\n",
       "      <td>https://jan11.dd:8443/core/install.php/?_forma...</td>\n",
       "      <td>https://jan11.dd:8443/core/install.php?rewrite...</td>\n",
       "      <td>127.0.0.1</td>\n",
       "      <td>2020-04-21</td>\n",
       "      <td>29.760427</td>\n",
       "      <td>-95.369803</td>\n",
       "      <td>187.85.39.171</td>\n",
       "    </tr>\n",
       "    <tr>\n",
       "      <th>4</th>\n",
       "      <td>5</td>\n",
       "      <td>system</td>\n",
       "      <td>%module module installed.</td>\n",
       "      <td>a:1:{s:7:\"%module\";s:10:\"page_cache\";}</td>\n",
       "      <td>6</td>\n",
       "      <td>NaN</td>\n",
       "      <td>https://jan11.dd:8443/core/install.php/?_forma...</td>\n",
       "      <td>https://jan11.dd:8443/core/install.php?rewrite...</td>\n",
       "      <td>127.0.0.1</td>\n",
       "      <td>2019-06-24</td>\n",
       "      <td>39.952584</td>\n",
       "      <td>-75.165222</td>\n",
       "      <td>224.20.35.150</td>\n",
       "    </tr>\n",
       "  </tbody>\n",
       "</table>\n",
       "</div>"
      ],
      "text/plain": [
       "   wid    type                    message  \\\n",
       "0    1  system  %module module installed.   \n",
       "1    2  system  %module module installed.   \n",
       "2    3  system  %module module installed.   \n",
       "3    4  system  %module module installed.   \n",
       "4    5  system  %module module installed.   \n",
       "\n",
       "                                        variables  severity  link  \\\n",
       "0                a:1:{s:7:\"%module\";s:5:\"dblog\";}         6   NaN   \n",
       "1             a:1:{s:7:\"%module\";s:8:\"big_pipe\";}         6   NaN   \n",
       "2              a:1:{s:7:\"%module\";s:7:\"contact\";}         6   NaN   \n",
       "3  a:1:{s:7:\"%module\";s:18:\"dynamic_page_cache\";}         6   NaN   \n",
       "4          a:1:{s:7:\"%module\";s:10:\"page_cache\";}         6   NaN   \n",
       "\n",
       "                                            location  \\\n",
       "0  https://jan11.dd:8443/core/install.php/?_forma...   \n",
       "1  https://jan11.dd:8443/core/install.php/?_forma...   \n",
       "2  https://jan11.dd:8443/core/install.php/?_forma...   \n",
       "3  https://jan11.dd:8443/core/install.php/?_forma...   \n",
       "4  https://jan11.dd:8443/core/install.php/?_forma...   \n",
       "\n",
       "                                             referer   hostname        date  \\\n",
       "0  https://jan11.dd:8443/core/install.php?rewrite...  127.0.0.1  2020-06-02   \n",
       "1  https://jan11.dd:8443/core/install.php?rewrite...  127.0.0.1  2020-01-15   \n",
       "2  https://jan11.dd:8443/core/install.php?rewrite...  127.0.0.1  2019-12-20   \n",
       "3  https://jan11.dd:8443/core/install.php?rewrite...  127.0.0.1  2020-04-21   \n",
       "4  https://jan11.dd:8443/core/install.php?rewrite...  127.0.0.1  2019-06-24   \n",
       "\n",
       "         lat        long              ip  \n",
       "0  40.712784  -74.005941   84.188.196.83  \n",
       "1  34.052234 -118.243685  237.219.187.19  \n",
       "2  41.878114  -87.629798    58.5.194.120  \n",
       "3  29.760427  -95.369803   187.85.39.171  \n",
       "4  39.952584  -75.165222   224.20.35.150  "
      ]
     },
     "execution_count": 5,
     "metadata": {},
     "output_type": "execute_result"
    }
   ],
   "source": [
    "data.head()"
   ]
  },
  {
   "cell_type": "code",
   "execution_count": null,
   "metadata": {},
   "outputs": [],
   "source": []
  },
  {
   "cell_type": "code",
   "execution_count": null,
   "metadata": {},
   "outputs": [],
   "source": []
  }
 ],
 "metadata": {
  "kernelspec": {
   "display_name": "Python 3",
   "language": "python",
   "name": "python3"
  },
  "language_info": {
   "codemirror_mode": {
    "name": "ipython",
    "version": 3
   },
   "file_extension": ".py",
   "mimetype": "text/x-python",
   "name": "python",
   "nbconvert_exporter": "python",
   "pygments_lexer": "ipython3",
   "version": "3.7.9"
  },
  "varInspector": {
   "cols": {
    "lenName": 16,
    "lenType": 16,
    "lenVar": 40
   },
   "kernels_config": {
    "python": {
     "delete_cmd_postfix": "",
     "delete_cmd_prefix": "del ",
     "library": "var_list.py",
     "varRefreshCmd": "print(var_dic_list())"
    },
    "r": {
     "delete_cmd_postfix": ") ",
     "delete_cmd_prefix": "rm(",
     "library": "var_list.r",
     "varRefreshCmd": "cat(var_dic_list()) "
    }
   },
   "types_to_exclude": [
    "module",
    "function",
    "builtin_function_or_method",
    "instance",
    "_Feature"
   ],
   "window_display": false
  }
 },
 "nbformat": 4,
 "nbformat_minor": 4
}
