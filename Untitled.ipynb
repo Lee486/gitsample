{
 "cells": [
  {
   "cell_type": "markdown",
   "metadata": {},
   "source": [
    "### Making python-graphs, sample uno"
   ]
  },
  {
   "cell_type": "code",
   "execution_count": 13,
   "metadata": {},
   "outputs": [],
   "source": [
    "import plotly.express as px\n",
    "import plotly.graph_objects as go"
   ]
  },
  {
   "cell_type": "code",
   "execution_count": 14,
   "metadata": {},
   "outputs": [
    {
     "output_type": "display_data",
     "data": {
      "application/vnd.plotly.v1+json": {
       "config": {
        "plotlyServerURL": "https://plot.ly"
       },
       "data": [
        {
         "hovertemplate": "x=%{x}<br>y=%{y}<extra></extra>",
         "legendgroup": "",
         "marker": {
          "color": "#636efa",
          "symbol": "circle"
         },
         "mode": "markers",
         "name": "",
         "orientation": "v",
         "showlegend": false,
         "type": "scatter",
         "x": [
          0,
          1,
          2,
          3,
          4
         ],
         "xaxis": "x",
         "y": [
          0,
          1,
          4,
          9,
          16
         ],
         "yaxis": "y"
        }
       ],
       "layout": {
        "legend": {
         "tracegroupgap": 0
        },
        "margin": {
         "t": 60
        },
        "template": {
         "data": {
          "bar": [
           {
            "error_x": {
             "color": "#2a3f5f"
            },
            "error_y": {
             "color": "#2a3f5f"
            },
            "marker": {
             "line": {
              "color": "#E5ECF6",
              "width": 0.5
             }
            },
            "type": "bar"
           }
          ],
          "barpolar": [
           {
            "marker": {
             "line": {
              "color": "#E5ECF6",
              "width": 0.5
             }
            },
            "type": "barpolar"
           }
          ],
          "carpet": [
           {
            "aaxis": {
             "endlinecolor": "#2a3f5f",
             "gridcolor": "white",
             "linecolor": "white",
             "minorgridcolor": "white",
             "startlinecolor": "#2a3f5f"
            },
            "baxis": {
             "endlinecolor": "#2a3f5f",
             "gridcolor": "white",
             "linecolor": "white",
             "minorgridcolor": "white",
             "startlinecolor": "#2a3f5f"
            },
            "type": "carpet"
           }
          ],
          "choropleth": [
           {
            "colorbar": {
             "outlinewidth": 0,
             "ticks": ""
            },
            "type": "choropleth"
           }
          ],
          "contour": [
           {
            "colorbar": {
             "outlinewidth": 0,
             "ticks": ""
            },
            "colorscale": [
             [
              0,
              "#0d0887"
             ],
             [
              0.1111111111111111,
              "#46039f"
             ],
             [
              0.2222222222222222,
              "#7201a8"
             ],
             [
              0.3333333333333333,
              "#9c179e"
             ],
             [
              0.4444444444444444,
              "#bd3786"
             ],
             [
              0.5555555555555556,
              "#d8576b"
             ],
             [
              0.6666666666666666,
              "#ed7953"
             ],
             [
              0.7777777777777778,
              "#fb9f3a"
             ],
             [
              0.8888888888888888,
              "#fdca26"
             ],
             [
              1,
              "#f0f921"
             ]
            ],
            "type": "contour"
           }
          ],
          "contourcarpet": [
           {
            "colorbar": {
             "outlinewidth": 0,
             "ticks": ""
            },
            "type": "contourcarpet"
           }
          ],
          "heatmap": [
           {
            "colorbar": {
             "outlinewidth": 0,
             "ticks": ""
            },
            "colorscale": [
             [
              0,
              "#0d0887"
             ],
             [
              0.1111111111111111,
              "#46039f"
             ],
             [
              0.2222222222222222,
              "#7201a8"
             ],
             [
              0.3333333333333333,
              "#9c179e"
             ],
             [
              0.4444444444444444,
              "#bd3786"
             ],
             [
              0.5555555555555556,
              "#d8576b"
             ],
             [
              0.6666666666666666,
              "#ed7953"
             ],
             [
              0.7777777777777778,
              "#fb9f3a"
             ],
             [
              0.8888888888888888,
              "#fdca26"
             ],
             [
              1,
              "#f0f921"
             ]
            ],
            "type": "heatmap"
           }
          ],
          "heatmapgl": [
           {
            "colorbar": {
             "outlinewidth": 0,
             "ticks": ""
            },
            "colorscale": [
             [
              0,
              "#0d0887"
             ],
             [
              0.1111111111111111,
              "#46039f"
             ],
             [
              0.2222222222222222,
              "#7201a8"
             ],
             [
              0.3333333333333333,
              "#9c179e"
             ],
             [
              0.4444444444444444,
              "#bd3786"
             ],
             [
              0.5555555555555556,
              "#d8576b"
             ],
             [
              0.6666666666666666,
              "#ed7953"
             ],
             [
              0.7777777777777778,
              "#fb9f3a"
             ],
             [
              0.8888888888888888,
              "#fdca26"
             ],
             [
              1,
              "#f0f921"
             ]
            ],
            "type": "heatmapgl"
           }
          ],
          "histogram": [
           {
            "marker": {
             "colorbar": {
              "outlinewidth": 0,
              "ticks": ""
             }
            },
            "type": "histogram"
           }
          ],
          "histogram2d": [
           {
            "colorbar": {
             "outlinewidth": 0,
             "ticks": ""
            },
            "colorscale": [
             [
              0,
              "#0d0887"
             ],
             [
              0.1111111111111111,
              "#46039f"
             ],
             [
              0.2222222222222222,
              "#7201a8"
             ],
             [
              0.3333333333333333,
              "#9c179e"
             ],
             [
              0.4444444444444444,
              "#bd3786"
             ],
             [
              0.5555555555555556,
              "#d8576b"
             ],
             [
              0.6666666666666666,
              "#ed7953"
             ],
             [
              0.7777777777777778,
              "#fb9f3a"
             ],
             [
              0.8888888888888888,
              "#fdca26"
             ],
             [
              1,
              "#f0f921"
             ]
            ],
            "type": "histogram2d"
           }
          ],
          "histogram2dcontour": [
           {
            "colorbar": {
             "outlinewidth": 0,
             "ticks": ""
            },
            "colorscale": [
             [
              0,
              "#0d0887"
             ],
             [
              0.1111111111111111,
              "#46039f"
             ],
             [
              0.2222222222222222,
              "#7201a8"
             ],
             [
              0.3333333333333333,
              "#9c179e"
             ],
             [
              0.4444444444444444,
              "#bd3786"
             ],
             [
              0.5555555555555556,
              "#d8576b"
             ],
             [
              0.6666666666666666,
              "#ed7953"
             ],
             [
              0.7777777777777778,
              "#fb9f3a"
             ],
             [
              0.8888888888888888,
              "#fdca26"
             ],
             [
              1,
              "#f0f921"
             ]
            ],
            "type": "histogram2dcontour"
           }
          ],
          "mesh3d": [
           {
            "colorbar": {
             "outlinewidth": 0,
             "ticks": ""
            },
            "type": "mesh3d"
           }
          ],
          "parcoords": [
           {
            "line": {
             "colorbar": {
              "outlinewidth": 0,
              "ticks": ""
             }
            },
            "type": "parcoords"
           }
          ],
          "pie": [
           {
            "automargin": true,
            "type": "pie"
           }
          ],
          "scatter": [
           {
            "marker": {
             "colorbar": {
              "outlinewidth": 0,
              "ticks": ""
             }
            },
            "type": "scatter"
           }
          ],
          "scatter3d": [
           {
            "line": {
             "colorbar": {
              "outlinewidth": 0,
              "ticks": ""
             }
            },
            "marker": {
             "colorbar": {
              "outlinewidth": 0,
              "ticks": ""
             }
            },
            "type": "scatter3d"
           }
          ],
          "scattercarpet": [
           {
            "marker": {
             "colorbar": {
              "outlinewidth": 0,
              "ticks": ""
             }
            },
            "type": "scattercarpet"
           }
          ],
          "scattergeo": [
           {
            "marker": {
             "colorbar": {
              "outlinewidth": 0,
              "ticks": ""
             }
            },
            "type": "scattergeo"
           }
          ],
          "scattergl": [
           {
            "marker": {
             "colorbar": {
              "outlinewidth": 0,
              "ticks": ""
             }
            },
            "type": "scattergl"
           }
          ],
          "scattermapbox": [
           {
            "marker": {
             "colorbar": {
              "outlinewidth": 0,
              "ticks": ""
             }
            },
            "type": "scattermapbox"
           }
          ],
          "scatterpolar": [
           {
            "marker": {
             "colorbar": {
              "outlinewidth": 0,
              "ticks": ""
             }
            },
            "type": "scatterpolar"
           }
          ],
          "scatterpolargl": [
           {
            "marker": {
             "colorbar": {
              "outlinewidth": 0,
              "ticks": ""
             }
            },
            "type": "scatterpolargl"
           }
          ],
          "scatterternary": [
           {
            "marker": {
             "colorbar": {
              "outlinewidth": 0,
              "ticks": ""
             }
            },
            "type": "scatterternary"
           }
          ],
          "surface": [
           {
            "colorbar": {
             "outlinewidth": 0,
             "ticks": ""
            },
            "colorscale": [
             [
              0,
              "#0d0887"
             ],
             [
              0.1111111111111111,
              "#46039f"
             ],
             [
              0.2222222222222222,
              "#7201a8"
             ],
             [
              0.3333333333333333,
              "#9c179e"
             ],
             [
              0.4444444444444444,
              "#bd3786"
             ],
             [
              0.5555555555555556,
              "#d8576b"
             ],
             [
              0.6666666666666666,
              "#ed7953"
             ],
             [
              0.7777777777777778,
              "#fb9f3a"
             ],
             [
              0.8888888888888888,
              "#fdca26"
             ],
             [
              1,
              "#f0f921"
             ]
            ],
            "type": "surface"
           }
          ],
          "table": [
           {
            "cells": {
             "fill": {
              "color": "#EBF0F8"
             },
             "line": {
              "color": "white"
             }
            },
            "header": {
             "fill": {
              "color": "#C8D4E3"
             },
             "line": {
              "color": "white"
             }
            },
            "type": "table"
           }
          ]
         },
         "layout": {
          "annotationdefaults": {
           "arrowcolor": "#2a3f5f",
           "arrowhead": 0,
           "arrowwidth": 1
          },
          "coloraxis": {
           "colorbar": {
            "outlinewidth": 0,
            "ticks": ""
           }
          },
          "colorscale": {
           "diverging": [
            [
             0,
             "#8e0152"
            ],
            [
             0.1,
             "#c51b7d"
            ],
            [
             0.2,
             "#de77ae"
            ],
            [
             0.3,
             "#f1b6da"
            ],
            [
             0.4,
             "#fde0ef"
            ],
            [
             0.5,
             "#f7f7f7"
            ],
            [
             0.6,
             "#e6f5d0"
            ],
            [
             0.7,
             "#b8e186"
            ],
            [
             0.8,
             "#7fbc41"
            ],
            [
             0.9,
             "#4d9221"
            ],
            [
             1,
             "#276419"
            ]
           ],
           "sequential": [
            [
             0,
             "#0d0887"
            ],
            [
             0.1111111111111111,
             "#46039f"
            ],
            [
             0.2222222222222222,
             "#7201a8"
            ],
            [
             0.3333333333333333,
             "#9c179e"
            ],
            [
             0.4444444444444444,
             "#bd3786"
            ],
            [
             0.5555555555555556,
             "#d8576b"
            ],
            [
             0.6666666666666666,
             "#ed7953"
            ],
            [
             0.7777777777777778,
             "#fb9f3a"
            ],
            [
             0.8888888888888888,
             "#fdca26"
            ],
            [
             1,
             "#f0f921"
            ]
           ],
           "sequentialminus": [
            [
             0,
             "#0d0887"
            ],
            [
             0.1111111111111111,
             "#46039f"
            ],
            [
             0.2222222222222222,
             "#7201a8"
            ],
            [
             0.3333333333333333,
             "#9c179e"
            ],
            [
             0.4444444444444444,
             "#bd3786"
            ],
            [
             0.5555555555555556,
             "#d8576b"
            ],
            [
             0.6666666666666666,
             "#ed7953"
            ],
            [
             0.7777777777777778,
             "#fb9f3a"
            ],
            [
             0.8888888888888888,
             "#fdca26"
            ],
            [
             1,
             "#f0f921"
            ]
           ]
          },
          "colorway": [
           "#636efa",
           "#EF553B",
           "#00cc96",
           "#ab63fa",
           "#FFA15A",
           "#19d3f3",
           "#FF6692",
           "#B6E880",
           "#FF97FF",
           "#FECB52"
          ],
          "font": {
           "color": "#2a3f5f"
          },
          "geo": {
           "bgcolor": "white",
           "lakecolor": "white",
           "landcolor": "#E5ECF6",
           "showlakes": true,
           "showland": true,
           "subunitcolor": "white"
          },
          "hoverlabel": {
           "align": "left"
          },
          "hovermode": "closest",
          "mapbox": {
           "style": "light"
          },
          "paper_bgcolor": "white",
          "plot_bgcolor": "#E5ECF6",
          "polar": {
           "angularaxis": {
            "gridcolor": "white",
            "linecolor": "white",
            "ticks": ""
           },
           "bgcolor": "#E5ECF6",
           "radialaxis": {
            "gridcolor": "white",
            "linecolor": "white",
            "ticks": ""
           }
          },
          "scene": {
           "xaxis": {
            "backgroundcolor": "#E5ECF6",
            "gridcolor": "white",
            "gridwidth": 2,
            "linecolor": "white",
            "showbackground": true,
            "ticks": "",
            "zerolinecolor": "white"
           },
           "yaxis": {
            "backgroundcolor": "#E5ECF6",
            "gridcolor": "white",
            "gridwidth": 2,
            "linecolor": "white",
            "showbackground": true,
            "ticks": "",
            "zerolinecolor": "white"
           },
           "zaxis": {
            "backgroundcolor": "#E5ECF6",
            "gridcolor": "white",
            "gridwidth": 2,
            "linecolor": "white",
            "showbackground": true,
            "ticks": "",
            "zerolinecolor": "white"
           }
          },
          "shapedefaults": {
           "line": {
            "color": "#2a3f5f"
           }
          },
          "ternary": {
           "aaxis": {
            "gridcolor": "white",
            "linecolor": "white",
            "ticks": ""
           },
           "baxis": {
            "gridcolor": "white",
            "linecolor": "white",
            "ticks": ""
           },
           "bgcolor": "#E5ECF6",
           "caxis": {
            "gridcolor": "white",
            "linecolor": "white",
            "ticks": ""
           }
          },
          "title": {
           "x": 0.05
          },
          "xaxis": {
           "automargin": true,
           "gridcolor": "white",
           "linecolor": "white",
           "ticks": "",
           "title": {
            "standoff": 15
           },
           "zerolinecolor": "white",
           "zerolinewidth": 2
          },
          "yaxis": {
           "automargin": true,
           "gridcolor": "white",
           "linecolor": "white",
           "ticks": "",
           "title": {
            "standoff": 15
           },
           "zerolinecolor": "white",
           "zerolinewidth": 2
          }
         }
        },
        "xaxis": {
         "anchor": "y",
         "domain": [
          0,
          1
         ],
         "title": {
          "text": "x"
         }
        },
        "yaxis": {
         "anchor": "x",
         "domain": [
          0,
          1
         ],
         "title": {
          "text": "y"
         }
        }
       }
      }
     },
     "metadata": {}
    }
   ],
   "source": [
    "fig = px.scatter(x=[0, 1, 2, 3, 4], y=[0, 1, 4, 9, 16])\n",
    "fig.show()"
   ]
  },
  {
   "cell_type": "code",
   "execution_count": 15,
   "metadata": {},
   "outputs": [
    {
     "output_type": "display_data",
     "data": {
      "application/vnd.plotly.v1+json": {
       "config": {
        "plotlyServerURL": "https://plot.ly"
       },
       "data": [
        {
         "labels": [
          "Oxygen",
          "Hydrogen",
          "Carbon_Dioxide",
          "Nitrogen"
         ],
         "type": "pie",
         "values": [
          4500,
          2500,
          1053,
          500
         ]
        }
       ],
       "layout": {
        "template": {
         "data": {
          "bar": [
           {
            "error_x": {
             "color": "#2a3f5f"
            },
            "error_y": {
             "color": "#2a3f5f"
            },
            "marker": {
             "line": {
              "color": "#E5ECF6",
              "width": 0.5
             }
            },
            "type": "bar"
           }
          ],
          "barpolar": [
           {
            "marker": {
             "line": {
              "color": "#E5ECF6",
              "width": 0.5
             }
            },
            "type": "barpolar"
           }
          ],
          "carpet": [
           {
            "aaxis": {
             "endlinecolor": "#2a3f5f",
             "gridcolor": "white",
             "linecolor": "white",
             "minorgridcolor": "white",
             "startlinecolor": "#2a3f5f"
            },
            "baxis": {
             "endlinecolor": "#2a3f5f",
             "gridcolor": "white",
             "linecolor": "white",
             "minorgridcolor": "white",
             "startlinecolor": "#2a3f5f"
            },
            "type": "carpet"
           }
          ],
          "choropleth": [
           {
            "colorbar": {
             "outlinewidth": 0,
             "ticks": ""
            },
            "type": "choropleth"
           }
          ],
          "contour": [
           {
            "colorbar": {
             "outlinewidth": 0,
             "ticks": ""
            },
            "colorscale": [
             [
              0,
              "#0d0887"
             ],
             [
              0.1111111111111111,
              "#46039f"
             ],
             [
              0.2222222222222222,
              "#7201a8"
             ],
             [
              0.3333333333333333,
              "#9c179e"
             ],
             [
              0.4444444444444444,
              "#bd3786"
             ],
             [
              0.5555555555555556,
              "#d8576b"
             ],
             [
              0.6666666666666666,
              "#ed7953"
             ],
             [
              0.7777777777777778,
              "#fb9f3a"
             ],
             [
              0.8888888888888888,
              "#fdca26"
             ],
             [
              1,
              "#f0f921"
             ]
            ],
            "type": "contour"
           }
          ],
          "contourcarpet": [
           {
            "colorbar": {
             "outlinewidth": 0,
             "ticks": ""
            },
            "type": "contourcarpet"
           }
          ],
          "heatmap": [
           {
            "colorbar": {
             "outlinewidth": 0,
             "ticks": ""
            },
            "colorscale": [
             [
              0,
              "#0d0887"
             ],
             [
              0.1111111111111111,
              "#46039f"
             ],
             [
              0.2222222222222222,
              "#7201a8"
             ],
             [
              0.3333333333333333,
              "#9c179e"
             ],
             [
              0.4444444444444444,
              "#bd3786"
             ],
             [
              0.5555555555555556,
              "#d8576b"
             ],
             [
              0.6666666666666666,
              "#ed7953"
             ],
             [
              0.7777777777777778,
              "#fb9f3a"
             ],
             [
              0.8888888888888888,
              "#fdca26"
             ],
             [
              1,
              "#f0f921"
             ]
            ],
            "type": "heatmap"
           }
          ],
          "heatmapgl": [
           {
            "colorbar": {
             "outlinewidth": 0,
             "ticks": ""
            },
            "colorscale": [
             [
              0,
              "#0d0887"
             ],
             [
              0.1111111111111111,
              "#46039f"
             ],
             [
              0.2222222222222222,
              "#7201a8"
             ],
             [
              0.3333333333333333,
              "#9c179e"
             ],
             [
              0.4444444444444444,
              "#bd3786"
             ],
             [
              0.5555555555555556,
              "#d8576b"
             ],
             [
              0.6666666666666666,
              "#ed7953"
             ],
             [
              0.7777777777777778,
              "#fb9f3a"
             ],
             [
              0.8888888888888888,
              "#fdca26"
             ],
             [
              1,
              "#f0f921"
             ]
            ],
            "type": "heatmapgl"
           }
          ],
          "histogram": [
           {
            "marker": {
             "colorbar": {
              "outlinewidth": 0,
              "ticks": ""
             }
            },
            "type": "histogram"
           }
          ],
          "histogram2d": [
           {
            "colorbar": {
             "outlinewidth": 0,
             "ticks": ""
            },
            "colorscale": [
             [
              0,
              "#0d0887"
             ],
             [
              0.1111111111111111,
              "#46039f"
             ],
             [
              0.2222222222222222,
              "#7201a8"
             ],
             [
              0.3333333333333333,
              "#9c179e"
             ],
             [
              0.4444444444444444,
              "#bd3786"
             ],
             [
              0.5555555555555556,
              "#d8576b"
             ],
             [
              0.6666666666666666,
              "#ed7953"
             ],
             [
              0.7777777777777778,
              "#fb9f3a"
             ],
             [
              0.8888888888888888,
              "#fdca26"
             ],
             [
              1,
              "#f0f921"
             ]
            ],
            "type": "histogram2d"
           }
          ],
          "histogram2dcontour": [
           {
            "colorbar": {
             "outlinewidth": 0,
             "ticks": ""
            },
            "colorscale": [
             [
              0,
              "#0d0887"
             ],
             [
              0.1111111111111111,
              "#46039f"
             ],
             [
              0.2222222222222222,
              "#7201a8"
             ],
             [
              0.3333333333333333,
              "#9c179e"
             ],
             [
              0.4444444444444444,
              "#bd3786"
             ],
             [
              0.5555555555555556,
              "#d8576b"
             ],
             [
              0.6666666666666666,
              "#ed7953"
             ],
             [
              0.7777777777777778,
              "#fb9f3a"
             ],
             [
              0.8888888888888888,
              "#fdca26"
             ],
             [
              1,
              "#f0f921"
             ]
            ],
            "type": "histogram2dcontour"
           }
          ],
          "mesh3d": [
           {
            "colorbar": {
             "outlinewidth": 0,
             "ticks": ""
            },
            "type": "mesh3d"
           }
          ],
          "parcoords": [
           {
            "line": {
             "colorbar": {
              "outlinewidth": 0,
              "ticks": ""
             }
            },
            "type": "parcoords"
           }
          ],
          "pie": [
           {
            "automargin": true,
            "type": "pie"
           }
          ],
          "scatter": [
           {
            "marker": {
             "colorbar": {
              "outlinewidth": 0,
              "ticks": ""
             }
            },
            "type": "scatter"
           }
          ],
          "scatter3d": [
           {
            "line": {
             "colorbar": {
              "outlinewidth": 0,
              "ticks": ""
             }
            },
            "marker": {
             "colorbar": {
              "outlinewidth": 0,
              "ticks": ""
             }
            },
            "type": "scatter3d"
           }
          ],
          "scattercarpet": [
           {
            "marker": {
             "colorbar": {
              "outlinewidth": 0,
              "ticks": ""
             }
            },
            "type": "scattercarpet"
           }
          ],
          "scattergeo": [
           {
            "marker": {
             "colorbar": {
              "outlinewidth": 0,
              "ticks": ""
             }
            },
            "type": "scattergeo"
           }
          ],
          "scattergl": [
           {
            "marker": {
             "colorbar": {
              "outlinewidth": 0,
              "ticks": ""
             }
            },
            "type": "scattergl"
           }
          ],
          "scattermapbox": [
           {
            "marker": {
             "colorbar": {
              "outlinewidth": 0,
              "ticks": ""
             }
            },
            "type": "scattermapbox"
           }
          ],
          "scatterpolar": [
           {
            "marker": {
             "colorbar": {
              "outlinewidth": 0,
              "ticks": ""
             }
            },
            "type": "scatterpolar"
           }
          ],
          "scatterpolargl": [
           {
            "marker": {
             "colorbar": {
              "outlinewidth": 0,
              "ticks": ""
             }
            },
            "type": "scatterpolargl"
           }
          ],
          "scatterternary": [
           {
            "marker": {
             "colorbar": {
              "outlinewidth": 0,
              "ticks": ""
             }
            },
            "type": "scatterternary"
           }
          ],
          "surface": [
           {
            "colorbar": {
             "outlinewidth": 0,
             "ticks": ""
            },
            "colorscale": [
             [
              0,
              "#0d0887"
             ],
             [
              0.1111111111111111,
              "#46039f"
             ],
             [
              0.2222222222222222,
              "#7201a8"
             ],
             [
              0.3333333333333333,
              "#9c179e"
             ],
             [
              0.4444444444444444,
              "#bd3786"
             ],
             [
              0.5555555555555556,
              "#d8576b"
             ],
             [
              0.6666666666666666,
              "#ed7953"
             ],
             [
              0.7777777777777778,
              "#fb9f3a"
             ],
             [
              0.8888888888888888,
              "#fdca26"
             ],
             [
              1,
              "#f0f921"
             ]
            ],
            "type": "surface"
           }
          ],
          "table": [
           {
            "cells": {
             "fill": {
              "color": "#EBF0F8"
             },
             "line": {
              "color": "white"
             }
            },
            "header": {
             "fill": {
              "color": "#C8D4E3"
             },
             "line": {
              "color": "white"
             }
            },
            "type": "table"
           }
          ]
         },
         "layout": {
          "annotationdefaults": {
           "arrowcolor": "#2a3f5f",
           "arrowhead": 0,
           "arrowwidth": 1
          },
          "coloraxis": {
           "colorbar": {
            "outlinewidth": 0,
            "ticks": ""
           }
          },
          "colorscale": {
           "diverging": [
            [
             0,
             "#8e0152"
            ],
            [
             0.1,
             "#c51b7d"
            ],
            [
             0.2,
             "#de77ae"
            ],
            [
             0.3,
             "#f1b6da"
            ],
            [
             0.4,
             "#fde0ef"
            ],
            [
             0.5,
             "#f7f7f7"
            ],
            [
             0.6,
             "#e6f5d0"
            ],
            [
             0.7,
             "#b8e186"
            ],
            [
             0.8,
             "#7fbc41"
            ],
            [
             0.9,
             "#4d9221"
            ],
            [
             1,
             "#276419"
            ]
           ],
           "sequential": [
            [
             0,
             "#0d0887"
            ],
            [
             0.1111111111111111,
             "#46039f"
            ],
            [
             0.2222222222222222,
             "#7201a8"
            ],
            [
             0.3333333333333333,
             "#9c179e"
            ],
            [
             0.4444444444444444,
             "#bd3786"
            ],
            [
             0.5555555555555556,
             "#d8576b"
            ],
            [
             0.6666666666666666,
             "#ed7953"
            ],
            [
             0.7777777777777778,
             "#fb9f3a"
            ],
            [
             0.8888888888888888,
             "#fdca26"
            ],
            [
             1,
             "#f0f921"
            ]
           ],
           "sequentialminus": [
            [
             0,
             "#0d0887"
            ],
            [
             0.1111111111111111,
             "#46039f"
            ],
            [
             0.2222222222222222,
             "#7201a8"
            ],
            [
             0.3333333333333333,
             "#9c179e"
            ],
            [
             0.4444444444444444,
             "#bd3786"
            ],
            [
             0.5555555555555556,
             "#d8576b"
            ],
            [
             0.6666666666666666,
             "#ed7953"
            ],
            [
             0.7777777777777778,
             "#fb9f3a"
            ],
            [
             0.8888888888888888,
             "#fdca26"
            ],
            [
             1,
             "#f0f921"
            ]
           ]
          },
          "colorway": [
           "#636efa",
           "#EF553B",
           "#00cc96",
           "#ab63fa",
           "#FFA15A",
           "#19d3f3",
           "#FF6692",
           "#B6E880",
           "#FF97FF",
           "#FECB52"
          ],
          "font": {
           "color": "#2a3f5f"
          },
          "geo": {
           "bgcolor": "white",
           "lakecolor": "white",
           "landcolor": "#E5ECF6",
           "showlakes": true,
           "showland": true,
           "subunitcolor": "white"
          },
          "hoverlabel": {
           "align": "left"
          },
          "hovermode": "closest",
          "mapbox": {
           "style": "light"
          },
          "paper_bgcolor": "white",
          "plot_bgcolor": "#E5ECF6",
          "polar": {
           "angularaxis": {
            "gridcolor": "white",
            "linecolor": "white",
            "ticks": ""
           },
           "bgcolor": "#E5ECF6",
           "radialaxis": {
            "gridcolor": "white",
            "linecolor": "white",
            "ticks": ""
           }
          },
          "scene": {
           "xaxis": {
            "backgroundcolor": "#E5ECF6",
            "gridcolor": "white",
            "gridwidth": 2,
            "linecolor": "white",
            "showbackground": true,
            "ticks": "",
            "zerolinecolor": "white"
           },
           "yaxis": {
            "backgroundcolor": "#E5ECF6",
            "gridcolor": "white",
            "gridwidth": 2,
            "linecolor": "white",
            "showbackground": true,
            "ticks": "",
            "zerolinecolor": "white"
           },
           "zaxis": {
            "backgroundcolor": "#E5ECF6",
            "gridcolor": "white",
            "gridwidth": 2,
            "linecolor": "white",
            "showbackground": true,
            "ticks": "",
            "zerolinecolor": "white"
           }
          },
          "shapedefaults": {
           "line": {
            "color": "#2a3f5f"
           }
          },
          "ternary": {
           "aaxis": {
            "gridcolor": "white",
            "linecolor": "white",
            "ticks": ""
           },
           "baxis": {
            "gridcolor": "white",
            "linecolor": "white",
            "ticks": ""
           },
           "bgcolor": "#E5ECF6",
           "caxis": {
            "gridcolor": "white",
            "linecolor": "white",
            "ticks": ""
           }
          },
          "title": {
           "x": 0.05
          },
          "xaxis": {
           "automargin": true,
           "gridcolor": "white",
           "linecolor": "white",
           "ticks": "",
           "title": {
            "standoff": 15
           },
           "zerolinecolor": "white",
           "zerolinewidth": 2
          },
          "yaxis": {
           "automargin": true,
           "gridcolor": "white",
           "linecolor": "white",
           "ticks": "",
           "title": {
            "standoff": 15
           },
           "zerolinecolor": "white",
           "zerolinewidth": 2
          }
         }
        }
       }
      }
     },
     "metadata": {}
    }
   ],
   "source": [
    "labels = ['Oxygen','Hydrogen','Carbon_Dioxide','Nitrogen']\n",
    "values = [4500, 2500, 1053, 500]\n",
    "\n",
    "fig = go.Figure(data=[go.Pie(labels=labels, values=values)])\n",
    "fig.show()\n"
   ]
  },
  {
   "cell_type": "code",
   "execution_count": 16,
   "metadata": {},
   "outputs": [],
   "source": [
    "import pandas as pd\n",
    "import numpy as np\n",
    "data = pd.read_csv('data.csv')"
   ]
  },
  {
   "cell_type": "code",
   "execution_count": 17,
   "metadata": {},
   "outputs": [],
   "source": [
    "#clean the titanic data\n",
    "data.replace('?', np.nan, inplace= True)\n",
    "data = data.astype({\"age\": np.float64, \"fare\": np.float64})"
   ]
  },
  {
   "cell_type": "code",
   "execution_count": 18,
   "metadata": {},
   "outputs": [
    {
     "output_type": "execute_result",
     "data": {
      "text/plain": [
       "<AxesSubplot:xlabel='survived', ylabel='fare'>"
      ]
     },
     "metadata": {},
     "execution_count": 18
    },
    {
     "output_type": "display_data",
     "data": {
      "text/plain": "<Figure size 2160x360 with 5 Axes>",
      "image/svg+xml": "<?xml version=\"1.0\" encoding=\"utf-8\" standalone=\"no\"?>\r\n<!DOCTYPE svg PUBLIC \"-//W3C//DTD SVG 1.1//EN\"\r\n  \"http://www.w3.org/Graphics/SVG/1.1/DTD/svg11.dtd\">\r\n<!-- Created with matplotlib (https://matplotlib.org/) -->\r\n<svg height=\"316.55625pt\" version=\"1.1\" viewBox=\"0 0 1721.803125 316.55625\" width=\"1721.803125pt\" xmlns=\"http://www.w3.org/2000/svg\" xmlns:xlink=\"http://www.w3.org/1999/xlink\">\r\n <metadata>\r\n  <rdf:RDF xmlns:cc=\"http://creativecommons.org/ns#\" xmlns:dc=\"http://purl.org/dc/elements/1.1/\" xmlns:rdf=\"http://www.w3.org/1999/02/22-rdf-syntax-ns#\">\r\n   <cc:Work>\r\n    <dc:type rdf:resource=\"http://purl.org/dc/dcmitype/StillImage\"/>\r\n    <dc:date>2021-01-13T11:18:32.389806</dc:date>\r\n    <dc:format>image/svg+xml</dc:format>\r\n    <dc:creator>\r\n     <cc:Agent>\r\n      <dc:title>Matplotlib v3.3.2, https://matplotlib.org/</dc:title>\r\n     </cc:Agent>\r\n    </dc:creator>\r\n   </cc:Work>\r\n  </rdf:RDF>\r\n </metadata>\r\n <defs>\r\n  <style type=\"text/css\">*{stroke-linecap:butt;stroke-linejoin:round;}</style>\r\n </defs>\r\n <g id=\"figure_1\">\r\n  <g id=\"patch_1\">\r\n   <path d=\"M 0 316.55625 \r\nL 1721.803125 316.55625 \r\nL 1721.803125 0 \r\nL 0 0 \r\nz\r\n\" style=\"fill:none;\"/>\r\n  </g>\r\n  <g id=\"axes_1\">\r\n   <g id=\"patch_2\">\r\n    <path d=\"M 40.603125 279 \r\nL 329.223815 279 \r\nL 329.223815 7.2 \r\nL 40.603125 7.2 \r\nz\r\n\" style=\"fill:#ffffff;\"/>\r\n   </g>\r\n   <g id=\"PolyCollection_1\">\r\n    <defs>\r\n     <path d=\"M 84.381996 -53.338627 \r\nL 83.410461 -53.338627 \r\nL 83.216486 -55.367088 \r\nL 82.966426 -57.395549 \r\nL 82.652629 -59.424011 \r\nL 82.269371 -61.452472 \r\nL 81.813858 -63.480933 \r\nL 81.2871 -65.509395 \r\nL 80.694495 -67.537856 \r\nL 80.045977 -69.566318 \r\nL 79.35563 -71.594779 \r\nL 78.640743 -73.62324 \r\nL 77.920395 -75.651702 \r\nL 77.213697 -77.680163 \r\nL 76.537938 -79.708624 \r\nL 75.906846 -81.737086 \r\nL 75.329188 -83.765547 \r\nL 74.80784 -85.794009 \r\nL 74.339405 -87.82247 \r\nL 73.914356 -89.850931 \r\nL 73.517657 -91.879393 \r\nL 73.129767 -93.907854 \r\nL 72.72798 -95.936315 \r\nL 72.288027 -97.964777 \r\nL 71.785929 -99.993238 \r\nL 71.200025 -102.0217 \r\nL 70.513086 -104.050161 \r\nL 69.714342 -106.078622 \r\nL 68.801195 -108.107084 \r\nL 67.780349 -110.135545 \r\nL 66.668131 -112.164006 \r\nL 65.489851 -114.192468 \r\nL 64.278204 -116.220929 \r\nL 63.070869 -118.249391 \r\nL 61.907623 -120.277852 \r\nL 60.82735 -122.306313 \r\nL 59.865377 -124.334775 \r\nL 59.051438 -126.363236 \r\nL 58.408472 -128.391697 \r\nL 57.952241 -130.420159 \r\nL 57.69162 -132.44862 \r\nL 57.629288 -134.477082 \r\nL 57.762502 -136.505543 \r\nL 58.083727 -138.534004 \r\nL 58.580988 -140.562466 \r\nL 59.237958 -142.590927 \r\nL 60.033967 -144.619388 \r\nL 60.944144 -146.64785 \r\nL 61.939958 -148.676311 \r\nL 62.990304 -150.704773 \r\nL 64.063163 -152.733234 \r\nL 65.1277 -154.761695 \r\nL 66.15651 -156.790157 \r\nL 67.127682 -158.818618 \r\nL 68.026336 -160.847079 \r\nL 68.845369 -162.875541 \r\nL 69.585331 -164.904002 \r\nL 70.253467 -166.932464 \r\nL 70.862116 -168.960925 \r\nL 71.426767 -170.989386 \r\nL 71.96404 -173.017848 \r\nL 72.489873 -175.046309 \r\nL 73.018063 -177.07477 \r\nL 73.559246 -179.103232 \r\nL 74.120317 -181.131693 \r\nL 74.70421 -183.160155 \r\nL 75.309988 -185.188616 \r\nL 75.933154 -187.217077 \r\nL 76.56615 -189.245539 \r\nL 77.199015 -191.274 \r\nL 77.820189 -193.302461 \r\nL 78.417437 -195.330923 \r\nL 78.978846 -197.359384 \r\nL 79.493831 -199.387846 \r\nL 79.954057 -201.416307 \r\nL 80.354169 -203.444768 \r\nL 80.692266 -205.47323 \r\nL 80.970029 -207.501691 \r\nL 81.192508 -209.530152 \r\nL 81.367579 -211.558614 \r\nL 81.505142 -213.587075 \r\nL 81.616154 -215.615537 \r\nL 81.711618 -217.643998 \r\nL 81.801635 -219.672459 \r\nL 81.894616 -221.700921 \r\nL 81.996738 -223.729382 \r\nL 82.111668 -225.757843 \r\nL 82.240566 -227.786305 \r\nL 82.38234 -229.814766 \r\nL 82.534086 -231.843228 \r\nL 82.691654 -233.871689 \r\nL 82.850261 -235.90015 \r\nL 83.005076 -237.928612 \r\nL 83.151707 -239.957073 \r\nL 83.28658 -241.985534 \r\nL 83.407147 -244.013996 \r\nL 83.511964 -246.042457 \r\nL 83.600638 -248.070919 \r\nL 83.673669 -250.09938 \r\nL 83.73225 -252.127841 \r\nL 83.778028 -254.156303 \r\nL 84.014429 -254.156303 \r\nL 84.014429 -254.156303 \r\nL 84.060207 -252.127841 \r\nL 84.118788 -250.09938 \r\nL 84.191819 -248.070919 \r\nL 84.280493 -246.042457 \r\nL 84.38531 -244.013996 \r\nL 84.505877 -241.985534 \r\nL 84.640749 -239.957073 \r\nL 84.787381 -237.928612 \r\nL 84.942195 -235.90015 \r\nL 85.100803 -233.871689 \r\nL 85.258371 -231.843228 \r\nL 85.410117 -229.814766 \r\nL 85.551891 -227.786305 \r\nL 85.680789 -225.757843 \r\nL 85.795719 -223.729382 \r\nL 85.897841 -221.700921 \r\nL 85.990822 -219.672459 \r\nL 86.080838 -217.643998 \r\nL 86.176303 -215.615537 \r\nL 86.287315 -213.587075 \r\nL 86.424878 -211.558614 \r\nL 86.599949 -209.530152 \r\nL 86.822428 -207.501691 \r\nL 87.100191 -205.47323 \r\nL 87.438288 -203.444768 \r\nL 87.8384 -201.416307 \r\nL 88.298626 -199.387846 \r\nL 88.813611 -197.359384 \r\nL 89.37502 -195.330923 \r\nL 89.972267 -193.302461 \r\nL 90.593442 -191.274 \r\nL 91.226307 -189.245539 \r\nL 91.859302 -187.217077 \r\nL 92.482468 -185.188616 \r\nL 93.088247 -183.160155 \r\nL 93.67214 -181.131693 \r\nL 94.23321 -179.103232 \r\nL 94.774394 -177.07477 \r\nL 95.302584 -175.046309 \r\nL 95.828417 -173.017848 \r\nL 96.36569 -170.989386 \r\nL 96.93034 -168.960925 \r\nL 97.53899 -166.932464 \r\nL 98.207125 -164.904002 \r\nL 98.947088 -162.875541 \r\nL 99.766121 -160.847079 \r\nL 100.664775 -158.818618 \r\nL 101.635947 -156.790157 \r\nL 102.664757 -154.761695 \r\nL 103.729294 -152.733234 \r\nL 104.802153 -150.704773 \r\nL 105.852499 -148.676311 \r\nL 106.848312 -146.64785 \r\nL 107.75849 -144.619388 \r\nL 108.554499 -142.590927 \r\nL 109.211469 -140.562466 \r\nL 109.708729 -138.534004 \r\nL 110.029955 -136.505543 \r\nL 110.163168 -134.477082 \r\nL 110.100836 -132.44862 \r\nL 109.840216 -130.420159 \r\nL 109.383985 -128.391697 \r\nL 108.741019 -126.363236 \r\nL 107.92708 -124.334775 \r\nL 106.965107 -122.306313 \r\nL 105.884834 -120.277852 \r\nL 104.721588 -118.249391 \r\nL 103.514253 -116.220929 \r\nL 102.302606 -114.192468 \r\nL 101.124326 -112.164006 \r\nL 100.012108 -110.135545 \r\nL 98.991262 -108.107084 \r\nL 98.078115 -106.078622 \r\nL 97.279371 -104.050161 \r\nL 96.592432 -102.0217 \r\nL 96.006528 -99.993238 \r\nL 95.50443 -97.964777 \r\nL 95.064477 -95.936315 \r\nL 94.66269 -93.907854 \r\nL 94.2748 -91.879393 \r\nL 93.8781 -89.850931 \r\nL 93.453052 -87.82247 \r\nL 92.984617 -85.794009 \r\nL 92.463269 -83.765547 \r\nL 91.885611 -81.737086 \r\nL 91.254519 -79.708624 \r\nL 90.57876 -77.680163 \r\nL 89.872062 -75.651702 \r\nL 89.151714 -73.62324 \r\nL 88.436827 -71.594779 \r\nL 87.746479 -69.566318 \r\nL 87.097962 -67.537856 \r\nL 86.505357 -65.509395 \r\nL 85.978599 -63.480933 \r\nL 85.523086 -61.452472 \r\nL 85.139828 -59.424011 \r\nL 84.82603 -57.395549 \r\nL 84.575971 -55.367088 \r\nL 84.381996 -53.338627 \r\nz\r\n\" id=\"m9088d8769c\" style=\"stroke:#3f3f3f;stroke-width:1.5;\"/>\r\n    </defs>\r\n    <g clip-path=\"url(#p0023a8f1a8)\">\r\n     <use style=\"fill:#3274a1;stroke:#3f3f3f;stroke-width:1.5;\" x=\"0\" xlink:href=\"#m9088d8769c\" y=\"316.55625\"/>\r\n    </g>\r\n   </g>\r\n   <g id=\"PolyCollection_2\">\r\n    <defs>\r\n     <path d=\"M 141.726824 -58.768511 \r\nL 141.513908 -58.768511 \r\nL 141.445872 -60.937893 \r\nL 141.347526 -63.107275 \r\nL 141.213032 -65.276657 \r\nL 141.039096 -67.44604 \r\nL 140.826464 -69.615422 \r\nL 140.580883 -71.784804 \r\nL 140.313054 -73.954186 \r\nL 140.037355 -76.123568 \r\nL 139.769493 -78.292951 \r\nL 139.523569 -80.462333 \r\nL 139.309252 -82.631715 \r\nL 139.129637 -84.801097 \r\nL 138.980076 -86.970479 \r\nL 138.847826 -89.139861 \r\nL 138.712128 -91.309244 \r\nL 138.544318 -93.478626 \r\nL 138.30789 -95.648008 \r\nL 137.958893 -97.81739 \r\nL 137.447473 -99.986772 \r\nL 136.72143 -102.156155 \r\nL 135.732295 -104.325537 \r\nL 134.443592 -106.494919 \r\nL 132.839934 -108.664301 \r\nL 130.934786 -110.833683 \r\nL 128.7745 -113.003066 \r\nL 126.436872 -115.172448 \r\nL 124.023781 -117.34183 \r\nL 121.649126 -119.511212 \r\nL 119.424614 -121.680594 \r\nL 117.446494 -123.849977 \r\nL 115.785962 -126.019359 \r\nL 114.484757 -128.188741 \r\nL 113.556062 -130.358123 \r\nL 112.989495 -132.527505 \r\nL 112.758297 -134.696888 \r\nL 112.826666 -136.86627 \r\nL 113.155633 -139.035652 \r\nL 113.706628 -141.205034 \r\nL 114.442705 -143.374416 \r\nL 115.328093 -145.543798 \r\nL 116.327108 -147.713181 \r\nL 117.403426 -149.882563 \r\nL 118.520346 -152.051945 \r\nL 119.642148 -154.221327 \r\nL 120.736247 -156.390709 \r\nL 121.775635 -158.560092 \r\nL 122.741145 -160.729474 \r\nL 123.623118 -162.898856 \r\nL 124.422106 -165.068238 \r\nL 125.148219 -167.23762 \r\nL 125.818846 -169.407003 \r\nL 126.454898 -171.576385 \r\nL 127.076265 -173.745767 \r\nL 127.697711 -175.915149 \r\nL 128.326483 -178.084531 \r\nL 128.962376 -180.253914 \r\nL 129.600038 -182.423296 \r\nL 130.232408 -184.592678 \r\nL 130.853771 -186.76206 \r\nL 131.461232 -188.931442 \r\nL 132.054227 -191.100825 \r\nL 132.632624 -193.270207 \r\nL 133.194543 -195.439589 \r\nL 133.735028 -197.608971 \r\nL 134.246176 -199.778353 \r\nL 134.718666 -201.947735 \r\nL 135.144024 -204.117118 \r\nL 135.51678 -206.2865 \r\nL 135.835857 -208.455882 \r\nL 136.104946 -210.625264 \r\nL 136.332034 -212.794646 \r\nL 136.528414 -214.964029 \r\nL 136.707472 -217.133411 \r\nL 136.883321 -219.302793 \r\nL 137.069267 -221.472175 \r\nL 137.276096 -223.641557 \r\nL 137.510411 -225.81094 \r\nL 137.773429 -227.980322 \r\nL 138.060709 -230.149704 \r\nL 138.363102 -232.319086 \r\nL 138.668843 -234.488468 \r\nL 138.966281 -236.657851 \r\nL 139.246468 -238.827233 \r\nL 139.504839 -240.996615 \r\nL 139.741476 -243.165997 \r\nL 139.959969 -245.335379 \r\nL 140.165361 -247.504761 \r\nL 140.361945 -249.674144 \r\nL 140.551682 -251.843526 \r\nL 140.733669 -254.012908 \r\nL 140.904682 -256.18229 \r\nL 141.060401 -258.351672 \r\nL 141.196808 -260.521055 \r\nL 141.311275 -262.690437 \r\nL 141.403094 -264.859819 \r\nL 141.473427 -267.029201 \r\nL 141.524856 -269.198583 \r\nL 141.560753 -271.367966 \r\nL 141.584669 -273.537348 \r\nL 141.656064 -273.537348 \r\nL 141.656064 -273.537348 \r\nL 141.67998 -271.367966 \r\nL 141.715877 -269.198583 \r\nL 141.767306 -267.029201 \r\nL 141.837639 -264.859819 \r\nL 141.929457 -262.690437 \r\nL 142.043925 -260.521055 \r\nL 142.180332 -258.351672 \r\nL 142.336051 -256.18229 \r\nL 142.507063 -254.012908 \r\nL 142.689051 -251.843526 \r\nL 142.878788 -249.674144 \r\nL 143.075372 -247.504761 \r\nL 143.280764 -245.335379 \r\nL 143.499257 -243.165997 \r\nL 143.735894 -240.996615 \r\nL 143.994265 -238.827233 \r\nL 144.274452 -236.657851 \r\nL 144.57189 -234.488468 \r\nL 144.877631 -232.319086 \r\nL 145.180024 -230.149704 \r\nL 145.467303 -227.980322 \r\nL 145.730322 -225.81094 \r\nL 145.964637 -223.641557 \r\nL 146.171466 -221.472175 \r\nL 146.357411 -219.302793 \r\nL 146.533261 -217.133411 \r\nL 146.712319 -214.964029 \r\nL 146.908699 -212.794646 \r\nL 147.135786 -210.625264 \r\nL 147.404876 -208.455882 \r\nL 147.723952 -206.2865 \r\nL 148.096708 -204.117118 \r\nL 148.522066 -201.947735 \r\nL 148.994556 -199.778353 \r\nL 149.505705 -197.608971 \r\nL 150.04619 -195.439589 \r\nL 150.608109 -193.270207 \r\nL 151.186505 -191.100825 \r\nL 151.7795 -188.931442 \r\nL 152.386962 -186.76206 \r\nL 153.008325 -184.592678 \r\nL 153.640694 -182.423296 \r\nL 154.278357 -180.253914 \r\nL 154.91425 -178.084531 \r\nL 155.543022 -175.915149 \r\nL 156.164468 -173.745767 \r\nL 156.785835 -171.576385 \r\nL 157.421887 -169.407003 \r\nL 158.092514 -167.23762 \r\nL 158.818626 -165.068238 \r\nL 159.617615 -162.898856 \r\nL 160.499588 -160.729474 \r\nL 161.465098 -158.560092 \r\nL 162.504486 -156.390709 \r\nL 163.598584 -154.221327 \r\nL 164.720387 -152.051945 \r\nL 165.837307 -149.882563 \r\nL 166.913625 -147.713181 \r\nL 167.91264 -145.543798 \r\nL 168.798027 -143.374416 \r\nL 169.534104 -141.205034 \r\nL 170.085099 -139.035652 \r\nL 170.414066 -136.86627 \r\nL 170.482435 -134.696888 \r\nL 170.251238 -132.527505 \r\nL 169.684671 -130.358123 \r\nL 168.755975 -128.188741 \r\nL 167.454771 -126.019359 \r\nL 165.794238 -123.849977 \r\nL 163.816119 -121.680594 \r\nL 161.591607 -119.511212 \r\nL 159.216952 -117.34183 \r\nL 156.803861 -115.172448 \r\nL 154.466233 -113.003066 \r\nL 152.305947 -110.833683 \r\nL 150.400798 -108.664301 \r\nL 148.797141 -106.494919 \r\nL 147.508437 -104.325537 \r\nL 146.519303 -102.156155 \r\nL 145.79326 -99.986772 \r\nL 145.28184 -97.81739 \r\nL 144.932843 -95.648008 \r\nL 144.696415 -93.478626 \r\nL 144.528605 -91.309244 \r\nL 144.392907 -89.139861 \r\nL 144.260656 -86.970479 \r\nL 144.111096 -84.801097 \r\nL 143.931481 -82.631715 \r\nL 143.717164 -80.462333 \r\nL 143.47124 -78.292951 \r\nL 143.203378 -76.123568 \r\nL 142.927679 -73.954186 \r\nL 142.659849 -71.784804 \r\nL 142.414269 -69.615422 \r\nL 142.201637 -67.44604 \r\nL 142.0277 -65.276657 \r\nL 141.893207 -63.107275 \r\nL 141.794861 -60.937893 \r\nL 141.726824 -58.768511 \r\nz\r\n\" id=\"m4dc8654f9c\" style=\"stroke:#3f3f3f;stroke-width:1.5;\"/>\r\n    </defs>\r\n    <g clip-path=\"url(#p0023a8f1a8)\">\r\n     <use style=\"fill:#e1812c;stroke:#3f3f3f;stroke-width:1.5;\" x=\"0\" xlink:href=\"#m4dc8654f9c\" y=\"316.55625\"/>\r\n    </g>\r\n   </g>\r\n   <g id=\"PolyCollection_3\">\r\n    <defs>\r\n     <path d=\"M 228.531603 -54.52508 \r\nL 227.881543 -54.52508 \r\nL 227.701445 -56.824654 \r\nL 227.450079 -59.124227 \r\nL 227.114329 -61.423801 \r\nL 226.685497 -63.723375 \r\nL 226.162329 -66.022949 \r\nL 225.553598 -68.322523 \r\nL 224.879476 -70.622097 \r\nL 224.171001 -72.921671 \r\nL 223.467248 -75.221245 \r\nL 222.810281 -77.520818 \r\nL 222.238519 -79.820392 \r\nL 221.779592 -82.119966 \r\nL 221.444008 -84.41954 \r\nL 221.220904 -86.719114 \r\nL 221.076858 -89.018688 \r\nL 220.95819 -91.318262 \r\nL 220.796595 -93.617835 \r\nL 220.517392 -95.917409 \r\nL 220.049193 -98.216983 \r\nL 219.333577 -100.516557 \r\nL 218.333313 -102.816131 \r\nL 217.037908 -105.115705 \r\nL 215.465677 -107.415279 \r\nL 213.662146 -109.714852 \r\nL 211.695189 -112.014426 \r\nL 209.647858 -114.314 \r\nL 207.610081 -116.613574 \r\nL 205.670429 -118.913148 \r\nL 203.908818 -121.212722 \r\nL 202.390674 -123.512296 \r\nL 201.162724 -125.811869 \r\nL 200.250492 -128.111443 \r\nL 199.657586 -130.411017 \r\nL 199.366989 -132.710591 \r\nL 199.344504 -135.010165 \r\nL 199.544227 -137.309739 \r\nL 199.91543 -139.609313 \r\nL 200.409788 -141.908887 \r\nL 200.987591 -144.20846 \r\nL 201.621762 -146.508034 \r\nL 202.298979 -148.807608 \r\nL 203.017904 -151.107182 \r\nL 203.785161 -153.406756 \r\nL 204.6101 -155.70633 \r\nL 205.499512 -158.005904 \r\nL 206.453308 -160.305477 \r\nL 207.461888 -162.605051 \r\nL 208.505618 -164.904625 \r\nL 209.556438 -167.204199 \r\nL 210.581339 -169.503773 \r\nL 211.547076 -171.803347 \r\nL 212.425238 -174.102921 \r\nL 213.1967 -176.402494 \r\nL 213.854515 -178.702068 \r\nL 214.404669 -181.001642 \r\nL 214.864536 -183.301216 \r\nL 215.259437 -185.60079 \r\nL 215.618082 -187.900364 \r\nL 215.967928 -190.199938 \r\nL 216.331387 -192.499512 \r\nL 216.72355 -194.799085 \r\nL 217.151621 -197.098659 \r\nL 217.615876 -199.398233 \r\nL 218.11161 -201.697807 \r\nL 218.631449 -203.997381 \r\nL 219.167481 -206.296955 \r\nL 219.712835 -208.596529 \r\nL 220.262571 -210.896102 \r\nL 220.813927 -213.195676 \r\nL 221.366027 -215.49525 \r\nL 221.91923 -217.794824 \r\nL 222.474233 -220.094398 \r\nL 223.031076 -222.393972 \r\nL 223.588193 -224.693546 \r\nL 224.141683 -226.993119 \r\nL 224.68498 -229.292693 \r\nL 225.209061 -231.592267 \r\nL 225.703225 -233.891841 \r\nL 226.15636 -236.191415 \r\nL 226.558462 -238.490989 \r\nL 226.902117 -240.790563 \r\nL 227.183639 -243.090137 \r\nL 227.403636 -245.38971 \r\nL 227.566894 -247.689284 \r\nL 227.681637 -249.988858 \r\nL 227.758321 -252.288432 \r\nL 227.808188 -254.588006 \r\nL 227.84187 -256.88758 \r\nL 227.868243 -259.187154 \r\nL 227.893709 -261.486727 \r\nL 227.921964 -263.786301 \r\nL 227.954227 -266.085875 \r\nL 227.989802 -268.385449 \r\nL 228.026827 -270.685023 \r\nL 228.063022 -272.984597 \r\nL 228.096298 -275.284171 \r\nL 228.125154 -277.583744 \r\nL 228.148821 -279.883318 \r\nL 228.167229 -282.182892 \r\nL 228.245918 -282.182892 \r\nL 228.245918 -282.182892 \r\nL 228.264326 -279.883318 \r\nL 228.287993 -277.583744 \r\nL 228.316848 -275.284171 \r\nL 228.350125 -272.984597 \r\nL 228.386319 -270.685023 \r\nL 228.423344 -268.385449 \r\nL 228.458919 -266.085875 \r\nL 228.491182 -263.786301 \r\nL 228.519438 -261.486727 \r\nL 228.544903 -259.187154 \r\nL 228.571276 -256.88758 \r\nL 228.604958 -254.588006 \r\nL 228.654826 -252.288432 \r\nL 228.731509 -249.988858 \r\nL 228.846253 -247.689284 \r\nL 229.00951 -245.38971 \r\nL 229.229507 -243.090137 \r\nL 229.51103 -240.790563 \r\nL 229.854685 -238.490989 \r\nL 230.256787 -236.191415 \r\nL 230.709922 -233.891841 \r\nL 231.204086 -231.592267 \r\nL 231.728166 -229.292693 \r\nL 232.271464 -226.993119 \r\nL 232.824954 -224.693546 \r\nL 233.382071 -222.393972 \r\nL 233.938914 -220.094398 \r\nL 234.493917 -217.794824 \r\nL 235.04712 -215.49525 \r\nL 235.59922 -213.195676 \r\nL 236.150575 -210.896102 \r\nL 236.700312 -208.596529 \r\nL 237.245665 -206.296955 \r\nL 237.781697 -203.997381 \r\nL 238.301536 -201.697807 \r\nL 238.79727 -199.398233 \r\nL 239.261526 -197.098659 \r\nL 239.689597 -194.799085 \r\nL 240.081759 -192.499512 \r\nL 240.445219 -190.199938 \r\nL 240.795065 -187.900364 \r\nL 241.15371 -185.60079 \r\nL 241.548611 -183.301216 \r\nL 242.008478 -181.001642 \r\nL 242.558631 -178.702068 \r\nL 243.216446 -176.402494 \r\nL 243.987908 -174.102921 \r\nL 244.866071 -171.803347 \r\nL 245.831807 -169.503773 \r\nL 246.856708 -167.204199 \r\nL 247.907528 -164.904625 \r\nL 248.951258 -162.605051 \r\nL 249.959839 -160.305477 \r\nL 250.913634 -158.005904 \r\nL 251.803046 -155.70633 \r\nL 252.627985 -153.406756 \r\nL 253.395242 -151.107182 \r\nL 254.114168 -148.807608 \r\nL 254.791384 -146.508034 \r\nL 255.425555 -144.20846 \r\nL 256.003358 -141.908887 \r\nL 256.497717 -139.609313 \r\nL 256.86892 -137.309739 \r\nL 257.068642 -135.010165 \r\nL 257.046158 -132.710591 \r\nL 256.755561 -130.411017 \r\nL 256.162655 -128.111443 \r\nL 255.250423 -125.811869 \r\nL 254.022473 -123.512296 \r\nL 252.504328 -121.212722 \r\nL 250.742717 -118.913148 \r\nL 248.803065 -116.613574 \r\nL 246.765289 -114.314 \r\nL 244.717958 -112.014426 \r\nL 242.751001 -109.714852 \r\nL 240.947469 -107.415279 \r\nL 239.375239 -105.115705 \r\nL 238.079834 -102.816131 \r\nL 237.07957 -100.516557 \r\nL 236.363953 -98.216983 \r\nL 235.895754 -95.917409 \r\nL 235.616551 -93.617835 \r\nL 235.454957 -91.318262 \r\nL 235.336288 -89.018688 \r\nL 235.192243 -86.719114 \r\nL 234.969139 -84.41954 \r\nL 234.633554 -82.119966 \r\nL 234.174628 -79.820392 \r\nL 233.602866 -77.520818 \r\nL 232.945898 -75.221245 \r\nL 232.242145 -72.921671 \r\nL 231.533671 -70.622097 \r\nL 230.859548 -68.322523 \r\nL 230.250817 -66.022949 \r\nL 229.72765 -63.723375 \r\nL 229.298818 -61.423801 \r\nL 228.963068 -59.124227 \r\nL 228.711701 -56.824654 \r\nL 228.531603 -54.52508 \r\nz\r\n\" id=\"m720d193769\" style=\"stroke:#3f3f3f;stroke-width:1.5;\"/>\r\n    </defs>\r\n    <g clip-path=\"url(#p0023a8f1a8)\">\r\n     <use style=\"fill:#3274a1;stroke:#3f3f3f;stroke-width:1.5;\" x=\"0\" xlink:href=\"#m720d193769\" y=\"316.55625\"/>\r\n    </g>\r\n   </g>\r\n   <g id=\"PolyCollection_4\">\r\n    <defs>\r\n     <path d=\"M 286.710078 -49.910795 \r\nL 285.151344 -49.910795 \r\nL 284.794635 -52.406663 \r\nL 284.323061 -54.902531 \r\nL 283.721643 -57.398399 \r\nL 282.982253 -59.894267 \r\nL 282.106806 -62.390134 \r\nL 281.109777 -64.886002 \r\nL 280.019365 -67.38187 \r\nL 278.876763 -69.877738 \r\nL 277.733291 -72.373605 \r\nL 276.645546 -74.869473 \r\nL 275.669171 -77.365341 \r\nL 274.852166 -79.861209 \r\nL 274.22882 -82.357076 \r\nL 273.815199 -84.852944 \r\nL 273.606869 -87.348812 \r\nL 273.579055 -89.84468 \r\nL 273.689027 -92.340548 \r\nL 273.880196 -94.836415 \r\nL 274.087256 -97.332283 \r\nL 274.241743 -99.828151 \r\nL 274.277528 -102.324019 \r\nL 274.135922 -104.819886 \r\nL 273.770185 -107.315754 \r\nL 273.149287 -109.811622 \r\nL 272.260705 -112.30749 \r\nL 271.112046 -114.803357 \r\nL 269.731221 -117.299225 \r\nL 268.165035 -119.795093 \r\nL 266.476156 -122.290961 \r\nL 264.738666 -124.786829 \r\nL 263.032606 -127.282696 \r\nL 261.438063 -129.778564 \r\nL 260.029432 -132.274432 \r\nL 258.870418 -134.7703 \r\nL 258.010222 -137.266167 \r\nL 257.481145 -139.762035 \r\nL 257.297662 -142.257903 \r\nL 257.456803 -144.753771 \r\nL 257.939595 -147.249638 \r\nL 258.71328 -149.745506 \r\nL 259.734007 -152.241374 \r\nL 260.949831 -154.737242 \r\nL 262.303854 -157.23311 \r\nL 263.73747 -159.728977 \r\nL 265.193609 -162.224845 \r\nL 266.619922 -164.720713 \r\nL 267.971709 -167.216581 \r\nL 269.214406 -169.712448 \r\nL 270.325357 -172.208316 \r\nL 271.294661 -174.704184 \r\nL 272.12495 -177.200052 \r\nL 272.830064 -179.695919 \r\nL 273.432752 -182.191787 \r\nL 273.961639 -184.687655 \r\nL 274.447801 -187.183523 \r\nL 274.921331 -189.67939 \r\nL 275.40827 -192.175258 \r\nL 275.928232 -194.671126 \r\nL 276.492938 -197.166994 \r\nL 277.105779 -199.662862 \r\nL 277.762385 -202.158729 \r\nL 278.452059 -204.654597 \r\nL 279.159812 -207.150465 \r\nL 279.868668 -209.646333 \r\nL 280.561902 -212.1422 \r\nL 281.22487 -214.638068 \r\nL 281.84623 -217.133936 \r\nL 282.418448 -219.629804 \r\nL 282.937634 -222.125671 \r\nL 283.402881 -224.621539 \r\nL 283.815334 -227.117407 \r\nL 284.177237 -229.613275 \r\nL 284.491144 -232.109143 \r\nL 284.759438 -234.60501 \r\nL 284.984157 -237.100878 \r\nL 285.167096 -239.596746 \r\nL 285.310085 -242.092614 \r\nL 285.415331 -244.588481 \r\nL 285.485742 -247.084349 \r\nL 285.525141 -249.580217 \r\nL 285.538358 -252.076085 \r\nL 285.531145 -254.571952 \r\nL 285.509952 -257.06782 \r\nL 285.481543 -259.563688 \r\nL 285.452522 -262.059556 \r\nL 285.4288 -264.555424 \r\nL 285.415091 -267.051291 \r\nL 285.414524 -269.547159 \r\nL 285.428423 -272.043027 \r\nL 285.456326 -274.538895 \r\nL 285.496219 -277.034762 \r\nL 285.544967 -279.53063 \r\nL 285.598841 -282.026498 \r\nL 285.654066 -284.522366 \r\nL 285.707289 -287.018233 \r\nL 285.755905 -289.514101 \r\nL 285.798214 -292.009969 \r\nL 285.833423 -294.505837 \r\nL 285.861509 -297.001705 \r\nL 285.999914 -297.001705 \r\nL 285.999914 -297.001705 \r\nL 286.028 -294.505837 \r\nL 286.063208 -292.009969 \r\nL 286.105518 -289.514101 \r\nL 286.154134 -287.018233 \r\nL 286.207356 -284.522366 \r\nL 286.262581 -282.026498 \r\nL 286.316455 -279.53063 \r\nL 286.365203 -277.034762 \r\nL 286.405097 -274.538895 \r\nL 286.433 -272.043027 \r\nL 286.446899 -269.547159 \r\nL 286.446331 -267.051291 \r\nL 286.432623 -264.555424 \r\nL 286.4089 -262.059556 \r\nL 286.37988 -259.563688 \r\nL 286.351471 -257.06782 \r\nL 286.330277 -254.571952 \r\nL 286.323065 -252.076085 \r\nL 286.336281 -249.580217 \r\nL 286.375681 -247.084349 \r\nL 286.446091 -244.588481 \r\nL 286.551338 -242.092614 \r\nL 286.694326 -239.596746 \r\nL 286.877266 -237.100878 \r\nL 287.101985 -234.60501 \r\nL 287.370279 -232.109143 \r\nL 287.684186 -229.613275 \r\nL 288.046088 -227.117407 \r\nL 288.458542 -224.621539 \r\nL 288.923789 -222.125671 \r\nL 289.442974 -219.629804 \r\nL 290.015192 -217.133936 \r\nL 290.636553 -214.638068 \r\nL 291.299521 -212.1422 \r\nL 291.992754 -209.646333 \r\nL 292.701611 -207.150465 \r\nL 293.409363 -204.654597 \r\nL 294.099038 -202.158729 \r\nL 294.755644 -199.662862 \r\nL 295.368484 -197.166994 \r\nL 295.93319 -194.671126 \r\nL 296.453153 -192.175258 \r\nL 296.940092 -189.67939 \r\nL 297.413621 -187.183523 \r\nL 297.899783 -184.687655 \r\nL 298.42867 -182.191787 \r\nL 299.031358 -179.695919 \r\nL 299.736472 -177.200052 \r\nL 300.566761 -174.704184 \r\nL 301.536066 -172.208316 \r\nL 302.647017 -169.712448 \r\nL 303.889714 -167.216581 \r\nL 305.241501 -164.720713 \r\nL 306.667813 -162.224845 \r\nL 308.123953 -159.728977 \r\nL 309.557568 -157.23311 \r\nL 310.911592 -154.737242 \r\nL 312.127415 -152.241374 \r\nL 313.148143 -149.745506 \r\nL 313.921827 -147.249638 \r\nL 314.40462 -144.753771 \r\nL 314.56376 -142.257903 \r\nL 314.380277 -139.762035 \r\nL 313.851201 -137.266167 \r\nL 312.991004 -134.7703 \r\nL 311.831991 -132.274432 \r\nL 310.42336 -129.778564 \r\nL 308.828817 -127.282696 \r\nL 307.122756 -124.786829 \r\nL 305.385266 -122.290961 \r\nL 303.696387 -119.795093 \r\nL 302.130202 -117.299225 \r\nL 300.749377 -114.803357 \r\nL 299.600717 -112.30749 \r\nL 298.712136 -109.811622 \r\nL 298.091237 -107.315754 \r\nL 297.725501 -104.819886 \r\nL 297.583894 -102.324019 \r\nL 297.619679 -99.828151 \r\nL 297.774166 -97.332283 \r\nL 297.981227 -94.836415 \r\nL 298.172396 -92.340548 \r\nL 298.282368 -89.84468 \r\nL 298.254554 -87.348812 \r\nL 298.046224 -84.852944 \r\nL 297.632602 -82.357076 \r\nL 297.009256 -79.861209 \r\nL 296.192252 -77.365341 \r\nL 295.215876 -74.869473 \r\nL 294.128131 -72.373605 \r\nL 292.984659 -69.877738 \r\nL 291.842058 -67.38187 \r\nL 290.751645 -64.886002 \r\nL 289.754616 -62.390134 \r\nL 288.87917 -59.894267 \r\nL 288.13978 -57.398399 \r\nL 287.538361 -54.902531 \r\nL 287.066788 -52.406663 \r\nL 286.710078 -49.910795 \r\nz\r\n\" id=\"ma009f77a66\" style=\"stroke:#3f3f3f;stroke-width:1.5;\"/>\r\n    </defs>\r\n    <g clip-path=\"url(#p0023a8f1a8)\">\r\n     <use style=\"fill:#e1812c;stroke:#3f3f3f;stroke-width:1.5;\" x=\"0\" xlink:href=\"#ma009f77a66\" y=\"316.55625\"/>\r\n    </g>\r\n   </g>\r\n   <g id=\"patch_3\">\r\n    <path clip-path=\"url(#p0023a8f1a8)\" d=\"M 112.758297 239.642879 \r\nL 112.758297 239.642879 \r\nL 112.758297 239.642879 \r\nL 112.758297 239.642879 \r\nz\r\n\" style=\"fill:#3274a1;stroke:#3f3f3f;stroke-linejoin:miter;stroke-width:0.75;\"/>\r\n   </g>\r\n   <g id=\"patch_4\">\r\n    <path clip-path=\"url(#p0023a8f1a8)\" d=\"M 112.758297 239.642879 \r\nL 112.758297 239.642879 \r\nL 112.758297 239.642879 \r\nL 112.758297 239.642879 \r\nz\r\n\" style=\"fill:#e1812c;stroke:#3f3f3f;stroke-linejoin:miter;stroke-width:0.75;\"/>\r\n   </g>\r\n   <g id=\"matplotlib.axis_1\">\r\n    <g id=\"xtick_1\">\r\n     <g id=\"line2d_1\">\r\n      <defs>\r\n       <path d=\"M 0 0 \r\nL 0 3.5 \r\n\" id=\"m2bfa94ef2b\" style=\"stroke:#000000;stroke-width:0.8;\"/>\r\n      </defs>\r\n      <g>\r\n       <use style=\"stroke:#000000;stroke-width:0.8;\" x=\"112.758297\" xlink:href=\"#m2bfa94ef2b\" y=\"279\"/>\r\n      </g>\r\n     </g>\r\n     <g id=\"text_1\">\r\n      <!-- 0 -->\r\n      <g transform=\"translate(109.577047 293.598437)scale(0.1 -0.1)\">\r\n       <defs>\r\n        <path d=\"M 31.78125 66.40625 \r\nQ 24.171875 66.40625 20.328125 58.90625 \r\nQ 16.5 51.421875 16.5 36.375 \r\nQ 16.5 21.390625 20.328125 13.890625 \r\nQ 24.171875 6.390625 31.78125 6.390625 \r\nQ 39.453125 6.390625 43.28125 13.890625 \r\nQ 47.125 21.390625 47.125 36.375 \r\nQ 47.125 51.421875 43.28125 58.90625 \r\nQ 39.453125 66.40625 31.78125 66.40625 \r\nz\r\nM 31.78125 74.21875 \r\nQ 44.046875 74.21875 50.515625 64.515625 \r\nQ 56.984375 54.828125 56.984375 36.375 \r\nQ 56.984375 17.96875 50.515625 8.265625 \r\nQ 44.046875 -1.421875 31.78125 -1.421875 \r\nQ 19.53125 -1.421875 13.0625 8.265625 \r\nQ 6.59375 17.96875 6.59375 36.375 \r\nQ 6.59375 54.828125 13.0625 64.515625 \r\nQ 19.53125 74.21875 31.78125 74.21875 \r\nz\r\n\" id=\"DejaVuSans-48\"/>\r\n       </defs>\r\n       <use xlink:href=\"#DejaVuSans-48\"/>\r\n      </g>\r\n     </g>\r\n    </g>\r\n    <g id=\"xtick_2\">\r\n     <g id=\"line2d_2\">\r\n      <g>\r\n       <use style=\"stroke:#000000;stroke-width:0.8;\" x=\"257.068642\" xlink:href=\"#m2bfa94ef2b\" y=\"279\"/>\r\n      </g>\r\n     </g>\r\n     <g id=\"text_2\">\r\n      <!-- 1 -->\r\n      <g transform=\"translate(253.887392 293.598437)scale(0.1 -0.1)\">\r\n       <defs>\r\n        <path d=\"M 12.40625 8.296875 \r\nL 28.515625 8.296875 \r\nL 28.515625 63.921875 \r\nL 10.984375 60.40625 \r\nL 10.984375 69.390625 \r\nL 28.421875 72.90625 \r\nL 38.28125 72.90625 \r\nL 38.28125 8.296875 \r\nL 54.390625 8.296875 \r\nL 54.390625 0 \r\nL 12.40625 0 \r\nz\r\n\" id=\"DejaVuSans-49\"/>\r\n       </defs>\r\n       <use xlink:href=\"#DejaVuSans-49\"/>\r\n      </g>\r\n     </g>\r\n    </g>\r\n    <g id=\"text_3\">\r\n     <!-- survived -->\r\n     <g transform=\"translate(163.52597 307.276562)scale(0.1 -0.1)\">\r\n      <defs>\r\n       <path d=\"M 44.28125 53.078125 \r\nL 44.28125 44.578125 \r\nQ 40.484375 46.53125 36.375 47.5 \r\nQ 32.28125 48.484375 27.875 48.484375 \r\nQ 21.1875 48.484375 17.84375 46.4375 \r\nQ 14.5 44.390625 14.5 40.28125 \r\nQ 14.5 37.15625 16.890625 35.375 \r\nQ 19.28125 33.59375 26.515625 31.984375 \r\nL 29.59375 31.296875 \r\nQ 39.15625 29.25 43.1875 25.515625 \r\nQ 47.21875 21.78125 47.21875 15.09375 \r\nQ 47.21875 7.46875 41.1875 3.015625 \r\nQ 35.15625 -1.421875 24.609375 -1.421875 \r\nQ 20.21875 -1.421875 15.453125 -0.5625 \r\nQ 10.6875 0.296875 5.421875 2 \r\nL 5.421875 11.28125 \r\nQ 10.40625 8.6875 15.234375 7.390625 \r\nQ 20.0625 6.109375 24.8125 6.109375 \r\nQ 31.15625 6.109375 34.5625 8.28125 \r\nQ 37.984375 10.453125 37.984375 14.40625 \r\nQ 37.984375 18.0625 35.515625 20.015625 \r\nQ 33.0625 21.96875 24.703125 23.78125 \r\nL 21.578125 24.515625 \r\nQ 13.234375 26.265625 9.515625 29.90625 \r\nQ 5.8125 33.546875 5.8125 39.890625 \r\nQ 5.8125 47.609375 11.28125 51.796875 \r\nQ 16.75 56 26.8125 56 \r\nQ 31.78125 56 36.171875 55.265625 \r\nQ 40.578125 54.546875 44.28125 53.078125 \r\nz\r\n\" id=\"DejaVuSans-115\"/>\r\n       <path d=\"M 8.5 21.578125 \r\nL 8.5 54.6875 \r\nL 17.484375 54.6875 \r\nL 17.484375 21.921875 \r\nQ 17.484375 14.15625 20.5 10.265625 \r\nQ 23.53125 6.390625 29.59375 6.390625 \r\nQ 36.859375 6.390625 41.078125 11.03125 \r\nQ 45.3125 15.671875 45.3125 23.6875 \r\nL 45.3125 54.6875 \r\nL 54.296875 54.6875 \r\nL 54.296875 0 \r\nL 45.3125 0 \r\nL 45.3125 8.40625 \r\nQ 42.046875 3.421875 37.71875 1 \r\nQ 33.40625 -1.421875 27.6875 -1.421875 \r\nQ 18.265625 -1.421875 13.375 4.4375 \r\nQ 8.5 10.296875 8.5 21.578125 \r\nz\r\nM 31.109375 56 \r\nz\r\n\" id=\"DejaVuSans-117\"/>\r\n       <path d=\"M 41.109375 46.296875 \r\nQ 39.59375 47.171875 37.8125 47.578125 \r\nQ 36.03125 48 33.890625 48 \r\nQ 26.265625 48 22.1875 43.046875 \r\nQ 18.109375 38.09375 18.109375 28.8125 \r\nL 18.109375 0 \r\nL 9.078125 0 \r\nL 9.078125 54.6875 \r\nL 18.109375 54.6875 \r\nL 18.109375 46.1875 \r\nQ 20.953125 51.171875 25.484375 53.578125 \r\nQ 30.03125 56 36.53125 56 \r\nQ 37.453125 56 38.578125 55.875 \r\nQ 39.703125 55.765625 41.0625 55.515625 \r\nz\r\n\" id=\"DejaVuSans-114\"/>\r\n       <path d=\"M 2.984375 54.6875 \r\nL 12.5 54.6875 \r\nL 29.59375 8.796875 \r\nL 46.6875 54.6875 \r\nL 56.203125 54.6875 \r\nL 35.6875 0 \r\nL 23.484375 0 \r\nz\r\n\" id=\"DejaVuSans-118\"/>\r\n       <path d=\"M 9.421875 54.6875 \r\nL 18.40625 54.6875 \r\nL 18.40625 0 \r\nL 9.421875 0 \r\nz\r\nM 9.421875 75.984375 \r\nL 18.40625 75.984375 \r\nL 18.40625 64.59375 \r\nL 9.421875 64.59375 \r\nz\r\n\" id=\"DejaVuSans-105\"/>\r\n       <path d=\"M 56.203125 29.59375 \r\nL 56.203125 25.203125 \r\nL 14.890625 25.203125 \r\nQ 15.484375 15.921875 20.484375 11.0625 \r\nQ 25.484375 6.203125 34.421875 6.203125 \r\nQ 39.59375 6.203125 44.453125 7.46875 \r\nQ 49.3125 8.734375 54.109375 11.28125 \r\nL 54.109375 2.78125 \r\nQ 49.265625 0.734375 44.1875 -0.34375 \r\nQ 39.109375 -1.421875 33.890625 -1.421875 \r\nQ 20.796875 -1.421875 13.15625 6.1875 \r\nQ 5.515625 13.8125 5.515625 26.8125 \r\nQ 5.515625 40.234375 12.765625 48.109375 \r\nQ 20.015625 56 32.328125 56 \r\nQ 43.359375 56 49.78125 48.890625 \r\nQ 56.203125 41.796875 56.203125 29.59375 \r\nz\r\nM 47.21875 32.234375 \r\nQ 47.125 39.59375 43.09375 43.984375 \r\nQ 39.0625 48.390625 32.421875 48.390625 \r\nQ 24.90625 48.390625 20.390625 44.140625 \r\nQ 15.875 39.890625 15.1875 32.171875 \r\nz\r\n\" id=\"DejaVuSans-101\"/>\r\n       <path d=\"M 45.40625 46.390625 \r\nL 45.40625 75.984375 \r\nL 54.390625 75.984375 \r\nL 54.390625 0 \r\nL 45.40625 0 \r\nL 45.40625 8.203125 \r\nQ 42.578125 3.328125 38.25 0.953125 \r\nQ 33.9375 -1.421875 27.875 -1.421875 \r\nQ 17.96875 -1.421875 11.734375 6.484375 \r\nQ 5.515625 14.40625 5.515625 27.296875 \r\nQ 5.515625 40.1875 11.734375 48.09375 \r\nQ 17.96875 56 27.875 56 \r\nQ 33.9375 56 38.25 53.625 \r\nQ 42.578125 51.265625 45.40625 46.390625 \r\nz\r\nM 14.796875 27.296875 \r\nQ 14.796875 17.390625 18.875 11.75 \r\nQ 22.953125 6.109375 30.078125 6.109375 \r\nQ 37.203125 6.109375 41.296875 11.75 \r\nQ 45.40625 17.390625 45.40625 27.296875 \r\nQ 45.40625 37.203125 41.296875 42.84375 \r\nQ 37.203125 48.484375 30.078125 48.484375 \r\nQ 22.953125 48.484375 18.875 42.84375 \r\nQ 14.796875 37.203125 14.796875 27.296875 \r\nz\r\n\" id=\"DejaVuSans-100\"/>\r\n      </defs>\r\n      <use xlink:href=\"#DejaVuSans-115\"/>\r\n      <use x=\"52.099609\" xlink:href=\"#DejaVuSans-117\"/>\r\n      <use x=\"115.478516\" xlink:href=\"#DejaVuSans-114\"/>\r\n      <use x=\"156.591797\" xlink:href=\"#DejaVuSans-118\"/>\r\n      <use x=\"215.771484\" xlink:href=\"#DejaVuSans-105\"/>\r\n      <use x=\"243.554688\" xlink:href=\"#DejaVuSans-118\"/>\r\n      <use x=\"302.734375\" xlink:href=\"#DejaVuSans-101\"/>\r\n      <use x=\"364.257812\" xlink:href=\"#DejaVuSans-100\"/>\r\n     </g>\r\n    </g>\r\n   </g>\r\n   <g id=\"matplotlib.axis_2\">\r\n    <g id=\"ytick_1\">\r\n     <g id=\"line2d_3\">\r\n      <defs>\r\n       <path d=\"M 0 0 \r\nL -3.5 0 \r\n\" id=\"m1bad7886ab\" style=\"stroke:#000000;stroke-width:0.8;\"/>\r\n      </defs>\r\n      <g>\r\n       <use style=\"stroke:#000000;stroke-width:0.8;\" x=\"40.603125\" xlink:href=\"#m1bad7886ab\" y=\"239.642879\"/>\r\n      </g>\r\n     </g>\r\n     <g id=\"text_4\">\r\n      <!-- 0 -->\r\n      <g transform=\"translate(27.240625 243.442098)scale(0.1 -0.1)\">\r\n       <use xlink:href=\"#DejaVuSans-48\"/>\r\n      </g>\r\n     </g>\r\n    </g>\r\n    <g id=\"ytick_2\">\r\n     <g id=\"line2d_4\">\r\n      <g>\r\n       <use style=\"stroke:#000000;stroke-width:0.8;\" x=\"40.603125\" xlink:href=\"#m1bad7886ab\" y=\"191.62157\"/>\r\n      </g>\r\n     </g>\r\n     <g id=\"text_5\">\r\n      <!-- 20 -->\r\n      <g transform=\"translate(20.878125 195.420789)scale(0.1 -0.1)\">\r\n       <defs>\r\n        <path d=\"M 19.1875 8.296875 \r\nL 53.609375 8.296875 \r\nL 53.609375 0 \r\nL 7.328125 0 \r\nL 7.328125 8.296875 \r\nQ 12.9375 14.109375 22.625 23.890625 \r\nQ 32.328125 33.6875 34.8125 36.53125 \r\nQ 39.546875 41.84375 41.421875 45.53125 \r\nQ 43.3125 49.21875 43.3125 52.78125 \r\nQ 43.3125 58.59375 39.234375 62.25 \r\nQ 35.15625 65.921875 28.609375 65.921875 \r\nQ 23.96875 65.921875 18.8125 64.3125 \r\nQ 13.671875 62.703125 7.8125 59.421875 \r\nL 7.8125 69.390625 \r\nQ 13.765625 71.78125 18.9375 73 \r\nQ 24.125 74.21875 28.421875 74.21875 \r\nQ 39.75 74.21875 46.484375 68.546875 \r\nQ 53.21875 62.890625 53.21875 53.421875 \r\nQ 53.21875 48.921875 51.53125 44.890625 \r\nQ 49.859375 40.875 45.40625 35.40625 \r\nQ 44.1875 33.984375 37.640625 27.21875 \r\nQ 31.109375 20.453125 19.1875 8.296875 \r\nz\r\n\" id=\"DejaVuSans-50\"/>\r\n       </defs>\r\n       <use xlink:href=\"#DejaVuSans-50\"/>\r\n       <use x=\"63.623047\" xlink:href=\"#DejaVuSans-48\"/>\r\n      </g>\r\n     </g>\r\n    </g>\r\n    <g id=\"ytick_3\">\r\n     <g id=\"line2d_5\">\r\n      <g>\r\n       <use style=\"stroke:#000000;stroke-width:0.8;\" x=\"40.603125\" xlink:href=\"#m1bad7886ab\" y=\"143.600262\"/>\r\n      </g>\r\n     </g>\r\n     <g id=\"text_6\">\r\n      <!-- 40 -->\r\n      <g transform=\"translate(20.878125 147.399481)scale(0.1 -0.1)\">\r\n       <defs>\r\n        <path d=\"M 37.796875 64.3125 \r\nL 12.890625 25.390625 \r\nL 37.796875 25.390625 \r\nz\r\nM 35.203125 72.90625 \r\nL 47.609375 72.90625 \r\nL 47.609375 25.390625 \r\nL 58.015625 25.390625 \r\nL 58.015625 17.1875 \r\nL 47.609375 17.1875 \r\nL 47.609375 0 \r\nL 37.796875 0 \r\nL 37.796875 17.1875 \r\nL 4.890625 17.1875 \r\nL 4.890625 26.703125 \r\nz\r\n\" id=\"DejaVuSans-52\"/>\r\n       </defs>\r\n       <use xlink:href=\"#DejaVuSans-52\"/>\r\n       <use x=\"63.623047\" xlink:href=\"#DejaVuSans-48\"/>\r\n      </g>\r\n     </g>\r\n    </g>\r\n    <g id=\"ytick_4\">\r\n     <g id=\"line2d_6\">\r\n      <g>\r\n       <use style=\"stroke:#000000;stroke-width:0.8;\" x=\"40.603125\" xlink:href=\"#m1bad7886ab\" y=\"95.578953\"/>\r\n      </g>\r\n     </g>\r\n     <g id=\"text_7\">\r\n      <!-- 60 -->\r\n      <g transform=\"translate(20.878125 99.378172)scale(0.1 -0.1)\">\r\n       <defs>\r\n        <path d=\"M 33.015625 40.375 \r\nQ 26.375 40.375 22.484375 35.828125 \r\nQ 18.609375 31.296875 18.609375 23.390625 \r\nQ 18.609375 15.53125 22.484375 10.953125 \r\nQ 26.375 6.390625 33.015625 6.390625 \r\nQ 39.65625 6.390625 43.53125 10.953125 \r\nQ 47.40625 15.53125 47.40625 23.390625 \r\nQ 47.40625 31.296875 43.53125 35.828125 \r\nQ 39.65625 40.375 33.015625 40.375 \r\nz\r\nM 52.59375 71.296875 \r\nL 52.59375 62.3125 \r\nQ 48.875 64.0625 45.09375 64.984375 \r\nQ 41.3125 65.921875 37.59375 65.921875 \r\nQ 27.828125 65.921875 22.671875 59.328125 \r\nQ 17.53125 52.734375 16.796875 39.40625 \r\nQ 19.671875 43.65625 24.015625 45.921875 \r\nQ 28.375 48.1875 33.59375 48.1875 \r\nQ 44.578125 48.1875 50.953125 41.515625 \r\nQ 57.328125 34.859375 57.328125 23.390625 \r\nQ 57.328125 12.15625 50.6875 5.359375 \r\nQ 44.046875 -1.421875 33.015625 -1.421875 \r\nQ 20.359375 -1.421875 13.671875 8.265625 \r\nQ 6.984375 17.96875 6.984375 36.375 \r\nQ 6.984375 53.65625 15.1875 63.9375 \r\nQ 23.390625 74.21875 37.203125 74.21875 \r\nQ 40.921875 74.21875 44.703125 73.484375 \r\nQ 48.484375 72.75 52.59375 71.296875 \r\nz\r\n\" id=\"DejaVuSans-54\"/>\r\n       </defs>\r\n       <use xlink:href=\"#DejaVuSans-54\"/>\r\n       <use x=\"63.623047\" xlink:href=\"#DejaVuSans-48\"/>\r\n      </g>\r\n     </g>\r\n    </g>\r\n    <g id=\"ytick_5\">\r\n     <g id=\"line2d_7\">\r\n      <g>\r\n       <use style=\"stroke:#000000;stroke-width:0.8;\" x=\"40.603125\" xlink:href=\"#m1bad7886ab\" y=\"47.557645\"/>\r\n      </g>\r\n     </g>\r\n     <g id=\"text_8\">\r\n      <!-- 80 -->\r\n      <g transform=\"translate(20.878125 51.356864)scale(0.1 -0.1)\">\r\n       <defs>\r\n        <path d=\"M 31.78125 34.625 \r\nQ 24.75 34.625 20.71875 30.859375 \r\nQ 16.703125 27.09375 16.703125 20.515625 \r\nQ 16.703125 13.921875 20.71875 10.15625 \r\nQ 24.75 6.390625 31.78125 6.390625 \r\nQ 38.8125 6.390625 42.859375 10.171875 \r\nQ 46.921875 13.96875 46.921875 20.515625 \r\nQ 46.921875 27.09375 42.890625 30.859375 \r\nQ 38.875 34.625 31.78125 34.625 \r\nz\r\nM 21.921875 38.8125 \r\nQ 15.578125 40.375 12.03125 44.71875 \r\nQ 8.5 49.078125 8.5 55.328125 \r\nQ 8.5 64.0625 14.71875 69.140625 \r\nQ 20.953125 74.21875 31.78125 74.21875 \r\nQ 42.671875 74.21875 48.875 69.140625 \r\nQ 55.078125 64.0625 55.078125 55.328125 \r\nQ 55.078125 49.078125 51.53125 44.71875 \r\nQ 48 40.375 41.703125 38.8125 \r\nQ 48.828125 37.15625 52.796875 32.3125 \r\nQ 56.78125 27.484375 56.78125 20.515625 \r\nQ 56.78125 9.90625 50.3125 4.234375 \r\nQ 43.84375 -1.421875 31.78125 -1.421875 \r\nQ 19.734375 -1.421875 13.25 4.234375 \r\nQ 6.78125 9.90625 6.78125 20.515625 \r\nQ 6.78125 27.484375 10.78125 32.3125 \r\nQ 14.796875 37.15625 21.921875 38.8125 \r\nz\r\nM 18.3125 54.390625 \r\nQ 18.3125 48.734375 21.84375 45.5625 \r\nQ 25.390625 42.390625 31.78125 42.390625 \r\nQ 38.140625 42.390625 41.71875 45.5625 \r\nQ 45.3125 48.734375 45.3125 54.390625 \r\nQ 45.3125 60.0625 41.71875 63.234375 \r\nQ 38.140625 66.40625 31.78125 66.40625 \r\nQ 25.390625 66.40625 21.84375 63.234375 \r\nQ 18.3125 60.0625 18.3125 54.390625 \r\nz\r\n\" id=\"DejaVuSans-56\"/>\r\n       </defs>\r\n       <use xlink:href=\"#DejaVuSans-56\"/>\r\n       <use x=\"63.623047\" xlink:href=\"#DejaVuSans-48\"/>\r\n      </g>\r\n     </g>\r\n    </g>\r\n    <g id=\"text_9\">\r\n     <!-- age -->\r\n     <g transform=\"translate(14.798438 152.414844)rotate(-90)scale(0.1 -0.1)\">\r\n      <defs>\r\n       <path d=\"M 34.28125 27.484375 \r\nQ 23.390625 27.484375 19.1875 25 \r\nQ 14.984375 22.515625 14.984375 16.5 \r\nQ 14.984375 11.71875 18.140625 8.90625 \r\nQ 21.296875 6.109375 26.703125 6.109375 \r\nQ 34.1875 6.109375 38.703125 11.40625 \r\nQ 43.21875 16.703125 43.21875 25.484375 \r\nL 43.21875 27.484375 \r\nz\r\nM 52.203125 31.203125 \r\nL 52.203125 0 \r\nL 43.21875 0 \r\nL 43.21875 8.296875 \r\nQ 40.140625 3.328125 35.546875 0.953125 \r\nQ 30.953125 -1.421875 24.3125 -1.421875 \r\nQ 15.921875 -1.421875 10.953125 3.296875 \r\nQ 6 8.015625 6 15.921875 \r\nQ 6 25.140625 12.171875 29.828125 \r\nQ 18.359375 34.515625 30.609375 34.515625 \r\nL 43.21875 34.515625 \r\nL 43.21875 35.40625 \r\nQ 43.21875 41.609375 39.140625 45 \r\nQ 35.0625 48.390625 27.6875 48.390625 \r\nQ 23 48.390625 18.546875 47.265625 \r\nQ 14.109375 46.140625 10.015625 43.890625 \r\nL 10.015625 52.203125 \r\nQ 14.9375 54.109375 19.578125 55.046875 \r\nQ 24.21875 56 28.609375 56 \r\nQ 40.484375 56 46.34375 49.84375 \r\nQ 52.203125 43.703125 52.203125 31.203125 \r\nz\r\n\" id=\"DejaVuSans-97\"/>\r\n       <path d=\"M 45.40625 27.984375 \r\nQ 45.40625 37.75 41.375 43.109375 \r\nQ 37.359375 48.484375 30.078125 48.484375 \r\nQ 22.859375 48.484375 18.828125 43.109375 \r\nQ 14.796875 37.75 14.796875 27.984375 \r\nQ 14.796875 18.265625 18.828125 12.890625 \r\nQ 22.859375 7.515625 30.078125 7.515625 \r\nQ 37.359375 7.515625 41.375 12.890625 \r\nQ 45.40625 18.265625 45.40625 27.984375 \r\nz\r\nM 54.390625 6.78125 \r\nQ 54.390625 -7.171875 48.1875 -13.984375 \r\nQ 42 -20.796875 29.203125 -20.796875 \r\nQ 24.46875 -20.796875 20.265625 -20.09375 \r\nQ 16.0625 -19.390625 12.109375 -17.921875 \r\nL 12.109375 -9.1875 \r\nQ 16.0625 -11.328125 19.921875 -12.34375 \r\nQ 23.78125 -13.375 27.78125 -13.375 \r\nQ 36.625 -13.375 41.015625 -8.765625 \r\nQ 45.40625 -4.15625 45.40625 5.171875 \r\nL 45.40625 9.625 \r\nQ 42.625 4.78125 38.28125 2.390625 \r\nQ 33.9375 0 27.875 0 \r\nQ 17.828125 0 11.671875 7.65625 \r\nQ 5.515625 15.328125 5.515625 27.984375 \r\nQ 5.515625 40.671875 11.671875 48.328125 \r\nQ 17.828125 56 27.875 56 \r\nQ 33.9375 56 38.28125 53.609375 \r\nQ 42.625 51.21875 45.40625 46.390625 \r\nL 45.40625 54.6875 \r\nL 54.390625 54.6875 \r\nz\r\n\" id=\"DejaVuSans-103\"/>\r\n      </defs>\r\n      <use xlink:href=\"#DejaVuSans-97\"/>\r\n      <use x=\"61.279297\" xlink:href=\"#DejaVuSans-103\"/>\r\n      <use x=\"124.755859\" xlink:href=\"#DejaVuSans-101\"/>\r\n     </g>\r\n    </g>\r\n   </g>\r\n   <g id=\"line2d_8\">\r\n    <path clip-path=\"url(#p0023a8f1a8)\" d=\"M 83.896228 237.241814 \r\nL 83.896228 119.589608 \r\n\" style=\"fill:none;stroke:#3f3f3f;stroke-linecap:square;stroke-width:1.5;\"/>\r\n   </g>\r\n   <g id=\"line2d_9\">\r\n    <path clip-path=\"url(#p0023a8f1a8)\" d=\"M 83.896228 196.423701 \r\nL 83.896228 164.609584 \r\n\" style=\"fill:none;stroke:#3f3f3f;stroke-linecap:square;stroke-width:4.5;\"/>\r\n   </g>\r\n   <g id=\"line2d_10\">\r\n    <path clip-path=\"url(#p0023a8f1a8)\" d=\"M 141.620366 238.842604 \r\nL 141.620366 78.771495 \r\n\" style=\"fill:none;stroke:#3f3f3f;stroke-linecap:square;stroke-width:1.5;\"/>\r\n   </g>\r\n   <g id=\"line2d_11\">\r\n    <path clip-path=\"url(#p0023a8f1a8)\" d=\"M 141.620366 186.81944 \r\nL 141.620366 143.600262 \r\n\" style=\"fill:none;stroke:#3f3f3f;stroke-linecap:square;stroke-width:4.5;\"/>\r\n   </g>\r\n   <g id=\"line2d_12\">\r\n    <path clip-path=\"url(#p0023a8f1a8)\" d=\"M 228.206573 239.242621 \r\nL 228.206573 85.974692 \r\n\" style=\"fill:none;stroke:#3f3f3f;stroke-linecap:square;stroke-width:1.5;\"/>\r\n   </g>\r\n   <g id=\"line2d_13\">\r\n    <path clip-path=\"url(#p0023a8f1a8)\" d=\"M 228.206573 191.62157 \r\nL 228.206573 146.001327 \r\n\" style=\"fill:none;stroke:#3f3f3f;stroke-linecap:square;stroke-width:4.5;\"/>\r\n   </g>\r\n   <g id=\"line2d_14\">\r\n    <path clip-path=\"url(#p0023a8f1a8)\" d=\"M 285.930711 238.642355 \r\nL 285.930711 95.578953 \r\n\" style=\"fill:none;stroke:#3f3f3f;stroke-linecap:square;stroke-width:1.5;\"/>\r\n   </g>\r\n   <g id=\"line2d_15\">\r\n    <path clip-path=\"url(#p0023a8f1a8)\" d=\"M 285.930711 192.822103 \r\nL 285.930711 153.204524 \r\n\" style=\"fill:none;stroke:#3f3f3f;stroke-linecap:square;stroke-width:4.5;\"/>\r\n   </g>\r\n   <g id=\"patch_5\">\r\n    <path d=\"M 40.603125 279 \r\nL 40.603125 7.2 \r\n\" style=\"fill:none;stroke:#000000;stroke-linecap:square;stroke-linejoin:miter;stroke-width:0.8;\"/>\r\n   </g>\r\n   <g id=\"patch_6\">\r\n    <path d=\"M 329.223815 279 \r\nL 329.223815 7.2 \r\n\" style=\"fill:none;stroke:#000000;stroke-linecap:square;stroke-linejoin:miter;stroke-width:0.8;\"/>\r\n   </g>\r\n   <g id=\"patch_7\">\r\n    <path d=\"M 40.603125 279 \r\nL 329.223815 279 \r\n\" style=\"fill:none;stroke:#000000;stroke-linecap:square;stroke-linejoin:miter;stroke-width:0.8;\"/>\r\n   </g>\r\n   <g id=\"patch_8\">\r\n    <path d=\"M 40.603125 7.2 \r\nL 329.223815 7.2 \r\n\" style=\"fill:none;stroke:#000000;stroke-linecap:square;stroke-linejoin:miter;stroke-width:0.8;\"/>\r\n   </g>\r\n   <g id=\"PathCollection_1\">\r\n    <defs>\r\n     <path d=\"M 0 1.5 \r\nC 0.397805 1.5 0.77937 1.341951 1.06066 1.06066 \r\nC 1.341951 0.77937 1.5 0.397805 1.5 0 \r\nC 1.5 -0.397805 1.341951 -0.77937 1.06066 -1.06066 \r\nC 0.77937 -1.341951 0.397805 -1.5 0 -1.5 \r\nC -0.397805 -1.5 -0.77937 -1.341951 -1.06066 -1.06066 \r\nC -1.341951 -0.77937 -1.5 -0.397805 -1.5 0 \r\nC -1.5 0.397805 -1.341951 0.77937 -1.06066 1.06066 \r\nC -0.77937 1.341951 -0.397805 1.5 0 1.5 \r\nz\r\n\" id=\"m9ca362759f\" style=\"stroke:#3f3f3f;\"/>\r\n    </defs>\r\n    <g clip-path=\"url(#p0023a8f1a8)\">\r\n     <use style=\"fill:#ffffff;stroke:#3f3f3f;\" x=\"83.896228\" xlink:href=\"#m9ca362759f\" y=\"180.816776\"/>\r\n    </g>\r\n   </g>\r\n   <g id=\"PathCollection_2\">\r\n    <g clip-path=\"url(#p0023a8f1a8)\">\r\n     <use style=\"fill:#ffffff;stroke:#3f3f3f;\" x=\"141.620366\" xlink:href=\"#m9ca362759f\" y=\"170.011982\"/>\r\n    </g>\r\n   </g>\r\n   <g id=\"PathCollection_3\">\r\n    <g clip-path=\"url(#p0023a8f1a8)\">\r\n     <use style=\"fill:#ffffff;stroke:#3f3f3f;\" x=\"228.206573\" xlink:href=\"#m9ca362759f\" y=\"171.212514\"/>\r\n    </g>\r\n   </g>\r\n   <g id=\"PathCollection_4\">\r\n    <g clip-path=\"url(#p0023a8f1a8)\">\r\n     <use style=\"fill:#ffffff;stroke:#3f3f3f;\" x=\"285.930711\" xlink:href=\"#m9ca362759f\" y=\"174.814113\"/>\r\n    </g>\r\n   </g>\r\n   <g id=\"legend_1\">\r\n    <g id=\"patch_9\">\r\n     <path d=\"M 255.750377 59.234375 \r\nL 322.223815 59.234375 \r\nQ 324.223815 59.234375 324.223815 57.234375 \r\nL 324.223815 14.2 \r\nQ 324.223815 12.2 322.223815 12.2 \r\nL 255.750377 12.2 \r\nQ 253.750377 12.2 253.750377 14.2 \r\nL 253.750377 57.234375 \r\nQ 253.750377 59.234375 255.750377 59.234375 \r\nz\r\n\" style=\"fill:#ffffff;opacity:0.8;stroke:#cccccc;stroke-linejoin:miter;\"/>\r\n    </g>\r\n    <g id=\"text_10\">\r\n     <!-- sex -->\r\n     <g transform=\"translate(280.433971 23.798437)scale(0.1 -0.1)\">\r\n      <defs>\r\n       <path d=\"M 54.890625 54.6875 \r\nL 35.109375 28.078125 \r\nL 55.90625 0 \r\nL 45.3125 0 \r\nL 29.390625 21.484375 \r\nL 13.484375 0 \r\nL 2.875 0 \r\nL 24.125 28.609375 \r\nL 4.6875 54.6875 \r\nL 15.28125 54.6875 \r\nL 29.78125 35.203125 \r\nL 44.28125 54.6875 \r\nz\r\n\" id=\"DejaVuSans-120\"/>\r\n      </defs>\r\n      <use xlink:href=\"#DejaVuSans-115\"/>\r\n      <use x=\"52.099609\" xlink:href=\"#DejaVuSans-101\"/>\r\n      <use x=\"111.873047\" xlink:href=\"#DejaVuSans-120\"/>\r\n     </g>\r\n    </g>\r\n    <g id=\"patch_10\">\r\n     <path d=\"M 257.750377 38.476562 \r\nL 277.750377 38.476562 \r\nL 277.750377 31.476562 \r\nL 257.750377 31.476562 \r\nz\r\n\" style=\"fill:#3274a1;stroke:#3f3f3f;stroke-linejoin:miter;stroke-width:0.75;\"/>\r\n    </g>\r\n    <g id=\"text_11\">\r\n     <!-- female -->\r\n     <g transform=\"translate(285.750377 38.476562)scale(0.1 -0.1)\">\r\n      <defs>\r\n       <path d=\"M 37.109375 75.984375 \r\nL 37.109375 68.5 \r\nL 28.515625 68.5 \r\nQ 23.6875 68.5 21.796875 66.546875 \r\nQ 19.921875 64.59375 19.921875 59.515625 \r\nL 19.921875 54.6875 \r\nL 34.71875 54.6875 \r\nL 34.71875 47.703125 \r\nL 19.921875 47.703125 \r\nL 19.921875 0 \r\nL 10.890625 0 \r\nL 10.890625 47.703125 \r\nL 2.296875 47.703125 \r\nL 2.296875 54.6875 \r\nL 10.890625 54.6875 \r\nL 10.890625 58.5 \r\nQ 10.890625 67.625 15.140625 71.796875 \r\nQ 19.390625 75.984375 28.609375 75.984375 \r\nz\r\n\" id=\"DejaVuSans-102\"/>\r\n       <path d=\"M 52 44.1875 \r\nQ 55.375 50.25 60.0625 53.125 \r\nQ 64.75 56 71.09375 56 \r\nQ 79.640625 56 84.28125 50.015625 \r\nQ 88.921875 44.046875 88.921875 33.015625 \r\nL 88.921875 0 \r\nL 79.890625 0 \r\nL 79.890625 32.71875 \r\nQ 79.890625 40.578125 77.09375 44.375 \r\nQ 74.3125 48.1875 68.609375 48.1875 \r\nQ 61.625 48.1875 57.5625 43.546875 \r\nQ 53.515625 38.921875 53.515625 30.90625 \r\nL 53.515625 0 \r\nL 44.484375 0 \r\nL 44.484375 32.71875 \r\nQ 44.484375 40.625 41.703125 44.40625 \r\nQ 38.921875 48.1875 33.109375 48.1875 \r\nQ 26.21875 48.1875 22.15625 43.53125 \r\nQ 18.109375 38.875 18.109375 30.90625 \r\nL 18.109375 0 \r\nL 9.078125 0 \r\nL 9.078125 54.6875 \r\nL 18.109375 54.6875 \r\nL 18.109375 46.1875 \r\nQ 21.1875 51.21875 25.484375 53.609375 \r\nQ 29.78125 56 35.6875 56 \r\nQ 41.65625 56 45.828125 52.96875 \r\nQ 50 49.953125 52 44.1875 \r\nz\r\n\" id=\"DejaVuSans-109\"/>\r\n       <path d=\"M 9.421875 75.984375 \r\nL 18.40625 75.984375 \r\nL 18.40625 0 \r\nL 9.421875 0 \r\nz\r\n\" id=\"DejaVuSans-108\"/>\r\n      </defs>\r\n      <use xlink:href=\"#DejaVuSans-102\"/>\r\n      <use x=\"35.205078\" xlink:href=\"#DejaVuSans-101\"/>\r\n      <use x=\"96.728516\" xlink:href=\"#DejaVuSans-109\"/>\r\n      <use x=\"194.140625\" xlink:href=\"#DejaVuSans-97\"/>\r\n      <use x=\"255.419922\" xlink:href=\"#DejaVuSans-108\"/>\r\n      <use x=\"283.203125\" xlink:href=\"#DejaVuSans-101\"/>\r\n     </g>\r\n    </g>\r\n    <g id=\"patch_11\">\r\n     <path d=\"M 257.750377 53.154688 \r\nL 277.750377 53.154688 \r\nL 277.750377 46.154688 \r\nL 257.750377 46.154688 \r\nz\r\n\" style=\"fill:#e1812c;stroke:#3f3f3f;stroke-linejoin:miter;stroke-width:0.75;\"/>\r\n    </g>\r\n    <g id=\"text_12\">\r\n     <!-- male -->\r\n     <g transform=\"translate(285.750377 53.154688)scale(0.1 -0.1)\">\r\n      <use xlink:href=\"#DejaVuSans-109\"/>\r\n      <use x=\"97.412109\" xlink:href=\"#DejaVuSans-97\"/>\r\n      <use x=\"158.691406\" xlink:href=\"#DejaVuSans-108\"/>\r\n      <use x=\"186.474609\" xlink:href=\"#DejaVuSans-101\"/>\r\n     </g>\r\n    </g>\r\n   </g>\r\n  </g>\r\n  <g id=\"axes_2\">\r\n   <g id=\"patch_12\">\r\n    <path d=\"M 386.947953 279 \r\nL 675.568642 279 \r\nL 675.568642 7.2 \r\nL 386.947953 7.2 \r\nz\r\n\" style=\"fill:#ffffff;\"/>\r\n   </g>\r\n   <g id=\"PathCollection_5\">\r\n    <defs>\r\n     <path d=\"M 0 3.383948 \r\nC 0.897434 3.383948 1.758231 3.027394 2.392813 2.392813 \r\nC 3.027394 1.758231 3.383948 0.897434 3.383948 0 \r\nC 3.383948 -0.897434 3.027394 -1.758231 2.392813 -2.392813 \r\nC 1.758231 -3.027394 0.897434 -3.383948 0 -3.383948 \r\nC -0.897434 -3.383948 -1.758231 -3.027394 -2.392813 -2.392813 \r\nC -3.027394 -1.758231 -3.383948 -0.897434 -3.383948 0 \r\nC -3.383948 0.897434 -3.027394 1.758231 -2.392813 2.392813 \r\nC -1.758231 3.027394 -0.897434 3.383948 0 3.383948 \r\nz\r\n\" id=\"m055fb95b70\" style=\"stroke:#1f77b4;stroke-width:2.025;\"/>\r\n    </defs>\r\n    <g clip-path=\"url(#pee7f6e6135)\">\r\n     <use style=\"fill:#1f77b4;stroke:#1f77b4;stroke-width:2.025;\" x=\"407.563716\" xlink:href=\"#m055fb95b70\" y=\"70.534074\"/>\r\n     <use style=\"fill:#1f77b4;stroke:#1f77b4;stroke-width:2.025;\" x=\"448.795243\" xlink:href=\"#m055fb95b70\" y=\"71.031818\"/>\r\n     <use style=\"fill:#1f77b4;stroke:#1f77b4;stroke-width:2.025;\" x=\"490.02677\" xlink:href=\"#m055fb95b70\" y=\"60.736364\"/>\r\n     <use style=\"fill:#1f77b4;stroke:#1f77b4;stroke-width:2.025;\" x=\"531.258297\" xlink:href=\"#m055fb95b70\" y=\"157.971212\"/>\r\n     <use style=\"fill:#1f77b4;stroke:#1f77b4;stroke-width:2.025;\" x=\"572.489825\" xlink:href=\"#m055fb95b70\" y=\"192.125974\"/>\r\n     <use style=\"fill:#1f77b4;stroke:#1f77b4;stroke-width:2.025;\" x=\"613.721352\" xlink:href=\"#m055fb95b70\" y=\"266.645455\"/>\r\n     <use style=\"fill:#1f77b4;stroke:#1f77b4;stroke-width:2.025;\" x=\"654.952879\" xlink:href=\"#m055fb95b70\" y=\"266.645455\"/>\r\n    </g>\r\n   </g>\r\n   <g id=\"line2d_16\">\r\n    <path clip-path=\"url(#pee7f6e6135)\" d=\"M 407.563716 70.534074 \r\nL 448.795243 71.031818 \r\nL 490.02677 60.736364 \r\nL 531.258297 157.971212 \r\nL 572.489825 192.125974 \r\nL 613.721352 266.645455 \r\nL 654.952879 266.645455 \r\n\" style=\"fill:none;stroke:#1f77b4;stroke-linecap:square;stroke-width:2.7;\"/>\r\n   </g>\r\n   <g id=\"line2d_17\">\r\n    <path clip-path=\"url(#pee7f6e6135)\" d=\"M 407.563716 85.491299 \r\nL 407.563716 57.592713 \r\n\" style=\"fill:none;stroke:#1f77b4;stroke-linecap:square;stroke-width:2.7;\"/>\r\n   </g>\r\n   <g id=\"line2d_18\">\r\n    <path clip-path=\"url(#pee7f6e6135)\" d=\"M 448.795243 88.963068 \r\nL 448.795243 53.100568 \r\n\" style=\"fill:none;stroke:#1f77b4;stroke-linecap:square;stroke-width:2.7;\"/>\r\n   </g>\r\n   <g id=\"line2d_19\">\r\n    <path clip-path=\"url(#pee7f6e6135)\" d=\"M 490.02677 115.645455 \r\nL 490.02677 19.554545 \r\n\" style=\"fill:none;stroke:#1f77b4;stroke-linecap:square;stroke-width:2.7;\"/>\r\n   </g>\r\n   <g id=\"line2d_20\">\r\n    <path clip-path=\"url(#pee7f6e6135)\" d=\"M 531.258297 223.175758 \r\nL 531.258297 92.766667 \r\n\" style=\"fill:none;stroke:#1f77b4;stroke-linecap:square;stroke-width:2.7;\"/>\r\n   </g>\r\n   <g id=\"line2d_21\">\r\n    <path clip-path=\"url(#pee7f6e6135)\" d=\"M 572.489825 266.645455 \r\nL 572.489825 117.606494 \r\n\" style=\"fill:none;stroke:#1f77b4;stroke-linecap:square;stroke-width:2.7;\"/>\r\n   </g>\r\n   <g id=\"line2d_22\">\r\n    <path clip-path=\"url(#pee7f6e6135)\" d=\"M 613.721352 266.645455 \r\nL 613.721352 266.645455 \r\n\" style=\"fill:none;stroke:#1f77b4;stroke-linecap:square;stroke-width:2.7;\"/>\r\n   </g>\r\n   <g id=\"line2d_23\">\r\n    <path clip-path=\"url(#pee7f6e6135)\" d=\"M 654.952879 266.645455 \r\nL 654.952879 266.645455 \r\n\" style=\"fill:none;stroke:#1f77b4;stroke-linecap:square;stroke-width:2.7;\"/>\r\n   </g>\r\n   <g id=\"matplotlib.axis_3\">\r\n    <g id=\"xtick_3\">\r\n     <g id=\"line2d_24\">\r\n      <g>\r\n       <use style=\"stroke:#000000;stroke-width:0.8;\" x=\"407.563716\" xlink:href=\"#m2bfa94ef2b\" y=\"279\"/>\r\n      </g>\r\n     </g>\r\n     <g id=\"text_13\">\r\n      <!-- 0 -->\r\n      <g transform=\"translate(404.382466 293.598437)scale(0.1 -0.1)\">\r\n       <use xlink:href=\"#DejaVuSans-48\"/>\r\n      </g>\r\n     </g>\r\n    </g>\r\n    <g id=\"xtick_4\">\r\n     <g id=\"line2d_25\">\r\n      <g>\r\n       <use style=\"stroke:#000000;stroke-width:0.8;\" x=\"448.795243\" xlink:href=\"#m2bfa94ef2b\" y=\"279\"/>\r\n      </g>\r\n     </g>\r\n     <g id=\"text_14\">\r\n      <!-- 1 -->\r\n      <g transform=\"translate(445.613993 293.598437)scale(0.1 -0.1)\">\r\n       <use xlink:href=\"#DejaVuSans-49\"/>\r\n      </g>\r\n     </g>\r\n    </g>\r\n    <g id=\"xtick_5\">\r\n     <g id=\"line2d_26\">\r\n      <g>\r\n       <use style=\"stroke:#000000;stroke-width:0.8;\" x=\"490.02677\" xlink:href=\"#m2bfa94ef2b\" y=\"279\"/>\r\n      </g>\r\n     </g>\r\n     <g id=\"text_15\">\r\n      <!-- 2 -->\r\n      <g transform=\"translate(486.84552 293.598437)scale(0.1 -0.1)\">\r\n       <use xlink:href=\"#DejaVuSans-50\"/>\r\n      </g>\r\n     </g>\r\n    </g>\r\n    <g id=\"xtick_6\">\r\n     <g id=\"line2d_27\">\r\n      <g>\r\n       <use style=\"stroke:#000000;stroke-width:0.8;\" x=\"531.258297\" xlink:href=\"#m2bfa94ef2b\" y=\"279\"/>\r\n      </g>\r\n     </g>\r\n     <g id=\"text_16\">\r\n      <!-- 3 -->\r\n      <g transform=\"translate(528.077047 293.598437)scale(0.1 -0.1)\">\r\n       <defs>\r\n        <path d=\"M 40.578125 39.3125 \r\nQ 47.65625 37.796875 51.625 33 \r\nQ 55.609375 28.21875 55.609375 21.1875 \r\nQ 55.609375 10.40625 48.1875 4.484375 \r\nQ 40.765625 -1.421875 27.09375 -1.421875 \r\nQ 22.515625 -1.421875 17.65625 -0.515625 \r\nQ 12.796875 0.390625 7.625 2.203125 \r\nL 7.625 11.71875 \r\nQ 11.71875 9.328125 16.59375 8.109375 \r\nQ 21.484375 6.890625 26.8125 6.890625 \r\nQ 36.078125 6.890625 40.9375 10.546875 \r\nQ 45.796875 14.203125 45.796875 21.1875 \r\nQ 45.796875 27.640625 41.28125 31.265625 \r\nQ 36.765625 34.90625 28.71875 34.90625 \r\nL 20.21875 34.90625 \r\nL 20.21875 43.015625 \r\nL 29.109375 43.015625 \r\nQ 36.375 43.015625 40.234375 45.921875 \r\nQ 44.09375 48.828125 44.09375 54.296875 \r\nQ 44.09375 59.90625 40.109375 62.90625 \r\nQ 36.140625 65.921875 28.71875 65.921875 \r\nQ 24.65625 65.921875 20.015625 65.03125 \r\nQ 15.375 64.15625 9.8125 62.3125 \r\nL 9.8125 71.09375 \r\nQ 15.4375 72.65625 20.34375 73.4375 \r\nQ 25.25 74.21875 29.59375 74.21875 \r\nQ 40.828125 74.21875 47.359375 69.109375 \r\nQ 53.90625 64.015625 53.90625 55.328125 \r\nQ 53.90625 49.265625 50.4375 45.09375 \r\nQ 46.96875 40.921875 40.578125 39.3125 \r\nz\r\n\" id=\"DejaVuSans-51\"/>\r\n       </defs>\r\n       <use xlink:href=\"#DejaVuSans-51\"/>\r\n      </g>\r\n     </g>\r\n    </g>\r\n    <g id=\"xtick_7\">\r\n     <g id=\"line2d_28\">\r\n      <g>\r\n       <use style=\"stroke:#000000;stroke-width:0.8;\" x=\"572.489825\" xlink:href=\"#m2bfa94ef2b\" y=\"279\"/>\r\n      </g>\r\n     </g>\r\n     <g id=\"text_17\">\r\n      <!-- 4 -->\r\n      <g transform=\"translate(569.308575 293.598437)scale(0.1 -0.1)\">\r\n       <use xlink:href=\"#DejaVuSans-52\"/>\r\n      </g>\r\n     </g>\r\n    </g>\r\n    <g id=\"xtick_8\">\r\n     <g id=\"line2d_29\">\r\n      <g>\r\n       <use style=\"stroke:#000000;stroke-width:0.8;\" x=\"613.721352\" xlink:href=\"#m2bfa94ef2b\" y=\"279\"/>\r\n      </g>\r\n     </g>\r\n     <g id=\"text_18\">\r\n      <!-- 5 -->\r\n      <g transform=\"translate(610.540102 293.598437)scale(0.1 -0.1)\">\r\n       <defs>\r\n        <path d=\"M 10.796875 72.90625 \r\nL 49.515625 72.90625 \r\nL 49.515625 64.59375 \r\nL 19.828125 64.59375 \r\nL 19.828125 46.734375 \r\nQ 21.96875 47.46875 24.109375 47.828125 \r\nQ 26.265625 48.1875 28.421875 48.1875 \r\nQ 40.625 48.1875 47.75 41.5 \r\nQ 54.890625 34.8125 54.890625 23.390625 \r\nQ 54.890625 11.625 47.5625 5.09375 \r\nQ 40.234375 -1.421875 26.90625 -1.421875 \r\nQ 22.3125 -1.421875 17.546875 -0.640625 \r\nQ 12.796875 0.140625 7.71875 1.703125 \r\nL 7.71875 11.625 \r\nQ 12.109375 9.234375 16.796875 8.0625 \r\nQ 21.484375 6.890625 26.703125 6.890625 \r\nQ 35.15625 6.890625 40.078125 11.328125 \r\nQ 45.015625 15.765625 45.015625 23.390625 \r\nQ 45.015625 31 40.078125 35.4375 \r\nQ 35.15625 39.890625 26.703125 39.890625 \r\nQ 22.75 39.890625 18.8125 39.015625 \r\nQ 14.890625 38.140625 10.796875 36.28125 \r\nz\r\n\" id=\"DejaVuSans-53\"/>\r\n       </defs>\r\n       <use xlink:href=\"#DejaVuSans-53\"/>\r\n      </g>\r\n     </g>\r\n    </g>\r\n    <g id=\"xtick_9\">\r\n     <g id=\"line2d_30\">\r\n      <g>\r\n       <use style=\"stroke:#000000;stroke-width:0.8;\" x=\"654.952879\" xlink:href=\"#m2bfa94ef2b\" y=\"279\"/>\r\n      </g>\r\n     </g>\r\n     <g id=\"text_19\">\r\n      <!-- 8 -->\r\n      <g transform=\"translate(651.771629 293.598437)scale(0.1 -0.1)\">\r\n       <use xlink:href=\"#DejaVuSans-56\"/>\r\n      </g>\r\n     </g>\r\n    </g>\r\n    <g id=\"text_20\">\r\n     <!-- sibsp -->\r\n     <g transform=\"translate(518.311422 307.276562)scale(0.1 -0.1)\">\r\n      <defs>\r\n       <path d=\"M 48.6875 27.296875 \r\nQ 48.6875 37.203125 44.609375 42.84375 \r\nQ 40.53125 48.484375 33.40625 48.484375 \r\nQ 26.265625 48.484375 22.1875 42.84375 \r\nQ 18.109375 37.203125 18.109375 27.296875 \r\nQ 18.109375 17.390625 22.1875 11.75 \r\nQ 26.265625 6.109375 33.40625 6.109375 \r\nQ 40.53125 6.109375 44.609375 11.75 \r\nQ 48.6875 17.390625 48.6875 27.296875 \r\nz\r\nM 18.109375 46.390625 \r\nQ 20.953125 51.265625 25.265625 53.625 \r\nQ 29.59375 56 35.59375 56 \r\nQ 45.5625 56 51.78125 48.09375 \r\nQ 58.015625 40.1875 58.015625 27.296875 \r\nQ 58.015625 14.40625 51.78125 6.484375 \r\nQ 45.5625 -1.421875 35.59375 -1.421875 \r\nQ 29.59375 -1.421875 25.265625 0.953125 \r\nQ 20.953125 3.328125 18.109375 8.203125 \r\nL 18.109375 0 \r\nL 9.078125 0 \r\nL 9.078125 75.984375 \r\nL 18.109375 75.984375 \r\nz\r\n\" id=\"DejaVuSans-98\"/>\r\n       <path d=\"M 18.109375 8.203125 \r\nL 18.109375 -20.796875 \r\nL 9.078125 -20.796875 \r\nL 9.078125 54.6875 \r\nL 18.109375 54.6875 \r\nL 18.109375 46.390625 \r\nQ 20.953125 51.265625 25.265625 53.625 \r\nQ 29.59375 56 35.59375 56 \r\nQ 45.5625 56 51.78125 48.09375 \r\nQ 58.015625 40.1875 58.015625 27.296875 \r\nQ 58.015625 14.40625 51.78125 6.484375 \r\nQ 45.5625 -1.421875 35.59375 -1.421875 \r\nQ 29.59375 -1.421875 25.265625 0.953125 \r\nQ 20.953125 3.328125 18.109375 8.203125 \r\nz\r\nM 48.6875 27.296875 \r\nQ 48.6875 37.203125 44.609375 42.84375 \r\nQ 40.53125 48.484375 33.40625 48.484375 \r\nQ 26.265625 48.484375 22.1875 42.84375 \r\nQ 18.109375 37.203125 18.109375 27.296875 \r\nQ 18.109375 17.390625 22.1875 11.75 \r\nQ 26.265625 6.109375 33.40625 6.109375 \r\nQ 40.53125 6.109375 44.609375 11.75 \r\nQ 48.6875 17.390625 48.6875 27.296875 \r\nz\r\n\" id=\"DejaVuSans-112\"/>\r\n      </defs>\r\n      <use xlink:href=\"#DejaVuSans-115\"/>\r\n      <use x=\"52.099609\" xlink:href=\"#DejaVuSans-105\"/>\r\n      <use x=\"79.882812\" xlink:href=\"#DejaVuSans-98\"/>\r\n      <use x=\"143.359375\" xlink:href=\"#DejaVuSans-115\"/>\r\n      <use x=\"195.458984\" xlink:href=\"#DejaVuSans-112\"/>\r\n     </g>\r\n    </g>\r\n   </g>\r\n   <g id=\"matplotlib.axis_4\">\r\n    <g id=\"ytick_6\">\r\n     <g id=\"line2d_31\">\r\n      <g>\r\n       <use style=\"stroke:#000000;stroke-width:0.8;\" x=\"386.947953\" xlink:href=\"#m1bad7886ab\" y=\"266.645455\"/>\r\n      </g>\r\n     </g>\r\n     <g id=\"text_21\">\r\n      <!-- 0.0 -->\r\n      <g transform=\"translate(364.044828 270.444673)scale(0.1 -0.1)\">\r\n       <defs>\r\n        <path d=\"M 10.6875 12.40625 \r\nL 21 12.40625 \r\nL 21 0 \r\nL 10.6875 0 \r\nz\r\n\" id=\"DejaVuSans-46\"/>\r\n       </defs>\r\n       <use xlink:href=\"#DejaVuSans-48\"/>\r\n       <use x=\"63.623047\" xlink:href=\"#DejaVuSans-46\"/>\r\n       <use x=\"95.410156\" xlink:href=\"#DejaVuSans-48\"/>\r\n      </g>\r\n     </g>\r\n    </g>\r\n    <g id=\"ytick_7\">\r\n     <g id=\"line2d_32\">\r\n      <g>\r\n       <use style=\"stroke:#000000;stroke-width:0.8;\" x=\"386.947953\" xlink:href=\"#m1bad7886ab\" y=\"214.481818\"/>\r\n      </g>\r\n     </g>\r\n     <g id=\"text_22\">\r\n      <!-- 0.2 -->\r\n      <g transform=\"translate(364.044828 218.281037)scale(0.1 -0.1)\">\r\n       <use xlink:href=\"#DejaVuSans-48\"/>\r\n       <use x=\"63.623047\" xlink:href=\"#DejaVuSans-46\"/>\r\n       <use x=\"95.410156\" xlink:href=\"#DejaVuSans-50\"/>\r\n      </g>\r\n     </g>\r\n    </g>\r\n    <g id=\"ytick_8\">\r\n     <g id=\"line2d_33\">\r\n      <g>\r\n       <use style=\"stroke:#000000;stroke-width:0.8;\" x=\"386.947953\" xlink:href=\"#m1bad7886ab\" y=\"162.318182\"/>\r\n      </g>\r\n     </g>\r\n     <g id=\"text_23\">\r\n      <!-- 0.4 -->\r\n      <g transform=\"translate(364.044828 166.117401)scale(0.1 -0.1)\">\r\n       <use xlink:href=\"#DejaVuSans-48\"/>\r\n       <use x=\"63.623047\" xlink:href=\"#DejaVuSans-46\"/>\r\n       <use x=\"95.410156\" xlink:href=\"#DejaVuSans-52\"/>\r\n      </g>\r\n     </g>\r\n    </g>\r\n    <g id=\"ytick_9\">\r\n     <g id=\"line2d_34\">\r\n      <g>\r\n       <use style=\"stroke:#000000;stroke-width:0.8;\" x=\"386.947953\" xlink:href=\"#m1bad7886ab\" y=\"110.154545\"/>\r\n      </g>\r\n     </g>\r\n     <g id=\"text_24\">\r\n      <!-- 0.6 -->\r\n      <g transform=\"translate(364.044828 113.953764)scale(0.1 -0.1)\">\r\n       <use xlink:href=\"#DejaVuSans-48\"/>\r\n       <use x=\"63.623047\" xlink:href=\"#DejaVuSans-46\"/>\r\n       <use x=\"95.410156\" xlink:href=\"#DejaVuSans-54\"/>\r\n      </g>\r\n     </g>\r\n    </g>\r\n    <g id=\"ytick_10\">\r\n     <g id=\"line2d_35\">\r\n      <g>\r\n       <use style=\"stroke:#000000;stroke-width:0.8;\" x=\"386.947953\" xlink:href=\"#m1bad7886ab\" y=\"57.990909\"/>\r\n      </g>\r\n     </g>\r\n     <g id=\"text_25\">\r\n      <!-- 0.8 -->\r\n      <g transform=\"translate(364.044828 61.790128)scale(0.1 -0.1)\">\r\n       <use xlink:href=\"#DejaVuSans-48\"/>\r\n       <use x=\"63.623047\" xlink:href=\"#DejaVuSans-46\"/>\r\n       <use x=\"95.410156\" xlink:href=\"#DejaVuSans-56\"/>\r\n      </g>\r\n     </g>\r\n    </g>\r\n    <g id=\"text_26\">\r\n     <!-- survived -->\r\n     <g transform=\"translate(357.96514 164.4875)rotate(-90)scale(0.1 -0.1)\">\r\n      <use xlink:href=\"#DejaVuSans-115\"/>\r\n      <use x=\"52.099609\" xlink:href=\"#DejaVuSans-117\"/>\r\n      <use x=\"115.478516\" xlink:href=\"#DejaVuSans-114\"/>\r\n      <use x=\"156.591797\" xlink:href=\"#DejaVuSans-118\"/>\r\n      <use x=\"215.771484\" xlink:href=\"#DejaVuSans-105\"/>\r\n      <use x=\"243.554688\" xlink:href=\"#DejaVuSans-118\"/>\r\n      <use x=\"302.734375\" xlink:href=\"#DejaVuSans-101\"/>\r\n      <use x=\"364.257812\" xlink:href=\"#DejaVuSans-100\"/>\r\n     </g>\r\n    </g>\r\n   </g>\r\n   <g id=\"PathCollection_6\">\r\n    <defs>\r\n     <path d=\"M 0 3.383948 \r\nC 0.897434 3.383948 1.758231 3.027394 2.392813 2.392813 \r\nC 3.027394 1.758231 3.383948 0.897434 3.383948 0 \r\nC 3.383948 -0.897434 3.027394 -1.758231 2.392813 -2.392813 \r\nC 1.758231 -3.027394 0.897434 -3.383948 0 -3.383948 \r\nC -0.897434 -3.383948 -1.758231 -3.027394 -2.392813 -2.392813 \r\nC -3.027394 -1.758231 -3.383948 -0.897434 -3.383948 0 \r\nC -3.383948 0.897434 -3.027394 1.758231 -2.392813 2.392813 \r\nC -1.758231 3.027394 -0.897434 3.383948 0 3.383948 \r\nz\r\n\" id=\"m39e89cae11\" style=\"stroke:#ff7f0e;stroke-width:2.025;\"/>\r\n    </defs>\r\n    <g clip-path=\"url(#pee7f6e6135)\">\r\n     <use style=\"fill:#ff7f0e;stroke:#ff7f0e;stroke-width:2.025;\" x=\"407.563716\" xlink:href=\"#m39e89cae11\" y=\"220.204061\"/>\r\n     <use style=\"fill:#ff7f0e;stroke:#ff7f0e;stroke-width:2.025;\" x=\"448.795243\" xlink:href=\"#m39e89cae11\" y=\"196.10972\"/>\r\n     <use style=\"fill:#ff7f0e;stroke:#ff7f0e;stroke-width:2.025;\" x=\"490.02677\" xlink:href=\"#m39e89cae11\" y=\"221.285771\"/>\r\n     <use style=\"fill:#ff7f0e;stroke:#ff7f0e;stroke-width:2.025;\" x=\"531.258297\" xlink:href=\"#m39e89cae11\" y=\"234.043182\"/>\r\n     <use style=\"fill:#ff7f0e;stroke:#ff7f0e;stroke-width:2.025;\" x=\"572.489825\" xlink:href=\"#m39e89cae11\" y=\"249.257576\"/>\r\n     <use style=\"fill:#ff7f0e;stroke:#ff7f0e;stroke-width:2.025;\" x=\"613.721352\" xlink:href=\"#m39e89cae11\" y=\"266.645455\"/>\r\n     <use style=\"fill:#ff7f0e;stroke:#ff7f0e;stroke-width:2.025;\" x=\"654.952879\" xlink:href=\"#m39e89cae11\" y=\"266.645455\"/>\r\n    </g>\r\n   </g>\r\n   <g id=\"line2d_36\">\r\n    <path clip-path=\"url(#pee7f6e6135)\" d=\"M 407.563716 220.204061 \r\nL 448.795243 196.10972 \r\nL 490.02677 221.285771 \r\nL 531.258297 234.043182 \r\nL 572.489825 249.257576 \r\nL 613.721352 266.645455 \r\nL 654.952879 266.645455 \r\n\" style=\"fill:none;stroke:#ff7f0e;stroke-linecap:square;stroke-width:2.7;\"/>\r\n   </g>\r\n   <g id=\"line2d_37\">\r\n    <path clip-path=\"url(#pee7f6e6135)\" d=\"M 407.563716 228.082512 \r\nL 407.563716 213.144555 \r\n\" style=\"fill:none;stroke:#ff7f0e;stroke-linecap:square;stroke-width:2.7;\"/>\r\n   </g>\r\n   <g id=\"line2d_38\">\r\n    <path clip-path=\"url(#pee7f6e6135)\" d=\"M 448.795243 212.513379 \r\nL 448.795243 176.425329 \r\n\" style=\"fill:none;stroke:#ff7f0e;stroke-linecap:square;stroke-width:2.7;\"/>\r\n   </g>\r\n   <g id=\"line2d_39\">\r\n    <path clip-path=\"url(#pee7f6e6135)\" d=\"M 490.02677 255.305534 \r\nL 490.02677 175.926087 \r\n\" style=\"fill:none;stroke:#ff7f0e;stroke-linecap:square;stroke-width:2.7;\"/>\r\n   </g>\r\n   <g id=\"line2d_40\">\r\n    <path clip-path=\"url(#pee7f6e6135)\" d=\"M 531.258297 266.645455 \r\nL 531.258297 168.838636 \r\n\" style=\"fill:none;stroke:#ff7f0e;stroke-linecap:square;stroke-width:2.7;\"/>\r\n   </g>\r\n   <g id=\"line2d_41\">\r\n    <path clip-path=\"url(#pee7f6e6135)\" d=\"M 572.489825 266.645455 \r\nL 572.489825 214.481818 \r\n\" style=\"fill:none;stroke:#ff7f0e;stroke-linecap:square;stroke-width:2.7;\"/>\r\n   </g>\r\n   <g id=\"line2d_42\">\r\n    <path clip-path=\"url(#pee7f6e6135)\" d=\"M 613.721352 266.645455 \r\nL 613.721352 266.645455 \r\n\" style=\"fill:none;stroke:#ff7f0e;stroke-linecap:square;stroke-width:2.7;\"/>\r\n   </g>\r\n   <g id=\"line2d_43\">\r\n    <path clip-path=\"url(#pee7f6e6135)\" d=\"M 654.952879 266.645455 \r\nL 654.952879 266.645455 \r\n\" style=\"fill:none;stroke:#ff7f0e;stroke-linecap:square;stroke-width:2.7;\"/>\r\n   </g>\r\n   <g id=\"patch_13\">\r\n    <path d=\"M 386.947953 279 \r\nL 386.947953 7.2 \r\n\" style=\"fill:none;stroke:#000000;stroke-linecap:square;stroke-linejoin:miter;stroke-width:0.8;\"/>\r\n   </g>\r\n   <g id=\"patch_14\">\r\n    <path d=\"M 675.568642 279 \r\nL 675.568642 7.2 \r\n\" style=\"fill:none;stroke:#000000;stroke-linecap:square;stroke-linejoin:miter;stroke-width:0.8;\"/>\r\n   </g>\r\n   <g id=\"patch_15\">\r\n    <path d=\"M 386.947953 279 \r\nL 675.568642 279 \r\n\" style=\"fill:none;stroke:#000000;stroke-linecap:square;stroke-linejoin:miter;stroke-width:0.8;\"/>\r\n   </g>\r\n   <g id=\"patch_16\">\r\n    <path d=\"M 386.947953 7.2 \r\nL 675.568642 7.2 \r\n\" style=\"fill:none;stroke:#000000;stroke-linecap:square;stroke-linejoin:miter;stroke-width:0.8;\"/>\r\n   </g>\r\n   <g id=\"legend_2\">\r\n    <g id=\"patch_17\">\r\n     <path d=\"M 602.095205 59.234375 \r\nL 668.568642 59.234375 \r\nQ 670.568642 59.234375 670.568642 57.234375 \r\nL 670.568642 14.2 \r\nQ 670.568642 12.2 668.568642 12.2 \r\nL 602.095205 12.2 \r\nQ 600.095205 12.2 600.095205 14.2 \r\nL 600.095205 57.234375 \r\nQ 600.095205 59.234375 602.095205 59.234375 \r\nz\r\n\" style=\"fill:#ffffff;opacity:0.8;stroke:#cccccc;stroke-linejoin:miter;\"/>\r\n    </g>\r\n    <g id=\"text_27\">\r\n     <!-- sex -->\r\n     <g transform=\"translate(626.778798 23.798437)scale(0.1 -0.1)\">\r\n      <use xlink:href=\"#DejaVuSans-115\"/>\r\n      <use x=\"52.099609\" xlink:href=\"#DejaVuSans-101\"/>\r\n      <use x=\"111.873047\" xlink:href=\"#DejaVuSans-120\"/>\r\n     </g>\r\n    </g>\r\n    <g id=\"PathCollection_7\">\r\n     <g>\r\n      <use style=\"fill:#1f77b4;stroke:#1f77b4;stroke-width:2.025;\" x=\"614.095205\" xlink:href=\"#m055fb95b70\" y=\"35.851562\"/>\r\n     </g>\r\n    </g>\r\n    <g id=\"text_28\">\r\n     <!-- female -->\r\n     <g transform=\"translate(632.095205 38.476562)scale(0.1 -0.1)\">\r\n      <use xlink:href=\"#DejaVuSans-102\"/>\r\n      <use x=\"35.205078\" xlink:href=\"#DejaVuSans-101\"/>\r\n      <use x=\"96.728516\" xlink:href=\"#DejaVuSans-109\"/>\r\n      <use x=\"194.140625\" xlink:href=\"#DejaVuSans-97\"/>\r\n      <use x=\"255.419922\" xlink:href=\"#DejaVuSans-108\"/>\r\n      <use x=\"283.203125\" xlink:href=\"#DejaVuSans-101\"/>\r\n     </g>\r\n    </g>\r\n    <g id=\"PathCollection_8\">\r\n     <g>\r\n      <use style=\"fill:#ff7f0e;stroke:#ff7f0e;stroke-width:2.025;\" x=\"614.095205\" xlink:href=\"#m39e89cae11\" y=\"50.529688\"/>\r\n     </g>\r\n    </g>\r\n    <g id=\"text_29\">\r\n     <!-- male -->\r\n     <g transform=\"translate(632.095205 53.154688)scale(0.1 -0.1)\">\r\n      <use xlink:href=\"#DejaVuSans-109\"/>\r\n      <use x=\"97.412109\" xlink:href=\"#DejaVuSans-97\"/>\r\n      <use x=\"158.691406\" xlink:href=\"#DejaVuSans-108\"/>\r\n      <use x=\"186.474609\" xlink:href=\"#DejaVuSans-101\"/>\r\n     </g>\r\n    </g>\r\n   </g>\r\n  </g>\r\n  <g id=\"axes_3\">\r\n   <g id=\"patch_18\">\r\n    <path d=\"M 733.29278 279 \r\nL 1021.91347 279 \r\nL 1021.91347 7.2 \r\nL 733.29278 7.2 \r\nz\r\n\" style=\"fill:#ffffff;\"/>\r\n   </g>\r\n   <g id=\"PathCollection_9\">\r\n    <g clip-path=\"url(#pdc494386d5)\">\r\n     <use style=\"fill:#1f77b4;stroke:#1f77b4;stroke-width:2.025;\" x=\"751.331573\" xlink:href=\"#m055fb95b70\" y=\"82.803072\"/>\r\n     <use style=\"fill:#1f77b4;stroke:#1f77b4;stroke-width:2.025;\" x=\"787.409159\" xlink:href=\"#m055fb95b70\" y=\"70.095868\"/>\r\n     <use style=\"fill:#1f77b4;stroke:#1f77b4;stroke-width:2.025;\" x=\"823.486746\" xlink:href=\"#m055fb95b70\" y=\"109.080237\"/>\r\n     <use style=\"fill:#1f77b4;stroke:#1f77b4;stroke-width:2.025;\" x=\"859.564332\" xlink:href=\"#m055fb95b70\" y=\"60.736364\"/>\r\n     <use style=\"fill:#1f77b4;stroke:#1f77b4;stroke-width:2.025;\" x=\"895.641918\" xlink:href=\"#m055fb95b70\" y=\"204.872727\"/>\r\n     <use style=\"fill:#1f77b4;stroke:#1f77b4;stroke-width:2.025;\" x=\"931.719504\" xlink:href=\"#m055fb95b70\" y=\"204.872727\"/>\r\n     <use style=\"fill:#1f77b4;stroke:#1f77b4;stroke-width:2.025;\" x=\"967.797091\" xlink:href=\"#m055fb95b70\" y=\"266.645455\"/>\r\n     <use style=\"fill:#1f77b4;stroke:#1f77b4;stroke-width:2.025;\" x=\"1003.874677\" xlink:href=\"#m055fb95b70\" y=\"266.645455\"/>\r\n    </g>\r\n   </g>\r\n   <g id=\"line2d_44\">\r\n    <path clip-path=\"url(#pdc494386d5)\" d=\"M 751.331573 82.803072 \r\nL 787.409159 70.095868 \r\nL 823.486746 109.080237 \r\nL 859.564332 60.736364 \r\nL 895.641918 204.872727 \r\nL 931.719504 204.872727 \r\nL 967.797091 266.645455 \r\nL 1003.874677 266.645455 \r\n\" style=\"fill:none;stroke:#1f77b4;stroke-linecap:square;stroke-width:2.7;\"/>\r\n   </g>\r\n   <g id=\"line2d_45\">\r\n    <path clip-path=\"url(#pdc494386d5)\" d=\"M 751.331573 96.296091 \r\nL 751.331573 70.99668 \r\n\" style=\"fill:none;stroke:#1f77b4;stroke-linecap:square;stroke-width:2.7;\"/>\r\n   </g>\r\n   <g id=\"line2d_46\">\r\n    <path clip-path=\"url(#pdc494386d5)\" d=\"M 787.409159 92.558678 \r\nL 787.409159 50.440909 \r\n\" style=\"fill:none;stroke:#1f77b4;stroke-linecap:square;stroke-width:2.7;\"/>\r\n   </g>\r\n   <g id=\"line2d_47\">\r\n    <path clip-path=\"url(#pdc494386d5)\" d=\"M 823.486746 137.728458 \r\nL 823.486746 83.923518 \r\n\" style=\"fill:none;stroke:#1f77b4;stroke-linecap:square;stroke-width:2.7;\"/>\r\n   </g>\r\n   <g id=\"line2d_48\">\r\n    <path clip-path=\"url(#pdc494386d5)\" d=\"M 859.564332 143.1 \r\nL 859.564332 19.554545 \r\n\" style=\"fill:none;stroke:#1f77b4;stroke-linecap:square;stroke-width:2.7;\"/>\r\n   </g>\r\n   <g id=\"line2d_49\">\r\n    <path clip-path=\"url(#pdc494386d5)\" d=\"M 895.641918 266.645455 \r\nL 895.641918 81.327273 \r\n\" style=\"fill:none;stroke:#1f77b4;stroke-linecap:square;stroke-width:2.7;\"/>\r\n   </g>\r\n   <g id=\"line2d_50\">\r\n    <path clip-path=\"url(#pdc494386d5)\" d=\"M 931.719504 266.645455 \r\nL 931.719504 81.327273 \r\n\" style=\"fill:none;stroke:#1f77b4;stroke-linecap:square;stroke-width:2.7;\"/>\r\n   </g>\r\n   <g id=\"line2d_51\">\r\n    <path clip-path=\"url(#pdc494386d5)\" d=\"M 0 0 \r\n\" style=\"fill:none;stroke:#1f77b4;stroke-linecap:square;stroke-width:2.7;\"/>\r\n   </g>\r\n   <g id=\"line2d_52\">\r\n    <path clip-path=\"url(#pdc494386d5)\" d=\"M 0 0 \r\n\" style=\"fill:none;stroke:#1f77b4;stroke-linecap:square;stroke-width:2.7;\"/>\r\n   </g>\r\n   <g id=\"matplotlib.axis_5\">\r\n    <g id=\"xtick_10\">\r\n     <g id=\"line2d_53\">\r\n      <g>\r\n       <use style=\"stroke:#000000;stroke-width:0.8;\" x=\"751.331573\" xlink:href=\"#m2bfa94ef2b\" y=\"279\"/>\r\n      </g>\r\n     </g>\r\n     <g id=\"text_30\">\r\n      <!-- 0 -->\r\n      <g transform=\"translate(748.150323 293.598437)scale(0.1 -0.1)\">\r\n       <use xlink:href=\"#DejaVuSans-48\"/>\r\n      </g>\r\n     </g>\r\n    </g>\r\n    <g id=\"xtick_11\">\r\n     <g id=\"line2d_54\">\r\n      <g>\r\n       <use style=\"stroke:#000000;stroke-width:0.8;\" x=\"787.409159\" xlink:href=\"#m2bfa94ef2b\" y=\"279\"/>\r\n      </g>\r\n     </g>\r\n     <g id=\"text_31\">\r\n      <!-- 1 -->\r\n      <g transform=\"translate(784.227909 293.598437)scale(0.1 -0.1)\">\r\n       <use xlink:href=\"#DejaVuSans-49\"/>\r\n      </g>\r\n     </g>\r\n    </g>\r\n    <g id=\"xtick_12\">\r\n     <g id=\"line2d_55\">\r\n      <g>\r\n       <use style=\"stroke:#000000;stroke-width:0.8;\" x=\"823.486746\" xlink:href=\"#m2bfa94ef2b\" y=\"279\"/>\r\n      </g>\r\n     </g>\r\n     <g id=\"text_32\">\r\n      <!-- 2 -->\r\n      <g transform=\"translate(820.305496 293.598437)scale(0.1 -0.1)\">\r\n       <use xlink:href=\"#DejaVuSans-50\"/>\r\n      </g>\r\n     </g>\r\n    </g>\r\n    <g id=\"xtick_13\">\r\n     <g id=\"line2d_56\">\r\n      <g>\r\n       <use style=\"stroke:#000000;stroke-width:0.8;\" x=\"859.564332\" xlink:href=\"#m2bfa94ef2b\" y=\"279\"/>\r\n      </g>\r\n     </g>\r\n     <g id=\"text_33\">\r\n      <!-- 3 -->\r\n      <g transform=\"translate(856.383082 293.598437)scale(0.1 -0.1)\">\r\n       <use xlink:href=\"#DejaVuSans-51\"/>\r\n      </g>\r\n     </g>\r\n    </g>\r\n    <g id=\"xtick_14\">\r\n     <g id=\"line2d_57\">\r\n      <g>\r\n       <use style=\"stroke:#000000;stroke-width:0.8;\" x=\"895.641918\" xlink:href=\"#m2bfa94ef2b\" y=\"279\"/>\r\n      </g>\r\n     </g>\r\n     <g id=\"text_34\">\r\n      <!-- 4 -->\r\n      <g transform=\"translate(892.460668 293.598437)scale(0.1 -0.1)\">\r\n       <use xlink:href=\"#DejaVuSans-52\"/>\r\n      </g>\r\n     </g>\r\n    </g>\r\n    <g id=\"xtick_15\">\r\n     <g id=\"line2d_58\">\r\n      <g>\r\n       <use style=\"stroke:#000000;stroke-width:0.8;\" x=\"931.719504\" xlink:href=\"#m2bfa94ef2b\" y=\"279\"/>\r\n      </g>\r\n     </g>\r\n     <g id=\"text_35\">\r\n      <!-- 5 -->\r\n      <g transform=\"translate(928.538254 293.598437)scale(0.1 -0.1)\">\r\n       <use xlink:href=\"#DejaVuSans-53\"/>\r\n      </g>\r\n     </g>\r\n    </g>\r\n    <g id=\"xtick_16\">\r\n     <g id=\"line2d_59\">\r\n      <g>\r\n       <use style=\"stroke:#000000;stroke-width:0.8;\" x=\"967.797091\" xlink:href=\"#m2bfa94ef2b\" y=\"279\"/>\r\n      </g>\r\n     </g>\r\n     <g id=\"text_36\">\r\n      <!-- 6 -->\r\n      <g transform=\"translate(964.615841 293.598437)scale(0.1 -0.1)\">\r\n       <use xlink:href=\"#DejaVuSans-54\"/>\r\n      </g>\r\n     </g>\r\n    </g>\r\n    <g id=\"xtick_17\">\r\n     <g id=\"line2d_60\">\r\n      <g>\r\n       <use style=\"stroke:#000000;stroke-width:0.8;\" x=\"1003.874677\" xlink:href=\"#m2bfa94ef2b\" y=\"279\"/>\r\n      </g>\r\n     </g>\r\n     <g id=\"text_37\">\r\n      <!-- 9 -->\r\n      <g transform=\"translate(1000.693427 293.598437)scale(0.1 -0.1)\">\r\n       <defs>\r\n        <path d=\"M 10.984375 1.515625 \r\nL 10.984375 10.5 \r\nQ 14.703125 8.734375 18.5 7.8125 \r\nQ 22.3125 6.890625 25.984375 6.890625 \r\nQ 35.75 6.890625 40.890625 13.453125 \r\nQ 46.046875 20.015625 46.78125 33.40625 \r\nQ 43.953125 29.203125 39.59375 26.953125 \r\nQ 35.25 24.703125 29.984375 24.703125 \r\nQ 19.046875 24.703125 12.671875 31.3125 \r\nQ 6.296875 37.9375 6.296875 49.421875 \r\nQ 6.296875 60.640625 12.9375 67.421875 \r\nQ 19.578125 74.21875 30.609375 74.21875 \r\nQ 43.265625 74.21875 49.921875 64.515625 \r\nQ 56.59375 54.828125 56.59375 36.375 \r\nQ 56.59375 19.140625 48.40625 8.859375 \r\nQ 40.234375 -1.421875 26.421875 -1.421875 \r\nQ 22.703125 -1.421875 18.890625 -0.6875 \r\nQ 15.09375 0.046875 10.984375 1.515625 \r\nz\r\nM 30.609375 32.421875 \r\nQ 37.25 32.421875 41.125 36.953125 \r\nQ 45.015625 41.5 45.015625 49.421875 \r\nQ 45.015625 57.28125 41.125 61.84375 \r\nQ 37.25 66.40625 30.609375 66.40625 \r\nQ 23.96875 66.40625 20.09375 61.84375 \r\nQ 16.21875 57.28125 16.21875 49.421875 \r\nQ 16.21875 41.5 20.09375 36.953125 \r\nQ 23.96875 32.421875 30.609375 32.421875 \r\nz\r\n\" id=\"DejaVuSans-57\"/>\r\n       </defs>\r\n       <use xlink:href=\"#DejaVuSans-57\"/>\r\n      </g>\r\n     </g>\r\n    </g>\r\n    <g id=\"text_38\">\r\n     <!-- parch -->\r\n     <g transform=\"translate(863.503906 307.276562)scale(0.1 -0.1)\">\r\n      <defs>\r\n       <path d=\"M 48.78125 52.59375 \r\nL 48.78125 44.1875 \r\nQ 44.96875 46.296875 41.140625 47.34375 \r\nQ 37.3125 48.390625 33.40625 48.390625 \r\nQ 24.65625 48.390625 19.8125 42.84375 \r\nQ 14.984375 37.3125 14.984375 27.296875 \r\nQ 14.984375 17.28125 19.8125 11.734375 \r\nQ 24.65625 6.203125 33.40625 6.203125 \r\nQ 37.3125 6.203125 41.140625 7.25 \r\nQ 44.96875 8.296875 48.78125 10.40625 \r\nL 48.78125 2.09375 \r\nQ 45.015625 0.34375 40.984375 -0.53125 \r\nQ 36.96875 -1.421875 32.421875 -1.421875 \r\nQ 20.0625 -1.421875 12.78125 6.34375 \r\nQ 5.515625 14.109375 5.515625 27.296875 \r\nQ 5.515625 40.671875 12.859375 48.328125 \r\nQ 20.21875 56 33.015625 56 \r\nQ 37.15625 56 41.109375 55.140625 \r\nQ 45.0625 54.296875 48.78125 52.59375 \r\nz\r\n\" id=\"DejaVuSans-99\"/>\r\n       <path d=\"M 54.890625 33.015625 \r\nL 54.890625 0 \r\nL 45.90625 0 \r\nL 45.90625 32.71875 \r\nQ 45.90625 40.484375 42.875 44.328125 \r\nQ 39.84375 48.1875 33.796875 48.1875 \r\nQ 26.515625 48.1875 22.3125 43.546875 \r\nQ 18.109375 38.921875 18.109375 30.90625 \r\nL 18.109375 0 \r\nL 9.078125 0 \r\nL 9.078125 75.984375 \r\nL 18.109375 75.984375 \r\nL 18.109375 46.1875 \r\nQ 21.34375 51.125 25.703125 53.5625 \r\nQ 30.078125 56 35.796875 56 \r\nQ 45.21875 56 50.046875 50.171875 \r\nQ 54.890625 44.34375 54.890625 33.015625 \r\nz\r\n\" id=\"DejaVuSans-104\"/>\r\n      </defs>\r\n      <use xlink:href=\"#DejaVuSans-112\"/>\r\n      <use x=\"63.476562\" xlink:href=\"#DejaVuSans-97\"/>\r\n      <use x=\"124.755859\" xlink:href=\"#DejaVuSans-114\"/>\r\n      <use x=\"163.619141\" xlink:href=\"#DejaVuSans-99\"/>\r\n      <use x=\"218.599609\" xlink:href=\"#DejaVuSans-104\"/>\r\n     </g>\r\n    </g>\r\n   </g>\r\n   <g id=\"matplotlib.axis_6\">\r\n    <g id=\"ytick_11\">\r\n     <g id=\"line2d_61\">\r\n      <g>\r\n       <use style=\"stroke:#000000;stroke-width:0.8;\" x=\"733.29278\" xlink:href=\"#m1bad7886ab\" y=\"266.645455\"/>\r\n      </g>\r\n     </g>\r\n     <g id=\"text_39\">\r\n      <!-- 0.0 -->\r\n      <g transform=\"translate(710.389655 270.444673)scale(0.1 -0.1)\">\r\n       <use xlink:href=\"#DejaVuSans-48\"/>\r\n       <use x=\"63.623047\" xlink:href=\"#DejaVuSans-46\"/>\r\n       <use x=\"95.410156\" xlink:href=\"#DejaVuSans-48\"/>\r\n      </g>\r\n     </g>\r\n    </g>\r\n    <g id=\"ytick_12\">\r\n     <g id=\"line2d_62\">\r\n      <g>\r\n       <use style=\"stroke:#000000;stroke-width:0.8;\" x=\"733.29278\" xlink:href=\"#m1bad7886ab\" y=\"217.227273\"/>\r\n      </g>\r\n     </g>\r\n     <g id=\"text_40\">\r\n      <!-- 0.2 -->\r\n      <g transform=\"translate(710.389655 221.026491)scale(0.1 -0.1)\">\r\n       <use xlink:href=\"#DejaVuSans-48\"/>\r\n       <use x=\"63.623047\" xlink:href=\"#DejaVuSans-46\"/>\r\n       <use x=\"95.410156\" xlink:href=\"#DejaVuSans-50\"/>\r\n      </g>\r\n     </g>\r\n    </g>\r\n    <g id=\"ytick_13\">\r\n     <g id=\"line2d_63\">\r\n      <g>\r\n       <use style=\"stroke:#000000;stroke-width:0.8;\" x=\"733.29278\" xlink:href=\"#m1bad7886ab\" y=\"167.809091\"/>\r\n      </g>\r\n     </g>\r\n     <g id=\"text_41\">\r\n      <!-- 0.4 -->\r\n      <g transform=\"translate(710.389655 171.60831)scale(0.1 -0.1)\">\r\n       <use xlink:href=\"#DejaVuSans-48\"/>\r\n       <use x=\"63.623047\" xlink:href=\"#DejaVuSans-46\"/>\r\n       <use x=\"95.410156\" xlink:href=\"#DejaVuSans-52\"/>\r\n      </g>\r\n     </g>\r\n    </g>\r\n    <g id=\"ytick_14\">\r\n     <g id=\"line2d_64\">\r\n      <g>\r\n       <use style=\"stroke:#000000;stroke-width:0.8;\" x=\"733.29278\" xlink:href=\"#m1bad7886ab\" y=\"118.390909\"/>\r\n      </g>\r\n     </g>\r\n     <g id=\"text_42\">\r\n      <!-- 0.6 -->\r\n      <g transform=\"translate(710.389655 122.190128)scale(0.1 -0.1)\">\r\n       <use xlink:href=\"#DejaVuSans-48\"/>\r\n       <use x=\"63.623047\" xlink:href=\"#DejaVuSans-46\"/>\r\n       <use x=\"95.410156\" xlink:href=\"#DejaVuSans-54\"/>\r\n      </g>\r\n     </g>\r\n    </g>\r\n    <g id=\"ytick_15\">\r\n     <g id=\"line2d_65\">\r\n      <g>\r\n       <use style=\"stroke:#000000;stroke-width:0.8;\" x=\"733.29278\" xlink:href=\"#m1bad7886ab\" y=\"68.972727\"/>\r\n      </g>\r\n     </g>\r\n     <g id=\"text_43\">\r\n      <!-- 0.8 -->\r\n      <g transform=\"translate(710.389655 72.771946)scale(0.1 -0.1)\">\r\n       <use xlink:href=\"#DejaVuSans-48\"/>\r\n       <use x=\"63.623047\" xlink:href=\"#DejaVuSans-46\"/>\r\n       <use x=\"95.410156\" xlink:href=\"#DejaVuSans-56\"/>\r\n      </g>\r\n     </g>\r\n    </g>\r\n    <g id=\"ytick_16\">\r\n     <g id=\"line2d_66\">\r\n      <g>\r\n       <use style=\"stroke:#000000;stroke-width:0.8;\" x=\"733.29278\" xlink:href=\"#m1bad7886ab\" y=\"19.554545\"/>\r\n      </g>\r\n     </g>\r\n     <g id=\"text_44\">\r\n      <!-- 1.0 -->\r\n      <g transform=\"translate(710.389655 23.353764)scale(0.1 -0.1)\">\r\n       <use xlink:href=\"#DejaVuSans-49\"/>\r\n       <use x=\"63.623047\" xlink:href=\"#DejaVuSans-46\"/>\r\n       <use x=\"95.410156\" xlink:href=\"#DejaVuSans-48\"/>\r\n      </g>\r\n     </g>\r\n    </g>\r\n    <g id=\"text_45\">\r\n     <!-- survived -->\r\n     <g transform=\"translate(704.309968 164.4875)rotate(-90)scale(0.1 -0.1)\">\r\n      <use xlink:href=\"#DejaVuSans-115\"/>\r\n      <use x=\"52.099609\" xlink:href=\"#DejaVuSans-117\"/>\r\n      <use x=\"115.478516\" xlink:href=\"#DejaVuSans-114\"/>\r\n      <use x=\"156.591797\" xlink:href=\"#DejaVuSans-118\"/>\r\n      <use x=\"215.771484\" xlink:href=\"#DejaVuSans-105\"/>\r\n      <use x=\"243.554688\" xlink:href=\"#DejaVuSans-118\"/>\r\n      <use x=\"302.734375\" xlink:href=\"#DejaVuSans-101\"/>\r\n      <use x=\"364.257812\" xlink:href=\"#DejaVuSans-100\"/>\r\n     </g>\r\n    </g>\r\n   </g>\r\n   <g id=\"PathCollection_10\">\r\n    <g clip-path=\"url(#pdc494386d5)\">\r\n     <use style=\"fill:#ff7f0e;stroke:#ff7f0e;stroke-width:2.025;\" x=\"751.331573\" xlink:href=\"#m39e89cae11\" y=\"225.521721\"/>\r\n     <use style=\"fill:#ff7f0e;stroke:#ff7f0e;stroke-width:2.025;\" x=\"787.409159\" xlink:href=\"#m39e89cae11\" y=\"176.246341\"/>\r\n     <use style=\"fill:#ff7f0e;stroke:#ff7f0e;stroke-width:2.025;\" x=\"823.486746\" xlink:href=\"#m39e89cae11\" y=\"193.641322\"/>\r\n     <use style=\"fill:#ff7f0e;stroke:#ff7f0e;stroke-width:2.025;\" x=\"859.564332\" xlink:href=\"#m39e89cae11\" y=\"266.645455\"/>\r\n     <use style=\"fill:#ff7f0e;stroke:#ff7f0e;stroke-width:2.025;\" x=\"895.641918\" xlink:href=\"#m39e89cae11\" y=\"266.645455\"/>\r\n     <use style=\"fill:#ff7f0e;stroke:#ff7f0e;stroke-width:2.025;\" x=\"931.719504\" xlink:href=\"#m39e89cae11\" y=\"266.645455\"/>\r\n     <use style=\"fill:#ff7f0e;stroke:#ff7f0e;stroke-width:2.025;\" x=\"967.797091\" xlink:href=\"#m39e89cae11\" y=\"266.645455\"/>\r\n     <use style=\"fill:#ff7f0e;stroke:#ff7f0e;stroke-width:2.025;\" x=\"1003.874677\" xlink:href=\"#m39e89cae11\" y=\"266.645455\"/>\r\n    </g>\r\n   </g>\r\n   <g id=\"line2d_67\">\r\n    <path clip-path=\"url(#pdc494386d5)\" d=\"M 751.331573 225.521721 \r\nL 787.409159 176.246341 \r\nL 823.486746 193.641322 \r\nL 859.564332 266.645455 \r\nL 895.641918 266.645455 \r\nL 931.719504 266.645455 \r\nL 967.797091 266.645455 \r\nL 1003.874677 266.645455 \r\n\" style=\"fill:none;stroke:#ff7f0e;stroke-linecap:square;stroke-width:2.7;\"/>\r\n   </g>\r\n   <g id=\"line2d_68\">\r\n    <path clip-path=\"url(#pdc494386d5)\" d=\"M 751.331573 232.491845 \r\nL 751.331573 218.900103 \r\n\" style=\"fill:none;stroke:#ff7f0e;stroke-linecap:square;stroke-width:2.7;\"/>\r\n   </g>\r\n   <g id=\"line2d_69\">\r\n    <path clip-path=\"url(#pdc494386d5)\" d=\"M 787.409159 200.352772 \r\nL 787.409159 152.064579 \r\n\" style=\"fill:none;stroke:#ff7f0e;stroke-linecap:square;stroke-width:2.7;\"/>\r\n   </g>\r\n   <g id=\"line2d_70\">\r\n    <path clip-path=\"url(#pdc494386d5)\" d=\"M 823.486746 227.335537 \r\nL 823.486746 159.947107 \r\n\" style=\"fill:none;stroke:#ff7f0e;stroke-linecap:square;stroke-width:2.7;\"/>\r\n   </g>\r\n   <g id=\"line2d_71\">\r\n    <path clip-path=\"url(#pdc494386d5)\" d=\"M 859.564332 266.645455 \r\nL 859.564332 266.645455 \r\n\" style=\"fill:none;stroke:#ff7f0e;stroke-linecap:square;stroke-width:2.7;\"/>\r\n   </g>\r\n   <g id=\"line2d_72\">\r\n    <path clip-path=\"url(#pdc494386d5)\" d=\"M 895.641918 266.645455 \r\nL 895.641918 266.645455 \r\n\" style=\"fill:none;stroke:#ff7f0e;stroke-linecap:square;stroke-width:2.7;\"/>\r\n   </g>\r\n   <g id=\"line2d_73\">\r\n    <path clip-path=\"url(#pdc494386d5)\" d=\"M 931.719504 266.645455 \r\nL 931.719504 266.645455 \r\n\" style=\"fill:none;stroke:#ff7f0e;stroke-linecap:square;stroke-width:2.7;\"/>\r\n   </g>\r\n   <g id=\"line2d_74\">\r\n    <path clip-path=\"url(#pdc494386d5)\" d=\"M 0 0 \r\n\" style=\"fill:none;stroke:#ff7f0e;stroke-linecap:square;stroke-width:2.7;\"/>\r\n   </g>\r\n   <g id=\"line2d_75\">\r\n    <path clip-path=\"url(#pdc494386d5)\" d=\"M 0 0 \r\n\" style=\"fill:none;stroke:#ff7f0e;stroke-linecap:square;stroke-width:2.7;\"/>\r\n   </g>\r\n   <g id=\"patch_19\">\r\n    <path d=\"M 733.29278 279 \r\nL 733.29278 7.2 \r\n\" style=\"fill:none;stroke:#000000;stroke-linecap:square;stroke-linejoin:miter;stroke-width:0.8;\"/>\r\n   </g>\r\n   <g id=\"patch_20\">\r\n    <path d=\"M 1021.91347 279 \r\nL 1021.91347 7.2 \r\n\" style=\"fill:none;stroke:#000000;stroke-linecap:square;stroke-linejoin:miter;stroke-width:0.8;\"/>\r\n   </g>\r\n   <g id=\"patch_21\">\r\n    <path d=\"M 733.29278 279 \r\nL 1021.91347 279 \r\n\" style=\"fill:none;stroke:#000000;stroke-linecap:square;stroke-linejoin:miter;stroke-width:0.8;\"/>\r\n   </g>\r\n   <g id=\"patch_22\">\r\n    <path d=\"M 733.29278 7.2 \r\nL 1021.91347 7.2 \r\n\" style=\"fill:none;stroke:#000000;stroke-linecap:square;stroke-linejoin:miter;stroke-width:0.8;\"/>\r\n   </g>\r\n   <g id=\"legend_3\">\r\n    <g id=\"patch_23\">\r\n     <path d=\"M 948.440032 59.234375 \r\nL 1014.91347 59.234375 \r\nQ 1016.91347 59.234375 1016.91347 57.234375 \r\nL 1016.91347 14.2 \r\nQ 1016.91347 12.2 1014.91347 12.2 \r\nL 948.440032 12.2 \r\nQ 946.440032 12.2 946.440032 14.2 \r\nL 946.440032 57.234375 \r\nQ 946.440032 59.234375 948.440032 59.234375 \r\nz\r\n\" style=\"fill:#ffffff;opacity:0.8;stroke:#cccccc;stroke-linejoin:miter;\"/>\r\n    </g>\r\n    <g id=\"text_46\">\r\n     <!-- sex -->\r\n     <g transform=\"translate(973.123626 23.798437)scale(0.1 -0.1)\">\r\n      <use xlink:href=\"#DejaVuSans-115\"/>\r\n      <use x=\"52.099609\" xlink:href=\"#DejaVuSans-101\"/>\r\n      <use x=\"111.873047\" xlink:href=\"#DejaVuSans-120\"/>\r\n     </g>\r\n    </g>\r\n    <g id=\"PathCollection_11\">\r\n     <g>\r\n      <use style=\"fill:#1f77b4;stroke:#1f77b4;stroke-width:2.025;\" x=\"960.440032\" xlink:href=\"#m055fb95b70\" y=\"35.851562\"/>\r\n     </g>\r\n    </g>\r\n    <g id=\"text_47\">\r\n     <!-- female -->\r\n     <g transform=\"translate(978.440032 38.476562)scale(0.1 -0.1)\">\r\n      <use xlink:href=\"#DejaVuSans-102\"/>\r\n      <use x=\"35.205078\" xlink:href=\"#DejaVuSans-101\"/>\r\n      <use x=\"96.728516\" xlink:href=\"#DejaVuSans-109\"/>\r\n      <use x=\"194.140625\" xlink:href=\"#DejaVuSans-97\"/>\r\n      <use x=\"255.419922\" xlink:href=\"#DejaVuSans-108\"/>\r\n      <use x=\"283.203125\" xlink:href=\"#DejaVuSans-101\"/>\r\n     </g>\r\n    </g>\r\n    <g id=\"PathCollection_12\">\r\n     <g>\r\n      <use style=\"fill:#ff7f0e;stroke:#ff7f0e;stroke-width:2.025;\" x=\"960.440032\" xlink:href=\"#m39e89cae11\" y=\"50.529688\"/>\r\n     </g>\r\n    </g>\r\n    <g id=\"text_48\">\r\n     <!-- male -->\r\n     <g transform=\"translate(978.440032 53.154688)scale(0.1 -0.1)\">\r\n      <use xlink:href=\"#DejaVuSans-109\"/>\r\n      <use x=\"97.412109\" xlink:href=\"#DejaVuSans-97\"/>\r\n      <use x=\"158.691406\" xlink:href=\"#DejaVuSans-108\"/>\r\n      <use x=\"186.474609\" xlink:href=\"#DejaVuSans-101\"/>\r\n     </g>\r\n    </g>\r\n   </g>\r\n  </g>\r\n  <g id=\"axes_4\">\r\n   <g id=\"patch_24\">\r\n    <path d=\"M 1079.637608 279 \r\nL 1368.258297 279 \r\nL 1368.258297 7.2 \r\nL 1079.637608 7.2 \r\nz\r\n\" style=\"fill:#ffffff;\"/>\r\n   </g>\r\n   <g id=\"PathCollection_13\">\r\n    <g clip-path=\"url(#p6d179ada60)\">\r\n     <use style=\"fill:#1f77b4;stroke:#1f77b4;stroke-width:2.025;\" x=\"1127.741056\" xlink:href=\"#m055fb95b70\" y=\"27.235081\"/>\r\n     <use style=\"fill:#1f77b4;stroke:#1f77b4;stroke-width:2.025;\" x=\"1223.947953\" xlink:href=\"#m055fb95b70\" y=\"48.936216\"/>\r\n     <use style=\"fill:#1f77b4;stroke:#1f77b4;stroke-width:2.025;\" x=\"1320.154849\" xlink:href=\"#m055fb95b70\" y=\"158.444228\"/>\r\n    </g>\r\n   </g>\r\n   <g id=\"line2d_76\">\r\n    <path clip-path=\"url(#p6d179ada60)\" d=\"M 1127.741056 27.235081 \r\nL 1223.947953 48.936216 \r\nL 1320.154849 158.444228 \r\n\" style=\"fill:none;stroke:#1f77b4;stroke-linecap:square;stroke-width:2.7;\"/>\r\n   </g>\r\n   <g id=\"line2d_77\">\r\n    <path clip-path=\"url(#p6d179ada60)\" d=\"M 1127.741056 36.83575 \r\nL 1127.741056 19.554545 \r\n\" style=\"fill:none;stroke:#1f77b4;stroke-linecap:square;stroke-width:2.7;\"/>\r\n   </g>\r\n   <g id=\"line2d_78\">\r\n    <path clip-path=\"url(#p6d179ada60)\" d=\"M 1223.947953 67.195602 \r\nL 1223.947953 33.285314 \r\n\" style=\"fill:none;stroke:#1f77b4;stroke-linecap:square;stroke-width:2.7;\"/>\r\n   </g>\r\n   <g id=\"line2d_79\">\r\n    <path clip-path=\"url(#p6d179ada60)\" d=\"M 1320.154849 176.365477 \r\nL 1320.154849 140.522978 \r\n\" style=\"fill:none;stroke:#1f77b4;stroke-linecap:square;stroke-width:2.7;\"/>\r\n   </g>\r\n   <g id=\"matplotlib.axis_7\">\r\n    <g id=\"xtick_18\">\r\n     <g id=\"line2d_80\">\r\n      <g>\r\n       <use style=\"stroke:#000000;stroke-width:0.8;\" x=\"1127.741056\" xlink:href=\"#m2bfa94ef2b\" y=\"279\"/>\r\n      </g>\r\n     </g>\r\n     <g id=\"text_49\">\r\n      <!-- 1 -->\r\n      <g transform=\"translate(1124.559806 293.598437)scale(0.1 -0.1)\">\r\n       <use xlink:href=\"#DejaVuSans-49\"/>\r\n      </g>\r\n     </g>\r\n    </g>\r\n    <g id=\"xtick_19\">\r\n     <g id=\"line2d_81\">\r\n      <g>\r\n       <use style=\"stroke:#000000;stroke-width:0.8;\" x=\"1223.947953\" xlink:href=\"#m2bfa94ef2b\" y=\"279\"/>\r\n      </g>\r\n     </g>\r\n     <g id=\"text_50\">\r\n      <!-- 2 -->\r\n      <g transform=\"translate(1220.766703 293.598437)scale(0.1 -0.1)\">\r\n       <use xlink:href=\"#DejaVuSans-50\"/>\r\n      </g>\r\n     </g>\r\n    </g>\r\n    <g id=\"xtick_20\">\r\n     <g id=\"line2d_82\">\r\n      <g>\r\n       <use style=\"stroke:#000000;stroke-width:0.8;\" x=\"1320.154849\" xlink:href=\"#m2bfa94ef2b\" y=\"279\"/>\r\n      </g>\r\n     </g>\r\n     <g id=\"text_51\">\r\n      <!-- 3 -->\r\n      <g transform=\"translate(1316.973599 293.598437)scale(0.1 -0.1)\">\r\n       <use xlink:href=\"#DejaVuSans-51\"/>\r\n      </g>\r\n     </g>\r\n    </g>\r\n    <g id=\"text_52\">\r\n     <!-- pclass -->\r\n     <g transform=\"translate(1208.362015 307.276562)scale(0.1 -0.1)\">\r\n      <use xlink:href=\"#DejaVuSans-112\"/>\r\n      <use x=\"63.476562\" xlink:href=\"#DejaVuSans-99\"/>\r\n      <use x=\"118.457031\" xlink:href=\"#DejaVuSans-108\"/>\r\n      <use x=\"146.240234\" xlink:href=\"#DejaVuSans-97\"/>\r\n      <use x=\"207.519531\" xlink:href=\"#DejaVuSans-115\"/>\r\n      <use x=\"259.619141\" xlink:href=\"#DejaVuSans-115\"/>\r\n     </g>\r\n    </g>\r\n   </g>\r\n   <g id=\"matplotlib.axis_8\">\r\n    <g id=\"ytick_17\">\r\n     <g id=\"line2d_83\">\r\n      <g>\r\n       <use style=\"stroke:#000000;stroke-width:0.8;\" x=\"1079.637608\" xlink:href=\"#m1bad7886ab\" y=\"238.833832\"/>\r\n      </g>\r\n     </g>\r\n     <g id=\"text_53\">\r\n      <!-- 0.2 -->\r\n      <g transform=\"translate(1056.734483 242.63305)scale(0.1 -0.1)\">\r\n       <use xlink:href=\"#DejaVuSans-48\"/>\r\n       <use x=\"63.623047\" xlink:href=\"#DejaVuSans-46\"/>\r\n       <use x=\"95.410156\" xlink:href=\"#DejaVuSans-50\"/>\r\n      </g>\r\n     </g>\r\n    </g>\r\n    <g id=\"ytick_18\">\r\n     <g id=\"line2d_84\">\r\n      <g>\r\n       <use style=\"stroke:#000000;stroke-width:0.8;\" x=\"1079.637608\" xlink:href=\"#m1bad7886ab\" y=\"183.533977\"/>\r\n      </g>\r\n     </g>\r\n     <g id=\"text_54\">\r\n      <!-- 0.4 -->\r\n      <g transform=\"translate(1056.734483 187.333195)scale(0.1 -0.1)\">\r\n       <use xlink:href=\"#DejaVuSans-48\"/>\r\n       <use x=\"63.623047\" xlink:href=\"#DejaVuSans-46\"/>\r\n       <use x=\"95.410156\" xlink:href=\"#DejaVuSans-52\"/>\r\n      </g>\r\n     </g>\r\n    </g>\r\n    <g id=\"ytick_19\">\r\n     <g id=\"line2d_85\">\r\n      <g>\r\n       <use style=\"stroke:#000000;stroke-width:0.8;\" x=\"1079.637608\" xlink:href=\"#m1bad7886ab\" y=\"128.234122\"/>\r\n      </g>\r\n     </g>\r\n     <g id=\"text_55\">\r\n      <!-- 0.6 -->\r\n      <g transform=\"translate(1056.734483 132.03334)scale(0.1 -0.1)\">\r\n       <use xlink:href=\"#DejaVuSans-48\"/>\r\n       <use x=\"63.623047\" xlink:href=\"#DejaVuSans-46\"/>\r\n       <use x=\"95.410156\" xlink:href=\"#DejaVuSans-54\"/>\r\n      </g>\r\n     </g>\r\n    </g>\r\n    <g id=\"ytick_20\">\r\n     <g id=\"line2d_86\">\r\n      <g>\r\n       <use style=\"stroke:#000000;stroke-width:0.8;\" x=\"1079.637608\" xlink:href=\"#m1bad7886ab\" y=\"72.934267\"/>\r\n      </g>\r\n     </g>\r\n     <g id=\"text_56\">\r\n      <!-- 0.8 -->\r\n      <g transform=\"translate(1056.734483 76.733485)scale(0.1 -0.1)\">\r\n       <use xlink:href=\"#DejaVuSans-48\"/>\r\n       <use x=\"63.623047\" xlink:href=\"#DejaVuSans-46\"/>\r\n       <use x=\"95.410156\" xlink:href=\"#DejaVuSans-56\"/>\r\n      </g>\r\n     </g>\r\n    </g>\r\n    <g id=\"ytick_21\">\r\n     <g id=\"line2d_87\">\r\n      <g>\r\n       <use style=\"stroke:#000000;stroke-width:0.8;\" x=\"1079.637608\" xlink:href=\"#m1bad7886ab\" y=\"17.634412\"/>\r\n      </g>\r\n     </g>\r\n     <g id=\"text_57\">\r\n      <!-- 1.0 -->\r\n      <g transform=\"translate(1056.734483 21.43363)scale(0.1 -0.1)\">\r\n       <use xlink:href=\"#DejaVuSans-49\"/>\r\n       <use x=\"63.623047\" xlink:href=\"#DejaVuSans-46\"/>\r\n       <use x=\"95.410156\" xlink:href=\"#DejaVuSans-48\"/>\r\n      </g>\r\n     </g>\r\n    </g>\r\n    <g id=\"text_58\">\r\n     <!-- survived -->\r\n     <g transform=\"translate(1050.654795 164.4875)rotate(-90)scale(0.1 -0.1)\">\r\n      <use xlink:href=\"#DejaVuSans-115\"/>\r\n      <use x=\"52.099609\" xlink:href=\"#DejaVuSans-117\"/>\r\n      <use x=\"115.478516\" xlink:href=\"#DejaVuSans-114\"/>\r\n      <use x=\"156.591797\" xlink:href=\"#DejaVuSans-118\"/>\r\n      <use x=\"215.771484\" xlink:href=\"#DejaVuSans-105\"/>\r\n      <use x=\"243.554688\" xlink:href=\"#DejaVuSans-118\"/>\r\n      <use x=\"302.734375\" xlink:href=\"#DejaVuSans-101\"/>\r\n      <use x=\"364.257812\" xlink:href=\"#DejaVuSans-100\"/>\r\n     </g>\r\n    </g>\r\n   </g>\r\n   <g id=\"PathCollection_14\">\r\n    <g clip-path=\"url(#p6d179ada60)\">\r\n     <use style=\"fill:#ff7f0e;stroke:#ff7f0e;stroke-width:2.025;\" x=\"1127.741056\" xlink:href=\"#m39e89cae11\" y=\"199.907677\"/>\r\n     <use style=\"fill:#ff7f0e;stroke:#ff7f0e;stroke-width:2.025;\" x=\"1223.947953\" xlink:href=\"#m39e89cae11\" y=\"253.709816\"/>\r\n     <use style=\"fill:#ff7f0e;stroke:#ff7f0e;stroke-width:2.025;\" x=\"1320.154849\" xlink:href=\"#m39e89cae11\" y=\"252.069902\"/>\r\n    </g>\r\n   </g>\r\n   <g id=\"line2d_88\">\r\n    <path clip-path=\"url(#p6d179ada60)\" d=\"M 1127.741056 199.907677 \r\nL 1223.947953 253.709816 \r\nL 1320.154849 252.069902 \r\n\" style=\"fill:none;stroke:#ff7f0e;stroke-linecap:square;stroke-width:2.7;\"/>\r\n   </g>\r\n   <g id=\"line2d_89\">\r\n    <path clip-path=\"url(#p6d179ada60)\" d=\"M 1127.741056 218.443941 \r\nL 1127.741056 179.826724 \r\n\" style=\"fill:none;stroke:#ff7f0e;stroke-linecap:square;stroke-width:2.7;\"/>\r\n   </g>\r\n   <g id=\"line2d_90\">\r\n    <path clip-path=\"url(#p6d179ada60)\" d=\"M 1223.947953 266.645455 \r\nL 1223.947953 239.157223 \r\n\" style=\"fill:none;stroke:#ff7f0e;stroke-linecap:square;stroke-width:2.7;\"/>\r\n   </g>\r\n   <g id=\"line2d_91\">\r\n    <path clip-path=\"url(#p6d179ada60)\" d=\"M 1320.154849 261.60436 \r\nL 1320.154849 243.657145 \r\n\" style=\"fill:none;stroke:#ff7f0e;stroke-linecap:square;stroke-width:2.7;\"/>\r\n   </g>\r\n   <g id=\"patch_25\">\r\n    <path d=\"M 1079.637608 279 \r\nL 1079.637608 7.2 \r\n\" style=\"fill:none;stroke:#000000;stroke-linecap:square;stroke-linejoin:miter;stroke-width:0.8;\"/>\r\n   </g>\r\n   <g id=\"patch_26\">\r\n    <path d=\"M 1368.258297 279 \r\nL 1368.258297 7.2 \r\n\" style=\"fill:none;stroke:#000000;stroke-linecap:square;stroke-linejoin:miter;stroke-width:0.8;\"/>\r\n   </g>\r\n   <g id=\"patch_27\">\r\n    <path d=\"M 1079.637608 279 \r\nL 1368.258297 279 \r\n\" style=\"fill:none;stroke:#000000;stroke-linecap:square;stroke-linejoin:miter;stroke-width:0.8;\"/>\r\n   </g>\r\n   <g id=\"patch_28\">\r\n    <path d=\"M 1079.637608 7.2 \r\nL 1368.258297 7.2 \r\n\" style=\"fill:none;stroke:#000000;stroke-linecap:square;stroke-linejoin:miter;stroke-width:0.8;\"/>\r\n   </g>\r\n   <g id=\"legend_4\">\r\n    <g id=\"patch_29\">\r\n     <path d=\"M 1294.78486 59.234375 \r\nL 1361.258297 59.234375 \r\nQ 1363.258297 59.234375 1363.258297 57.234375 \r\nL 1363.258297 14.2 \r\nQ 1363.258297 12.2 1361.258297 12.2 \r\nL 1294.78486 12.2 \r\nQ 1292.78486 12.2 1292.78486 14.2 \r\nL 1292.78486 57.234375 \r\nQ 1292.78486 59.234375 1294.78486 59.234375 \r\nz\r\n\" style=\"fill:#ffffff;opacity:0.8;stroke:#cccccc;stroke-linejoin:miter;\"/>\r\n    </g>\r\n    <g id=\"text_59\">\r\n     <!-- sex -->\r\n     <g transform=\"translate(1319.468454 23.798437)scale(0.1 -0.1)\">\r\n      <use xlink:href=\"#DejaVuSans-115\"/>\r\n      <use x=\"52.099609\" xlink:href=\"#DejaVuSans-101\"/>\r\n      <use x=\"111.873047\" xlink:href=\"#DejaVuSans-120\"/>\r\n     </g>\r\n    </g>\r\n    <g id=\"PathCollection_15\">\r\n     <g>\r\n      <use style=\"fill:#1f77b4;stroke:#1f77b4;stroke-width:2.025;\" x=\"1306.78486\" xlink:href=\"#m055fb95b70\" y=\"35.851562\"/>\r\n     </g>\r\n    </g>\r\n    <g id=\"text_60\">\r\n     <!-- female -->\r\n     <g transform=\"translate(1324.78486 38.476562)scale(0.1 -0.1)\">\r\n      <use xlink:href=\"#DejaVuSans-102\"/>\r\n      <use x=\"35.205078\" xlink:href=\"#DejaVuSans-101\"/>\r\n      <use x=\"96.728516\" xlink:href=\"#DejaVuSans-109\"/>\r\n      <use x=\"194.140625\" xlink:href=\"#DejaVuSans-97\"/>\r\n      <use x=\"255.419922\" xlink:href=\"#DejaVuSans-108\"/>\r\n      <use x=\"283.203125\" xlink:href=\"#DejaVuSans-101\"/>\r\n     </g>\r\n    </g>\r\n    <g id=\"PathCollection_16\">\r\n     <g>\r\n      <use style=\"fill:#ff7f0e;stroke:#ff7f0e;stroke-width:2.025;\" x=\"1306.78486\" xlink:href=\"#m39e89cae11\" y=\"50.529688\"/>\r\n     </g>\r\n    </g>\r\n    <g id=\"text_61\">\r\n     <!-- male -->\r\n     <g transform=\"translate(1324.78486 53.154688)scale(0.1 -0.1)\">\r\n      <use xlink:href=\"#DejaVuSans-109\"/>\r\n      <use x=\"97.412109\" xlink:href=\"#DejaVuSans-97\"/>\r\n      <use x=\"158.691406\" xlink:href=\"#DejaVuSans-108\"/>\r\n      <use x=\"186.474609\" xlink:href=\"#DejaVuSans-101\"/>\r\n     </g>\r\n    </g>\r\n   </g>\r\n  </g>\r\n  <g id=\"axes_5\">\r\n   <g id=\"patch_30\">\r\n    <path d=\"M 1425.982435 279 \r\nL 1714.603125 279 \r\nL 1714.603125 7.2 \r\nL 1425.982435 7.2 \r\nz\r\n\" style=\"fill:#ffffff;\"/>\r\n   </g>\r\n   <g id=\"PolyCollection_5\">\r\n    <defs>\r\n     <path d=\"M 1471.07605 -62.828236 \r\nL 1467.475028 -62.828236 \r\nL 1466.280461 -63.892024 \r\nL 1464.563458 -64.955811 \r\nL 1462.259621 -66.019599 \r\nL 1459.381784 -67.083387 \r\nL 1456.048564 -68.147174 \r\nL 1452.491301 -69.210962 \r\nL 1449.029975 -70.27475 \r\nL 1446.018943 -71.338538 \r\nL 1443.775785 -72.402325 \r\nL 1442.515031 -73.466113 \r\nL 1442.308353 -74.529901 \r\nL 1443.083095 -75.593689 \r\nL 1444.65631 -76.657476 \r\nL 1446.788901 -77.721264 \r\nL 1449.239697 -78.785052 \r\nL 1451.803636 -79.848839 \r\nL 1454.328011 -80.912627 \r\nL 1456.710487 -81.976415 \r\nL 1458.887726 -83.040203 \r\nL 1460.823086 -84.10399 \r\nL 1462.497952 -85.167778 \r\nL 1463.907022 -86.231566 \r\nL 1465.055679 -87.295354 \r\nL 1465.957695 -88.359141 \r\nL 1466.632938 -89.422929 \r\nL 1467.105816 -90.486717 \r\nL 1467.405156 -91.550505 \r\nL 1467.56515 -92.614292 \r\nL 1467.625903 -93.67808 \r\nL 1467.631884 -94.741868 \r\nL 1467.627476 -95.805655 \r\nL 1467.650432 -96.869443 \r\nL 1467.725469 -97.933231 \r\nL 1467.860504 -98.997019 \r\nL 1468.04715 -100.060806 \r\nL 1468.265322 -101.124594 \r\nL 1468.490215 -102.188382 \r\nL 1468.69919 -103.25217 \r\nL 1468.87651 -104.315957 \r\nL 1469.015032 -105.379745 \r\nL 1469.115206 -106.443533 \r\nL 1469.182525 -107.507321 \r\nL 1469.22468 -108.571108 \r\nL 1469.249326 -109.634896 \r\nL 1469.262795 -110.698684 \r\nL 1469.269665 -111.762471 \r\nL 1469.272891 -112.826259 \r\nL 1469.274161 -113.890047 \r\nL 1469.274264 -114.953835 \r\nL 1469.273331 -116.017622 \r\nL 1469.270935 -117.08141 \r\nL 1469.266062 -118.145198 \r\nL 1469.257015 -119.208986 \r\nL 1469.241378 -120.272773 \r\nL 1469.216158 -121.336561 \r\nL 1469.178263 -122.400349 \r\nL 1469.125364 -123.464137 \r\nL 1469.057054 -124.527924 \r\nL 1468.975982 -125.591712 \r\nL 1468.888488 -126.6555 \r\nL 1468.804249 -127.719287 \r\nL 1468.734733 -128.783075 \r\nL 1468.690714 -129.846863 \r\nL 1468.679544 -130.910651 \r\nL 1468.70315 -131.974438 \r\nL 1468.757489 -133.038226 \r\nL 1468.83368 -134.102014 \r\nL 1468.920375 -135.165802 \r\nL 1469.006506 -136.229589 \r\nL 1469.083489 -137.293377 \r\nL 1469.146339 -138.357165 \r\nL 1469.193623 -139.420953 \r\nL 1469.226578 -140.48474 \r\nL 1469.247916 -141.548528 \r\nL 1469.260736 -142.612316 \r\nL 1469.267775 -143.676103 \r\nL 1469.271035 -144.739891 \r\nL 1469.27168 -145.803679 \r\nL 1469.270069 -146.867467 \r\nL 1469.265849 -147.931254 \r\nL 1469.258069 -148.995042 \r\nL 1469.245353 -150.05883 \r\nL 1469.226219 -151.122618 \r\nL 1469.199546 -152.186405 \r\nL 1469.165176 -153.250193 \r\nL 1469.124492 -154.313981 \r\nL 1469.080717 -155.377768 \r\nL 1469.038731 -156.441556 \r\nL 1469.004278 -157.505344 \r\nL 1468.982713 -158.569132 \r\nL 1468.977644 -159.632919 \r\nL 1468.989945 -160.696707 \r\nL 1469.017511 -161.760495 \r\nL 1469.055845 -162.824283 \r\nL 1469.099261 -163.88807 \r\nL 1469.142244 -164.951858 \r\nL 1469.180553 -166.015646 \r\nL 1469.211751 -167.079434 \r\nL 1469.23517 -168.143221 \r\nL 1469.315908 -168.143221 \r\nL 1469.315908 -168.143221 \r\nL 1469.339326 -167.079434 \r\nL 1469.370525 -166.015646 \r\nL 1469.408833 -164.951858 \r\nL 1469.451817 -163.88807 \r\nL 1469.495232 -162.824283 \r\nL 1469.533567 -161.760495 \r\nL 1469.561133 -160.696707 \r\nL 1469.573434 -159.632919 \r\nL 1469.568364 -158.569132 \r\nL 1469.546799 -157.505344 \r\nL 1469.512347 -156.441556 \r\nL 1469.470361 -155.377768 \r\nL 1469.426586 -154.313981 \r\nL 1469.385901 -153.250193 \r\nL 1469.351532 -152.186405 \r\nL 1469.324858 -151.122618 \r\nL 1469.305724 -150.05883 \r\nL 1469.293009 -148.995042 \r\nL 1469.285228 -147.931254 \r\nL 1469.281009 -146.867467 \r\nL 1469.279398 -145.803679 \r\nL 1469.280042 -144.739891 \r\nL 1469.283303 -143.676103 \r\nL 1469.290341 -142.612316 \r\nL 1469.303161 -141.548528 \r\nL 1469.3245 -140.48474 \r\nL 1469.357455 -139.420953 \r\nL 1469.404739 -138.357165 \r\nL 1469.467589 -137.293377 \r\nL 1469.544571 -136.229589 \r\nL 1469.630702 -135.165802 \r\nL 1469.717398 -134.102014 \r\nL 1469.793588 -133.038226 \r\nL 1469.847927 -131.974438 \r\nL 1469.871533 -130.910651 \r\nL 1469.860363 -129.846863 \r\nL 1469.816344 -128.783075 \r\nL 1469.746829 -127.719287 \r\nL 1469.662589 -126.6555 \r\nL 1469.575095 -125.591712 \r\nL 1469.494024 -124.527924 \r\nL 1469.425714 -123.464137 \r\nL 1469.372815 -122.400349 \r\nL 1469.33492 -121.336561 \r\nL 1469.3097 -120.272773 \r\nL 1469.294062 -119.208986 \r\nL 1469.285016 -118.145198 \r\nL 1469.280142 -117.08141 \r\nL 1469.277747 -116.017622 \r\nL 1469.276814 -114.953835 \r\nL 1469.276916 -113.890047 \r\nL 1469.278187 -112.826259 \r\nL 1469.281413 -111.762471 \r\nL 1469.288283 -110.698684 \r\nL 1469.301752 -109.634896 \r\nL 1469.326398 -108.571108 \r\nL 1469.368553 -107.507321 \r\nL 1469.435871 -106.443533 \r\nL 1469.536046 -105.379745 \r\nL 1469.674568 -104.315957 \r\nL 1469.851888 -103.25217 \r\nL 1470.060862 -102.188382 \r\nL 1470.285755 -101.124594 \r\nL 1470.503927 -100.060806 \r\nL 1470.690573 -98.997019 \r\nL 1470.825609 -97.933231 \r\nL 1470.900646 -96.869443 \r\nL 1470.923602 -95.805655 \r\nL 1470.919193 -94.741868 \r\nL 1470.925175 -93.67808 \r\nL 1470.985928 -92.614292 \r\nL 1471.145922 -91.550505 \r\nL 1471.445262 -90.486717 \r\nL 1471.91814 -89.422929 \r\nL 1472.593382 -88.359141 \r\nL 1473.495399 -87.295354 \r\nL 1474.644055 -86.231566 \r\nL 1476.053125 -85.167778 \r\nL 1477.727991 -84.10399 \r\nL 1479.663352 -83.040203 \r\nL 1481.840591 -81.976415 \r\nL 1484.223067 -80.912627 \r\nL 1486.747442 -79.848839 \r\nL 1489.311381 -78.785052 \r\nL 1491.762177 -77.721264 \r\nL 1493.894767 -76.657476 \r\nL 1495.467982 -75.593689 \r\nL 1496.242725 -74.529901 \r\nL 1496.036047 -73.466113 \r\nL 1494.775292 -72.402325 \r\nL 1492.532134 -71.338538 \r\nL 1489.521103 -70.27475 \r\nL 1486.059776 -69.210962 \r\nL 1482.502514 -68.147174 \r\nL 1479.169293 -67.083387 \r\nL 1476.291456 -66.019599 \r\nL 1473.98762 -64.955811 \r\nL 1472.270617 -63.892024 \r\nL 1471.07605 -62.828236 \r\nz\r\n\" id=\"m68da4f9a64\" style=\"stroke:#3f3f3f;stroke-width:1.5;\"/>\r\n    </defs>\r\n    <g clip-path=\"url(#pc78f5b5cef)\">\r\n     <use style=\"fill:#3274a1;stroke:#3f3f3f;stroke-width:1.5;\" x=\"0\" xlink:href=\"#m68da4f9a64\" y=\"316.55625\"/>\r\n    </g>\r\n   </g>\r\n   <g id=\"PolyCollection_6\">\r\n    <defs>\r\n     <path d=\"M 1527.536415 -61.012149 \r\nL 1526.462938 -61.012149 \r\nL 1525.80623 -62.254872 \r\nL 1524.569882 -63.497594 \r\nL 1522.475027 -64.740317 \r\nL 1519.2999 -65.98304 \r\nL 1515.031133 -67.225762 \r\nL 1510.005797 -68.468485 \r\nL 1504.942117 -69.711207 \r\nL 1500.782176 -70.95393 \r\nL 1498.373454 -72.196653 \r\nL 1498.137608 -73.439375 \r\nL 1499.913389 -74.682098 \r\nL 1503.066049 -75.924821 \r\nL 1506.789475 -77.167543 \r\nL 1510.41729 -78.410266 \r\nL 1513.584062 -79.652989 \r\nL 1516.201366 -80.895711 \r\nL 1518.329127 -82.138434 \r\nL 1520.053025 -83.381157 \r\nL 1521.429628 -84.623879 \r\nL 1522.492779 -85.866602 \r\nL 1523.279881 -87.109325 \r\nL 1523.844137 -88.352047 \r\nL 1524.245509 -89.59477 \r\nL 1524.533171 -90.837493 \r\nL 1524.735414 -92.080215 \r\nL 1524.863868 -93.322938 \r\nL 1524.927541 -94.565661 \r\nL 1524.946156 -95.808383 \r\nL 1524.953823 -97.051106 \r\nL 1524.990968 -98.293829 \r\nL 1525.089722 -99.536551 \r\nL 1525.261545 -100.779274 \r\nL 1525.493837 -102.021997 \r\nL 1525.756638 -103.264719 \r\nL 1526.014954 -104.507442 \r\nL 1526.24017 -105.750165 \r\nL 1526.41613 -106.992887 \r\nL 1526.53947 -108.23561 \r\nL 1526.616632 -109.478332 \r\nL 1526.660112 -110.721055 \r\nL 1526.684923 -111.963778 \r\nL 1526.705057 -113.2065 \r\nL 1526.730025 -114.449223 \r\nL 1526.762568 -115.691946 \r\nL 1526.798784 -116.934668 \r\nL 1526.830906 -118.177391 \r\nL 1526.851404 -119.420114 \r\nL 1526.856406 -120.662836 \r\nL 1526.84692 -121.905559 \r\nL 1526.827698 -123.148282 \r\nL 1526.804807 -124.391004 \r\nL 1526.783433 -125.633727 \r\nL 1526.766979 -126.87645 \r\nL 1526.757396 -128.119172 \r\nL 1526.755868 -129.361895 \r\nL 1526.763036 -130.604618 \r\nL 1526.778662 -131.84734 \r\nL 1526.801337 -133.090063 \r\nL 1526.82872 -134.332786 \r\nL 1526.858214 -135.575508 \r\nL 1526.88755 -136.818231 \r\nL 1526.914976 -138.060954 \r\nL 1526.939142 -139.303676 \r\nL 1526.95903 -140.546399 \r\nL 1526.974001 -141.789122 \r\nL 1526.983812 -143.031844 \r\nL 1526.98838 -144.274567 \r\nL 1526.987327 -145.51729 \r\nL 1526.979558 -146.760012 \r\nL 1526.963269 -148.002735 \r\nL 1526.936604 -149.245458 \r\nL 1526.898852 -150.48818 \r\nL 1526.851634 -151.730903 \r\nL 1526.799293 -152.973625 \r\nL 1526.748096 -154.216348 \r\nL 1526.704566 -155.459071 \r\nL 1526.673938 -156.701793 \r\nL 1526.659444 -157.944516 \r\nL 1526.662349 -159.187239 \r\nL 1526.682021 -160.429961 \r\nL 1526.715615 -161.672684 \r\nL 1526.7578 -162.915407 \r\nL 1526.801365 -164.158129 \r\nL 1526.838916 -165.400852 \r\nL 1526.864914 -166.643575 \r\nL 1526.876874 -167.886297 \r\nL 1526.875232 -169.12902 \r\nL 1526.862437 -170.371743 \r\nL 1526.842262 -171.614465 \r\nL 1526.819745 -172.857188 \r\nL 1526.801118 -174.099911 \r\nL 1526.792791 -175.342633 \r\nL 1526.799248 -176.585356 \r\nL 1526.82101 -177.828079 \r\nL 1526.854131 -179.070801 \r\nL 1526.891804 -180.313524 \r\nL 1526.927137 -181.556247 \r\nL 1526.955494 -182.798969 \r\nL 1526.975327 -184.041692 \r\nL 1527.024026 -184.041692 \r\nL 1527.024026 -184.041692 \r\nL 1527.04386 -182.798969 \r\nL 1527.072217 -181.556247 \r\nL 1527.107549 -180.313524 \r\nL 1527.145223 -179.070801 \r\nL 1527.178344 -177.828079 \r\nL 1527.200105 -176.585356 \r\nL 1527.206563 -175.342633 \r\nL 1527.198235 -174.099911 \r\nL 1527.179609 -172.857188 \r\nL 1527.157092 -171.614465 \r\nL 1527.136917 -170.371743 \r\nL 1527.124121 -169.12902 \r\nL 1527.12248 -167.886297 \r\nL 1527.13444 -166.643575 \r\nL 1527.160438 -165.400852 \r\nL 1527.197989 -164.158129 \r\nL 1527.241553 -162.915407 \r\nL 1527.283739 -161.672684 \r\nL 1527.317333 -160.429961 \r\nL 1527.337005 -159.187239 \r\nL 1527.339909 -157.944516 \r\nL 1527.325415 -156.701793 \r\nL 1527.294787 -155.459071 \r\nL 1527.251258 -154.216348 \r\nL 1527.20006 -152.973625 \r\nL 1527.14772 -151.730903 \r\nL 1527.100501 -150.48818 \r\nL 1527.062749 -149.245458 \r\nL 1527.036084 -148.002735 \r\nL 1527.019796 -146.760012 \r\nL 1527.012027 -145.51729 \r\nL 1527.010973 -144.274567 \r\nL 1527.015542 -143.031844 \r\nL 1527.025353 -141.789122 \r\nL 1527.040324 -140.546399 \r\nL 1527.060211 -139.303676 \r\nL 1527.084377 -138.060954 \r\nL 1527.111803 -136.818231 \r\nL 1527.14114 -135.575508 \r\nL 1527.170633 -134.332786 \r\nL 1527.198016 -133.090063 \r\nL 1527.220691 -131.84734 \r\nL 1527.236317 -130.604618 \r\nL 1527.243485 -129.361895 \r\nL 1527.241958 -128.119172 \r\nL 1527.232374 -126.87645 \r\nL 1527.21592 -125.633727 \r\nL 1527.194546 -124.391004 \r\nL 1527.171655 -123.148282 \r\nL 1527.152434 -121.905559 \r\nL 1527.142947 -120.662836 \r\nL 1527.147949 -119.420114 \r\nL 1527.168448 -118.177391 \r\nL 1527.20057 -116.934668 \r\nL 1527.236786 -115.691946 \r\nL 1527.269328 -114.449223 \r\nL 1527.294297 -113.2065 \r\nL 1527.31443 -111.963778 \r\nL 1527.339242 -110.721055 \r\nL 1527.382722 -109.478332 \r\nL 1527.459883 -108.23561 \r\nL 1527.583224 -106.992887 \r\nL 1527.759184 -105.750165 \r\nL 1527.984399 -104.507442 \r\nL 1528.242715 -103.264719 \r\nL 1528.505516 -102.021997 \r\nL 1528.737809 -100.779274 \r\nL 1528.909632 -99.536551 \r\nL 1529.008386 -98.293829 \r\nL 1529.04553 -97.051106 \r\nL 1529.053198 -95.808383 \r\nL 1529.071812 -94.565661 \r\nL 1529.135485 -93.322938 \r\nL 1529.263939 -92.080215 \r\nL 1529.466182 -90.837493 \r\nL 1529.753844 -89.59477 \r\nL 1530.155217 -88.352047 \r\nL 1530.719472 -87.109325 \r\nL 1531.506574 -85.866602 \r\nL 1532.569726 -84.623879 \r\nL 1533.946328 -83.381157 \r\nL 1535.670227 -82.138434 \r\nL 1537.797988 -80.895711 \r\nL 1540.415292 -79.652989 \r\nL 1543.582064 -78.410266 \r\nL 1547.209879 -77.167543 \r\nL 1550.933304 -75.924821 \r\nL 1554.085964 -74.682098 \r\nL 1555.861746 -73.439375 \r\nL 1555.625899 -72.196653 \r\nL 1553.217177 -70.95393 \r\nL 1549.057236 -69.711207 \r\nL 1543.993557 -68.468485 \r\nL 1538.968221 -67.225762 \r\nL 1534.699453 -65.98304 \r\nL 1531.524326 -64.740317 \r\nL 1529.429471 -63.497594 \r\nL 1528.193123 -62.254872 \r\nL 1527.536415 -61.012149 \r\nz\r\n\" id=\"me044299b08\" style=\"stroke:#3f3f3f;stroke-width:1.5;\"/>\r\n    </defs>\r\n    <g clip-path=\"url(#pc78f5b5cef)\">\r\n     <use style=\"fill:#e1812c;stroke:#3f3f3f;stroke-width:1.5;\" x=\"0\" xlink:href=\"#me044299b08\" y=\"316.55625\"/>\r\n    </g>\r\n   </g>\r\n   <g id=\"PolyCollection_7\">\r\n    <defs>\r\n     <path d=\"M 1615.235802 -53.769597 \r\nL 1611.935965 -53.769597 \r\nL 1610.666768 -56.216188 \r\nL 1608.767938 -58.66278 \r\nL 1606.162021 -61.109372 \r\nL 1602.89645 -63.555964 \r\nL 1599.187339 -66.002556 \r\nL 1595.417441 -68.449148 \r\nL 1592.072537 -70.89574 \r\nL 1589.626459 -73.342332 \r\nL 1588.412137 -75.788923 \r\nL 1588.528269 -78.235515 \r\nL 1589.819266 -80.682107 \r\nL 1591.935002 -83.128699 \r\nL 1594.443308 -85.575291 \r\nL 1596.949586 -88.021883 \r\nL 1599.182054 -90.468475 \r\nL 1601.022077 -92.915067 \r\nL 1602.483494 -95.361658 \r\nL 1603.661137 -97.80825 \r\nL 1604.672768 -100.254842 \r\nL 1605.61329 -102.701434 \r\nL 1606.530873 -105.148026 \r\nL 1607.425707 -107.594618 \r\nL 1608.265483 -110.04121 \r\nL 1609.008157 -112.487802 \r\nL 1609.622544 -114.934394 \r\nL 1610.100315 -117.380985 \r\nL 1610.457532 -119.827577 \r\nL 1610.727862 -122.274169 \r\nL 1610.95165 -124.720761 \r\nL 1611.164989 -127.167353 \r\nL 1611.391633 -129.613945 \r\nL 1611.639031 -132.060537 \r\nL 1611.898602 -134.507129 \r\nL 1612.149569 -136.95372 \r\nL 1612.365338 -139.400312 \r\nL 1612.521072 -141.846904 \r\nL 1612.600852 -144.293496 \r\nL 1612.602608 -146.740088 \r\nL 1612.539172 -149.18668 \r\nL 1612.434715 -151.633272 \r\nL 1612.317419 -154.079864 \r\nL 1612.210939 -156.526455 \r\nL 1612.128099 -158.973047 \r\nL 1612.06966 -161.419639 \r\nL 1612.028717 -163.866231 \r\nL 1611.998529 -166.312823 \r\nL 1611.979644 -168.759415 \r\nL 1611.982391 -171.206007 \r\nL 1612.023212 -173.652599 \r\nL 1612.116654 -176.09919 \r\nL 1612.267264 -178.545782 \r\nL 1612.465633 -180.992374 \r\nL 1612.69047 -183.438966 \r\nL 1612.915382 -185.885558 \r\nL 1613.116869 -188.33215 \r\nL 1613.280014 -190.778742 \r\nL 1613.400158 -193.225334 \r\nL 1613.480979 -195.671926 \r\nL 1613.530799 -198.118517 \r\nL 1613.559007 -200.565109 \r\nL 1613.573702 -203.011701 \r\nL 1613.580756 -205.458293 \r\nL 1613.58388 -207.904885 \r\nL 1613.585157 -210.351477 \r\nL 1613.585639 -212.798069 \r\nL 1613.585807 -215.244661 \r\nL 1613.585861 -217.691252 \r\nL 1613.585878 -220.137844 \r\nL 1613.585882 -222.584436 \r\nL 1613.585883 -225.031028 \r\nL 1613.585884 -227.47762 \r\nL 1613.585883 -229.924212 \r\nL 1613.585883 -232.370804 \r\nL 1613.585882 -234.817396 \r\nL 1613.585876 -237.263987 \r\nL 1613.58586 -239.710579 \r\nL 1613.585808 -242.157171 \r\nL 1613.585665 -244.603763 \r\nL 1613.585297 -247.050355 \r\nL 1613.584421 -249.496947 \r\nL 1613.582501 -251.943539 \r\nL 1613.578621 -254.390131 \r\nL 1613.571419 -256.836723 \r\nL 1613.559155 -259.283314 \r\nL 1613.540059 -261.729906 \r\nL 1613.512991 -264.176498 \r\nL 1613.478306 -266.62309 \r\nL 1613.438579 -269.069682 \r\nL 1613.398744 -271.516274 \r\nL 1613.365302 -273.962866 \r\nL 1613.344656 -276.409458 \r\nL 1613.341123 -278.856049 \r\nL 1613.355469 -281.302641 \r\nL 1613.384635 -283.749233 \r\nL 1613.422799 -286.195825 \r\nL 1613.463268 -288.642417 \r\nL 1613.500351 -291.089009 \r\nL 1613.530526 -293.535601 \r\nL 1613.552642 -295.982193 \r\nL 1613.619125 -295.982193 \r\nL 1613.619125 -295.982193 \r\nL 1613.641241 -293.535601 \r\nL 1613.671417 -291.089009 \r\nL 1613.708499 -288.642417 \r\nL 1613.748968 -286.195825 \r\nL 1613.787132 -283.749233 \r\nL 1613.816298 -281.302641 \r\nL 1613.830644 -278.856049 \r\nL 1613.827112 -276.409458 \r\nL 1613.806465 -273.962866 \r\nL 1613.773023 -271.516274 \r\nL 1613.733188 -269.069682 \r\nL 1613.693462 -266.62309 \r\nL 1613.658776 -264.176498 \r\nL 1613.631708 -261.729906 \r\nL 1613.612612 -259.283314 \r\nL 1613.600348 -256.836723 \r\nL 1613.593146 -254.390131 \r\nL 1613.589267 -251.943539 \r\nL 1613.587346 -249.496947 \r\nL 1613.58647 -247.050355 \r\nL 1613.586102 -244.603763 \r\nL 1613.585959 -242.157171 \r\nL 1613.585908 -239.710579 \r\nL 1613.585891 -237.263987 \r\nL 1613.585886 -234.817396 \r\nL 1613.585884 -232.370804 \r\nL 1613.585884 -229.924212 \r\nL 1613.585884 -227.47762 \r\nL 1613.585884 -225.031028 \r\nL 1613.585885 -222.584436 \r\nL 1613.58589 -220.137844 \r\nL 1613.585906 -217.691252 \r\nL 1613.58596 -215.244661 \r\nL 1613.586128 -212.798069 \r\nL 1613.586611 -210.351477 \r\nL 1613.587887 -207.904885 \r\nL 1613.591011 -205.458293 \r\nL 1613.598065 -203.011701 \r\nL 1613.612761 -200.565109 \r\nL 1613.640968 -198.118517 \r\nL 1613.690789 -195.671926 \r\nL 1613.771609 -193.225334 \r\nL 1613.891753 -190.778742 \r\nL 1614.054899 -188.33215 \r\nL 1614.256385 -185.885558 \r\nL 1614.481297 -183.438966 \r\nL 1614.706134 -180.992374 \r\nL 1614.904503 -178.545782 \r\nL 1615.055114 -176.09919 \r\nL 1615.148555 -173.652599 \r\nL 1615.189376 -171.206007 \r\nL 1615.192123 -168.759415 \r\nL 1615.173238 -166.312823 \r\nL 1615.14305 -163.866231 \r\nL 1615.102107 -161.419639 \r\nL 1615.043668 -158.973047 \r\nL 1614.960829 -156.526455 \r\nL 1614.854348 -154.079864 \r\nL 1614.737053 -151.633272 \r\nL 1614.632596 -149.18668 \r\nL 1614.569159 -146.740088 \r\nL 1614.570915 -144.293496 \r\nL 1614.650695 -141.846904 \r\nL 1614.806429 -139.400312 \r\nL 1615.022198 -136.95372 \r\nL 1615.273165 -134.507129 \r\nL 1615.532736 -132.060537 \r\nL 1615.780135 -129.613945 \r\nL 1616.006778 -127.167353 \r\nL 1616.220118 -124.720761 \r\nL 1616.443905 -122.274169 \r\nL 1616.714235 -119.827577 \r\nL 1617.071453 -117.380985 \r\nL 1617.549223 -114.934394 \r\nL 1618.16361 -112.487802 \r\nL 1618.906284 -110.04121 \r\nL 1619.74606 -107.594618 \r\nL 1620.640895 -105.148026 \r\nL 1621.558477 -102.701434 \r\nL 1622.498999 -100.254842 \r\nL 1623.510631 -97.80825 \r\nL 1624.688274 -95.361658 \r\nL 1626.14969 -92.915067 \r\nL 1627.989713 -90.468475 \r\nL 1630.222181 -88.021883 \r\nL 1632.728459 -85.575291 \r\nL 1635.236765 -83.128699 \r\nL 1637.352502 -80.682107 \r\nL 1638.643498 -78.235515 \r\nL 1638.759631 -75.788923 \r\nL 1637.545309 -73.342332 \r\nL 1635.09923 -70.89574 \r\nL 1631.754326 -68.449148 \r\nL 1627.984428 -66.002556 \r\nL 1624.275317 -63.555964 \r\nL 1621.009747 -61.109372 \r\nL 1618.403829 -58.66278 \r\nL 1616.504999 -56.216188 \r\nL 1615.235802 -53.769597 \r\nz\r\n\" id=\"m74158aa218\" style=\"stroke:#3f3f3f;stroke-width:1.5;\"/>\r\n    </defs>\r\n    <g clip-path=\"url(#pc78f5b5cef)\">\r\n     <use style=\"fill:#3274a1;stroke:#3f3f3f;stroke-width:1.5;\" x=\"0\" xlink:href=\"#m74158aa218\" y=\"316.55625\"/>\r\n    </g>\r\n   </g>\r\n   <g id=\"PolyCollection_8\">\r\n    <defs>\r\n     <path d=\"M 1672.471241 -49.910795 \r\nL 1670.148802 -49.910795 \r\nL 1669.185018 -52.406663 \r\nL 1667.667296 -54.902531 \r\nL 1665.456924 -57.398399 \r\nL 1662.488104 -59.894267 \r\nL 1658.826172 -62.390134 \r\nL 1654.706102 -64.886002 \r\nL 1650.526794 -67.38187 \r\nL 1646.789017 -69.877738 \r\nL 1643.987525 -72.373605 \r\nL 1642.490356 -74.869473 \r\nL 1642.447953 -77.365341 \r\nL 1643.764841 -79.861209 \r\nL 1646.141527 -82.357076 \r\nL 1649.166649 -84.852944 \r\nL 1652.422951 -87.348812 \r\nL 1655.571596 -89.84468 \r\nL 1658.394492 -92.340548 \r\nL 1660.793941 -94.836415 \r\nL 1662.763507 -97.332283 \r\nL 1664.348812 -99.828151 \r\nL 1665.613321 -102.324019 \r\nL 1666.616654 -104.819886 \r\nL 1667.406075 -107.315754 \r\nL 1668.017604 -109.811622 \r\nL 1668.481731 -112.30749 \r\nL 1668.829093 -114.803357 \r\nL 1669.092993 -117.299225 \r\nL 1669.30778 -119.795093 \r\nL 1669.504229 -122.290961 \r\nL 1669.704403 -124.786829 \r\nL 1669.918474 -127.282696 \r\nL 1670.144864 -129.778564 \r\nL 1670.373476 -132.274432 \r\nL 1670.590553 -134.7703 \r\nL 1670.783377 -137.266167 \r\nL 1670.943452 -139.762035 \r\nL 1671.067649 -142.257903 \r\nL 1671.157593 -144.753771 \r\nL 1671.217994 -147.249638 \r\nL 1671.254715 -149.745506 \r\nL 1671.273169 -152.241374 \r\nL 1671.277382 -154.737242 \r\nL 1671.269792 -157.23311 \r\nL 1671.251726 -159.728977 \r\nL 1671.224316 -162.224845 \r\nL 1671.189541 -164.720713 \r\nL 1671.150974 -167.216581 \r\nL 1671.113842 -169.712448 \r\nL 1671.084237 -172.208316 \r\nL 1671.067649 -174.704184 \r\nL 1671.067372 -177.200052 \r\nL 1671.083471 -179.695919 \r\nL 1671.112761 -182.191787 \r\nL 1671.149843 -184.687655 \r\nL 1671.188723 -187.183523 \r\nL 1671.224359 -189.67939 \r\nL 1671.253604 -192.175258 \r\nL 1671.275369 -194.671126 \r\nL 1671.290173 -197.166994 \r\nL 1671.299419 -199.662862 \r\nL 1671.30474 -202.158729 \r\nL 1671.307568 -204.654597 \r\nL 1671.308958 -207.150465 \r\nL 1671.309592 -209.646333 \r\nL 1671.30986 -212.1422 \r\nL 1671.309965 -214.638068 \r\nL 1671.310003 -217.133936 \r\nL 1671.310016 -219.629804 \r\nL 1671.31002 -222.125671 \r\nL 1671.310021 -224.621539 \r\nL 1671.310021 -227.117407 \r\nL 1671.310021 -229.613275 \r\nL 1671.310018 -232.109143 \r\nL 1671.310009 -234.60501 \r\nL 1671.309982 -237.100878 \r\nL 1671.309901 -239.596746 \r\nL 1671.30968 -242.092614 \r\nL 1671.309118 -244.588481 \r\nL 1671.307794 -247.084349 \r\nL 1671.304898 -249.580217 \r\nL 1671.299035 -252.076085 \r\nL 1671.288051 -254.571952 \r\nL 1671.269046 -257.06782 \r\nL 1671.238753 -259.563688 \r\nL 1671.194421 -262.059556 \r\nL 1671.135156 -264.555424 \r\nL 1671.063338 -267.051291 \r\nL 1670.985487 -269.547159 \r\nL 1670.91185 -272.043027 \r\nL 1670.85444 -274.538895 \r\nL 1670.823895 -277.034762 \r\nL 1670.826272 -279.53063 \r\nL 1670.861092 -282.026498 \r\nL 1670.921492 -284.522366 \r\nL 1670.996436 -287.018233 \r\nL 1671.073987 -289.514101 \r\nL 1671.144336 -292.009969 \r\nL 1671.201559 -294.505837 \r\nL 1671.243806 -297.001705 \r\nL 1671.376237 -297.001705 \r\nL 1671.376237 -297.001705 \r\nL 1671.418484 -294.505837 \r\nL 1671.475707 -292.009969 \r\nL 1671.546057 -289.514101 \r\nL 1671.623607 -287.018233 \r\nL 1671.698551 -284.522366 \r\nL 1671.758951 -282.026498 \r\nL 1671.793771 -279.53063 \r\nL 1671.796148 -277.034762 \r\nL 1671.765603 -274.538895 \r\nL 1671.708193 -272.043027 \r\nL 1671.634556 -269.547159 \r\nL 1671.556705 -267.051291 \r\nL 1671.484887 -264.555424 \r\nL 1671.425622 -262.059556 \r\nL 1671.38129 -259.563688 \r\nL 1671.350997 -257.06782 \r\nL 1671.331992 -254.571952 \r\nL 1671.321008 -252.076085 \r\nL 1671.315145 -249.580217 \r\nL 1671.31225 -247.084349 \r\nL 1671.310925 -244.588481 \r\nL 1671.310363 -242.092614 \r\nL 1671.310142 -239.596746 \r\nL 1671.310061 -237.100878 \r\nL 1671.310034 -234.60501 \r\nL 1671.310025 -232.109143 \r\nL 1671.310023 -229.613275 \r\nL 1671.310022 -227.117407 \r\nL 1671.310022 -224.621539 \r\nL 1671.310023 -222.125671 \r\nL 1671.310027 -219.629804 \r\nL 1671.31004 -217.133936 \r\nL 1671.310078 -214.638068 \r\nL 1671.310183 -212.1422 \r\nL 1671.310451 -209.646333 \r\nL 1671.311085 -207.150465 \r\nL 1671.312475 -204.654597 \r\nL 1671.315303 -202.158729 \r\nL 1671.320624 -199.662862 \r\nL 1671.32987 -197.166994 \r\nL 1671.344674 -194.671126 \r\nL 1671.366439 -192.175258 \r\nL 1671.395684 -189.67939 \r\nL 1671.43132 -187.183523 \r\nL 1671.4702 -184.687655 \r\nL 1671.507282 -182.191787 \r\nL 1671.536572 -179.695919 \r\nL 1671.552671 -177.200052 \r\nL 1671.552395 -174.704184 \r\nL 1671.535806 -172.208316 \r\nL 1671.506201 -169.712448 \r\nL 1671.46907 -167.216581 \r\nL 1671.430502 -164.720713 \r\nL 1671.395728 -162.224845 \r\nL 1671.368317 -159.728977 \r\nL 1671.350251 -157.23311 \r\nL 1671.342661 -154.737242 \r\nL 1671.346874 -152.241374 \r\nL 1671.365328 -149.745506 \r\nL 1671.402049 -147.249638 \r\nL 1671.46245 -144.753771 \r\nL 1671.552394 -142.257903 \r\nL 1671.676591 -139.762035 \r\nL 1671.836666 -137.266167 \r\nL 1672.02949 -134.7703 \r\nL 1672.246567 -132.274432 \r\nL 1672.475179 -129.778564 \r\nL 1672.70157 -127.282696 \r\nL 1672.91564 -124.786829 \r\nL 1673.115814 -122.290961 \r\nL 1673.312263 -119.795093 \r\nL 1673.52705 -117.299225 \r\nL 1673.79095 -114.803357 \r\nL 1674.138312 -112.30749 \r\nL 1674.602439 -109.811622 \r\nL 1675.213968 -107.315754 \r\nL 1676.003389 -104.819886 \r\nL 1677.006722 -102.324019 \r\nL 1678.271231 -99.828151 \r\nL 1679.856536 -97.332283 \r\nL 1681.826102 -94.836415 \r\nL 1684.225551 -92.340548 \r\nL 1687.048447 -89.84468 \r\nL 1690.197092 -87.348812 \r\nL 1693.453394 -84.852944 \r\nL 1696.478516 -82.357076 \r\nL 1698.855202 -79.861209 \r\nL 1700.172091 -77.365341 \r\nL 1700.129687 -74.869473 \r\nL 1698.632518 -72.373605 \r\nL 1695.831026 -69.877738 \r\nL 1692.093249 -67.38187 \r\nL 1687.913942 -64.886002 \r\nL 1683.793872 -62.390134 \r\nL 1680.13194 -59.894267 \r\nL 1677.163119 -57.398399 \r\nL 1674.952747 -54.902531 \r\nL 1673.435025 -52.406663 \r\nL 1672.471241 -49.910795 \r\nz\r\n\" id=\"m0996e4d014\" style=\"stroke:#3f3f3f;stroke-width:1.5;\"/>\r\n    </defs>\r\n    <g clip-path=\"url(#pc78f5b5cef)\">\r\n     <use style=\"fill:#e1812c;stroke:#3f3f3f;stroke-width:1.5;\" x=\"0\" xlink:href=\"#m0996e4d014\" y=\"316.55625\"/>\r\n    </g>\r\n   </g>\r\n   <g id=\"patch_31\">\r\n    <path clip-path=\"url(#pc78f5b5cef)\" d=\"M 1498.137608 247.751131 \r\nL 1498.137608 247.751131 \r\nL 1498.137608 247.751131 \r\nL 1498.137608 247.751131 \r\nz\r\n\" style=\"fill:#3274a1;stroke:#3f3f3f;stroke-linejoin:miter;stroke-width:0.75;\"/>\r\n   </g>\r\n   <g id=\"patch_32\">\r\n    <path clip-path=\"url(#pc78f5b5cef)\" d=\"M 1498.137608 247.751131 \r\nL 1498.137608 247.751131 \r\nL 1498.137608 247.751131 \r\nL 1498.137608 247.751131 \r\nz\r\n\" style=\"fill:#e1812c;stroke:#3f3f3f;stroke-linejoin:miter;stroke-width:0.75;\"/>\r\n   </g>\r\n   <g id=\"matplotlib.axis_9\">\r\n    <g id=\"xtick_21\">\r\n     <g id=\"line2d_92\">\r\n      <g>\r\n       <use style=\"stroke:#000000;stroke-width:0.8;\" x=\"1498.137608\" xlink:href=\"#m2bfa94ef2b\" y=\"279\"/>\r\n      </g>\r\n     </g>\r\n     <g id=\"text_62\">\r\n      <!-- 0 -->\r\n      <g transform=\"translate(1494.956358 293.598437)scale(0.1 -0.1)\">\r\n       <use xlink:href=\"#DejaVuSans-48\"/>\r\n      </g>\r\n     </g>\r\n    </g>\r\n    <g id=\"xtick_22\">\r\n     <g id=\"line2d_93\">\r\n      <g>\r\n       <use style=\"stroke:#000000;stroke-width:0.8;\" x=\"1642.447953\" xlink:href=\"#m2bfa94ef2b\" y=\"279\"/>\r\n      </g>\r\n     </g>\r\n     <g id=\"text_63\">\r\n      <!-- 1 -->\r\n      <g transform=\"translate(1639.266703 293.598437)scale(0.1 -0.1)\">\r\n       <use xlink:href=\"#DejaVuSans-49\"/>\r\n      </g>\r\n     </g>\r\n    </g>\r\n    <g id=\"text_64\">\r\n     <!-- survived -->\r\n     <g transform=\"translate(1548.90528 307.276562)scale(0.1 -0.1)\">\r\n      <use xlink:href=\"#DejaVuSans-115\"/>\r\n      <use x=\"52.099609\" xlink:href=\"#DejaVuSans-117\"/>\r\n      <use x=\"115.478516\" xlink:href=\"#DejaVuSans-114\"/>\r\n      <use x=\"156.591797\" xlink:href=\"#DejaVuSans-118\"/>\r\n      <use x=\"215.771484\" xlink:href=\"#DejaVuSans-105\"/>\r\n      <use x=\"243.554688\" xlink:href=\"#DejaVuSans-118\"/>\r\n      <use x=\"302.734375\" xlink:href=\"#DejaVuSans-101\"/>\r\n      <use x=\"364.257812\" xlink:href=\"#DejaVuSans-100\"/>\r\n     </g>\r\n    </g>\r\n   </g>\r\n   <g id=\"matplotlib.axis_10\">\r\n    <g id=\"ytick_22\">\r\n     <g id=\"line2d_94\">\r\n      <g>\r\n       <use style=\"stroke:#000000;stroke-width:0.8;\" x=\"1425.982435\" xlink:href=\"#m1bad7886ab\" y=\"247.751131\"/>\r\n      </g>\r\n     </g>\r\n     <g id=\"text_65\">\r\n      <!-- 0 -->\r\n      <g transform=\"translate(1412.619935 251.550349)scale(0.1 -0.1)\">\r\n       <use xlink:href=\"#DejaVuSans-48\"/>\r\n      </g>\r\n     </g>\r\n    </g>\r\n    <g id=\"ytick_23\">\r\n     <g id=\"line2d_95\">\r\n      <g>\r\n       <use style=\"stroke:#000000;stroke-width:0.8;\" x=\"1425.982435\" xlink:href=\"#m1bad7886ab\" y=\"206.89805\"/>\r\n      </g>\r\n     </g>\r\n     <g id=\"text_66\">\r\n      <!-- 100 -->\r\n      <g transform=\"translate(1399.894935 210.697269)scale(0.1 -0.1)\">\r\n       <use xlink:href=\"#DejaVuSans-49\"/>\r\n       <use x=\"63.623047\" xlink:href=\"#DejaVuSans-48\"/>\r\n       <use x=\"127.246094\" xlink:href=\"#DejaVuSans-48\"/>\r\n      </g>\r\n     </g>\r\n    </g>\r\n    <g id=\"ytick_24\">\r\n     <g id=\"line2d_96\">\r\n      <g>\r\n       <use style=\"stroke:#000000;stroke-width:0.8;\" x=\"1425.982435\" xlink:href=\"#m1bad7886ab\" y=\"166.044969\"/>\r\n      </g>\r\n     </g>\r\n     <g id=\"text_67\">\r\n      <!-- 200 -->\r\n      <g transform=\"translate(1399.894935 169.844188)scale(0.1 -0.1)\">\r\n       <use xlink:href=\"#DejaVuSans-50\"/>\r\n       <use x=\"63.623047\" xlink:href=\"#DejaVuSans-48\"/>\r\n       <use x=\"127.246094\" xlink:href=\"#DejaVuSans-48\"/>\r\n      </g>\r\n     </g>\r\n    </g>\r\n    <g id=\"ytick_25\">\r\n     <g id=\"line2d_97\">\r\n      <g>\r\n       <use style=\"stroke:#000000;stroke-width:0.8;\" x=\"1425.982435\" xlink:href=\"#m1bad7886ab\" y=\"125.191889\"/>\r\n      </g>\r\n     </g>\r\n     <g id=\"text_68\">\r\n      <!-- 300 -->\r\n      <g transform=\"translate(1399.894935 128.991107)scale(0.1 -0.1)\">\r\n       <use xlink:href=\"#DejaVuSans-51\"/>\r\n       <use x=\"63.623047\" xlink:href=\"#DejaVuSans-48\"/>\r\n       <use x=\"127.246094\" xlink:href=\"#DejaVuSans-48\"/>\r\n      </g>\r\n     </g>\r\n    </g>\r\n    <g id=\"ytick_26\">\r\n     <g id=\"line2d_98\">\r\n      <g>\r\n       <use style=\"stroke:#000000;stroke-width:0.8;\" x=\"1425.982435\" xlink:href=\"#m1bad7886ab\" y=\"84.338808\"/>\r\n      </g>\r\n     </g>\r\n     <g id=\"text_69\">\r\n      <!-- 400 -->\r\n      <g transform=\"translate(1399.894935 88.138027)scale(0.1 -0.1)\">\r\n       <use xlink:href=\"#DejaVuSans-52\"/>\r\n       <use x=\"63.623047\" xlink:href=\"#DejaVuSans-48\"/>\r\n       <use x=\"127.246094\" xlink:href=\"#DejaVuSans-48\"/>\r\n      </g>\r\n     </g>\r\n    </g>\r\n    <g id=\"ytick_27\">\r\n     <g id=\"line2d_99\">\r\n      <g>\r\n       <use style=\"stroke:#000000;stroke-width:0.8;\" x=\"1425.982435\" xlink:href=\"#m1bad7886ab\" y=\"43.485727\"/>\r\n      </g>\r\n     </g>\r\n     <g id=\"text_70\">\r\n      <!-- 500 -->\r\n      <g transform=\"translate(1399.894935 47.284946)scale(0.1 -0.1)\">\r\n       <use xlink:href=\"#DejaVuSans-53\"/>\r\n       <use x=\"63.623047\" xlink:href=\"#DejaVuSans-48\"/>\r\n       <use x=\"127.246094\" xlink:href=\"#DejaVuSans-48\"/>\r\n      </g>\r\n     </g>\r\n    </g>\r\n    <g id=\"text_71\">\r\n     <!-- fare -->\r\n     <g transform=\"translate(1393.815248 152.94375)rotate(-90)scale(0.1 -0.1)\">\r\n      <use xlink:href=\"#DejaVuSans-102\"/>\r\n      <use x=\"35.205078\" xlink:href=\"#DejaVuSans-97\"/>\r\n      <use x=\"96.484375\" xlink:href=\"#DejaVuSans-114\"/>\r\n      <use x=\"135.347656\" xlink:href=\"#DejaVuSans-101\"/>\r\n     </g>\r\n    </g>\r\n   </g>\r\n   <g id=\"line2d_100\">\r\n    <path clip-path=\"url(#pc78f5b5cef)\" d=\"M 1469.275539 244.993548 \r\nL 1469.275539 228.591036 \r\n\" style=\"fill:none;stroke:#3f3f3f;stroke-linecap:square;stroke-width:1.5;\"/>\r\n   </g>\r\n   <g id=\"line2d_101\">\r\n    <path clip-path=\"url(#pc78f5b5cef)\" d=\"M 1469.275539 244.513524 \r\nL 1469.275539 237.347199 \r\n\" style=\"fill:none;stroke:#3f3f3f;stroke-linecap:square;stroke-width:4.5;\"/>\r\n   </g>\r\n   <g id=\"line2d_102\">\r\n    <path clip-path=\"url(#pc78f5b5cef)\" d=\"M 1526.999677 247.751131 \r\nL 1526.999677 226.058145 \r\n\" style=\"fill:none;stroke:#3f3f3f;stroke-linecap:square;stroke-width:1.5;\"/>\r\n   </g>\r\n   <g id=\"line2d_103\">\r\n    <path clip-path=\"url(#pc78f5b5cef)\" d=\"M 1526.999677 244.542448 \r\nL 1526.999677 237.12933 \r\n\" style=\"fill:none;stroke:#3f3f3f;stroke-linecap:square;stroke-width:4.5;\"/>\r\n   </g>\r\n   <g id=\"line2d_104\">\r\n    <path clip-path=\"url(#pc78f5b5cef)\" d=\"M 1613.585884 244.911842 \r\nL 1613.585884 180.398005 \r\n\" style=\"fill:none;stroke:#3f3f3f;stroke-linecap:square;stroke-width:1.5;\"/>\r\n   </g>\r\n   <g id=\"line2d_105\">\r\n    <path clip-path=\"url(#pc78f5b5cef)\" d=\"M 1613.585884 242.44023 \r\nL 1613.585884 216.796404 \r\n\" style=\"fill:none;stroke:#3f3f3f;stroke-linecap:square;stroke-width:4.5;\"/>\r\n   </g>\r\n   <g id=\"line2d_106\">\r\n    <path clip-path=\"url(#pc78f5b5cef)\" d=\"M 1671.310022 247.751131 \r\nL 1671.310022 221.867313 \r\n\" style=\"fill:none;stroke:#3f3f3f;stroke-linecap:square;stroke-width:1.5;\"/>\r\n   </g>\r\n   <g id=\"line2d_107\">\r\n    <path clip-path=\"url(#pc78f5b5cef)\" d=\"M 1671.310022 244.462458 \r\nL 1671.310022 233.248287 \r\n\" style=\"fill:none;stroke:#3f3f3f;stroke-linecap:square;stroke-width:4.5;\"/>\r\n   </g>\r\n   <g id=\"patch_33\">\r\n    <path d=\"M 1425.982435 279 \r\nL 1425.982435 7.2 \r\n\" style=\"fill:none;stroke:#000000;stroke-linecap:square;stroke-linejoin:miter;stroke-width:0.8;\"/>\r\n   </g>\r\n   <g id=\"patch_34\">\r\n    <path d=\"M 1714.603125 279 \r\nL 1714.603125 7.2 \r\n\" style=\"fill:none;stroke:#000000;stroke-linecap:square;stroke-linejoin:miter;stroke-width:0.8;\"/>\r\n   </g>\r\n   <g id=\"patch_35\">\r\n    <path d=\"M 1425.982435 279 \r\nL 1714.603125 279 \r\n\" style=\"fill:none;stroke:#000000;stroke-linecap:square;stroke-linejoin:miter;stroke-width:0.8;\"/>\r\n   </g>\r\n   <g id=\"patch_36\">\r\n    <path d=\"M 1425.982435 7.2 \r\nL 1714.603125 7.2 \r\n\" style=\"fill:none;stroke:#000000;stroke-linecap:square;stroke-linejoin:miter;stroke-width:0.8;\"/>\r\n   </g>\r\n   <g id=\"PathCollection_17\">\r\n    <g clip-path=\"url(#pc78f5b5cef)\">\r\n     <use style=\"fill:#ffffff;stroke:#3f3f3f;\" x=\"1469.275539\" xlink:href=\"#m9ca362759f\" y=\"241.846145\"/>\r\n    </g>\r\n   </g>\r\n   <g id=\"PathCollection_18\">\r\n    <g clip-path=\"url(#pc78f5b5cef)\">\r\n     <use style=\"fill:#ffffff;stroke:#3f3f3f;\" x=\"1526.999677\" xlink:href=\"#m9ca362759f\" y=\"243.461557\"/>\r\n    </g>\r\n   </g>\r\n   <g id=\"PathCollection_19\">\r\n    <g clip-path=\"url(#pc78f5b5cef)\">\r\n     <use style=\"fill:#ffffff;stroke:#3f3f3f;\" x=\"1613.585884\" xlink:href=\"#m9ca362759f\" y=\"237.12933\"/>\r\n    </g>\r\n   </g>\r\n   <g id=\"PathCollection_20\">\r\n    <g clip-path=\"url(#pc78f5b5cef)\">\r\n     <use style=\"fill:#ffffff;stroke:#3f3f3f;\" x=\"1671.310022\" xlink:href=\"#m9ca362759f\" y=\"239.345609\"/>\r\n    </g>\r\n   </g>\r\n   <g id=\"legend_5\">\r\n    <g id=\"patch_37\">\r\n     <path d=\"M 1641.129688 59.234375 \r\nL 1707.603125 59.234375 \r\nQ 1709.603125 59.234375 1709.603125 57.234375 \r\nL 1709.603125 14.2 \r\nQ 1709.603125 12.2 1707.603125 12.2 \r\nL 1641.129688 12.2 \r\nQ 1639.129688 12.2 1639.129688 14.2 \r\nL 1639.129688 57.234375 \r\nQ 1639.129688 59.234375 1641.129688 59.234375 \r\nz\r\n\" style=\"fill:#ffffff;opacity:0.8;stroke:#cccccc;stroke-linejoin:miter;\"/>\r\n    </g>\r\n    <g id=\"text_72\">\r\n     <!-- sex -->\r\n     <g transform=\"translate(1665.813281 23.798437)scale(0.1 -0.1)\">\r\n      <use xlink:href=\"#DejaVuSans-115\"/>\r\n      <use x=\"52.099609\" xlink:href=\"#DejaVuSans-101\"/>\r\n      <use x=\"111.873047\" xlink:href=\"#DejaVuSans-120\"/>\r\n     </g>\r\n    </g>\r\n    <g id=\"patch_38\">\r\n     <path d=\"M 1643.129688 38.476562 \r\nL 1663.129688 38.476562 \r\nL 1663.129688 31.476562 \r\nL 1643.129688 31.476562 \r\nz\r\n\" style=\"fill:#3274a1;stroke:#3f3f3f;stroke-linejoin:miter;stroke-width:0.75;\"/>\r\n    </g>\r\n    <g id=\"text_73\">\r\n     <!-- female -->\r\n     <g transform=\"translate(1671.129688 38.476562)scale(0.1 -0.1)\">\r\n      <use xlink:href=\"#DejaVuSans-102\"/>\r\n      <use x=\"35.205078\" xlink:href=\"#DejaVuSans-101\"/>\r\n      <use x=\"96.728516\" xlink:href=\"#DejaVuSans-109\"/>\r\n      <use x=\"194.140625\" xlink:href=\"#DejaVuSans-97\"/>\r\n      <use x=\"255.419922\" xlink:href=\"#DejaVuSans-108\"/>\r\n      <use x=\"283.203125\" xlink:href=\"#DejaVuSans-101\"/>\r\n     </g>\r\n    </g>\r\n    <g id=\"patch_39\">\r\n     <path d=\"M 1643.129688 53.154688 \r\nL 1663.129688 53.154688 \r\nL 1663.129688 46.154688 \r\nL 1643.129688 46.154688 \r\nz\r\n\" style=\"fill:#e1812c;stroke:#3f3f3f;stroke-linejoin:miter;stroke-width:0.75;\"/>\r\n    </g>\r\n    <g id=\"text_74\">\r\n     <!-- male -->\r\n     <g transform=\"translate(1671.129688 53.154688)scale(0.1 -0.1)\">\r\n      <use xlink:href=\"#DejaVuSans-109\"/>\r\n      <use x=\"97.412109\" xlink:href=\"#DejaVuSans-97\"/>\r\n      <use x=\"158.691406\" xlink:href=\"#DejaVuSans-108\"/>\r\n      <use x=\"186.474609\" xlink:href=\"#DejaVuSans-101\"/>\r\n     </g>\r\n    </g>\r\n   </g>\r\n  </g>\r\n </g>\r\n <defs>\r\n  <clipPath id=\"p0023a8f1a8\">\r\n   <rect height=\"271.8\" width=\"288.62069\" x=\"40.603125\" y=\"7.2\"/>\r\n  </clipPath>\r\n  <clipPath id=\"pee7f6e6135\">\r\n   <rect height=\"271.8\" width=\"288.62069\" x=\"386.947953\" y=\"7.2\"/>\r\n  </clipPath>\r\n  <clipPath id=\"pdc494386d5\">\r\n   <rect height=\"271.8\" width=\"288.62069\" x=\"733.29278\" y=\"7.2\"/>\r\n  </clipPath>\r\n  <clipPath id=\"p6d179ada60\">\r\n   <rect height=\"271.8\" width=\"288.62069\" x=\"1079.637608\" y=\"7.2\"/>\r\n  </clipPath>\r\n  <clipPath id=\"pc78f5b5cef\">\r\n   <rect height=\"271.8\" width=\"288.62069\" x=\"1425.982435\" y=\"7.2\"/>\r\n  </clipPath>\r\n </defs>\r\n</svg>\r\n",
      "image/png": "[encoded data removed]"
     },
     "metadata": {
      "needs_background": "light"
     }
    }
   ],
   "source": [
    "import seaborn as sns\n",
    "import matplotlib.pyplot as plt\n",
    "\n",
    "fig, axs = plt.subplots(ncols=5, figsize=(30,5))\n",
    "sns.violinplot(x=\"survived\", y=\"age\", hue=\"sex\", data=data, ax=axs[0])\n",
    "sns.pointplot(x=\"sibsp\", y=\"survived\", hue=\"sex\", data=data, ax=axs[1])\n",
    "sns.pointplot(x=\"parch\", y=\"survived\", hue=\"sex\", data=data, ax=axs[2])\n",
    "sns.pointplot(x=\"pclass\", y=\"survived\", hue=\"sex\", data=data, ax=axs[3])\n",
    "sns.violinplot(x=\"survived\", y=\"fare\", hue=\"sex\", data=data, ax=axs[4])"
   ]
  },
  {
   "cell_type": "code",
   "execution_count": 19,
   "metadata": {},
   "outputs": [],
   "source": [
    "data.replace({'male': 1, 'female': 0}, inplace=True)"
   ]
  },
  {
   "cell_type": "code",
   "execution_count": 20,
   "metadata": {},
   "outputs": [
    {
     "output_type": "execute_result",
     "data": {
      "text/plain": [
       "          survived\n",
       "pclass    0.312469\n",
       "survived  1.000000\n",
       "sex       0.528693\n",
       "age       0.055513\n",
       "sibsp     0.027825\n",
       "parch     0.082660\n",
       "fare      0.244265"
      ],
      "text/html": "<div>\n<style scoped>\n    .dataframe tbody tr th:only-of-type {\n        vertical-align: middle;\n    }\n\n    .dataframe tbody tr th {\n        vertical-align: top;\n    }\n\n    .dataframe thead th {\n        text-align: right;\n    }\n</style>\n<table border=\"1\" class=\"dataframe\">\n  <thead>\n    <tr style=\"text-align: right;\">\n      <th></th>\n      <th>survived</th>\n    </tr>\n  </thead>\n  <tbody>\n    <tr>\n      <th>pclass</th>\n      <td>0.312469</td>\n    </tr>\n    <tr>\n      <th>survived</th>\n      <td>1.000000</td>\n    </tr>\n    <tr>\n      <th>sex</th>\n      <td>0.528693</td>\n    </tr>\n    <tr>\n      <th>age</th>\n      <td>0.055513</td>\n    </tr>\n    <tr>\n      <th>sibsp</th>\n      <td>0.027825</td>\n    </tr>\n    <tr>\n      <th>parch</th>\n      <td>0.082660</td>\n    </tr>\n    <tr>\n      <th>fare</th>\n      <td>0.244265</td>\n    </tr>\n  </tbody>\n</table>\n</div>"
     },
     "metadata": {},
     "execution_count": 20
    }
   ],
   "source": [
    "data.corr().abs()[[\"survived\"]]"
   ]
  },
  {
   "cell_type": "code",
   "execution_count": 21,
   "metadata": {},
   "outputs": [
    {
     "output_type": "execute_result",
     "data": {
      "text/plain": [
       "           survived\n",
       "pclass     0.312469\n",
       "survived   1.000000\n",
       "sex        0.528693\n",
       "age        0.055513\n",
       "sibsp      0.027825\n",
       "parch      0.082660\n",
       "fare       0.244265\n",
       "relatives  0.201719"
      ],
      "text/html": "<div>\n<style scoped>\n    .dataframe tbody tr th:only-of-type {\n        vertical-align: middle;\n    }\n\n    .dataframe tbody tr th {\n        vertical-align: top;\n    }\n\n    .dataframe thead th {\n        text-align: right;\n    }\n</style>\n<table border=\"1\" class=\"dataframe\">\n  <thead>\n    <tr style=\"text-align: right;\">\n      <th></th>\n      <th>survived</th>\n    </tr>\n  </thead>\n  <tbody>\n    <tr>\n      <th>pclass</th>\n      <td>0.312469</td>\n    </tr>\n    <tr>\n      <th>survived</th>\n      <td>1.000000</td>\n    </tr>\n    <tr>\n      <th>sex</th>\n      <td>0.528693</td>\n    </tr>\n    <tr>\n      <th>age</th>\n      <td>0.055513</td>\n    </tr>\n    <tr>\n      <th>sibsp</th>\n      <td>0.027825</td>\n    </tr>\n    <tr>\n      <th>parch</th>\n      <td>0.082660</td>\n    </tr>\n    <tr>\n      <th>fare</th>\n      <td>0.244265</td>\n    </tr>\n    <tr>\n      <th>relatives</th>\n      <td>0.201719</td>\n    </tr>\n  </tbody>\n</table>\n</div>"
     },
     "metadata": {},
     "execution_count": 21
    }
   ],
   "source": [
    "data['relatives'] = data.apply (lambda row: int((row['sibsp'] + row['parch']) > 0), axis=1)\n",
    "data.corr().abs()[[\"survived\"]]"
   ]
  },
  {
   "cell_type": "code",
   "execution_count": 22,
   "metadata": {},
   "outputs": [],
   "source": [
    "data = data[['sex', 'pclass','age','relatives','fare','survived']].dropna()"
   ]
  },
  {
   "cell_type": "code",
   "execution_count": 23,
   "metadata": {},
   "outputs": [],
   "source": [
    "from sklearn.model_selection import train_test_split\n",
    "x_train, x_test, y_train, y_test = train_test_split(data[['sex','pclass','age','relatives','fare']], data.survived, test_size=0.2, random_state=0)"
   ]
  },
  {
   "cell_type": "code",
   "execution_count": 24,
   "metadata": {},
   "outputs": [],
   "source": [
    "from sklearn.preprocessing import StandardScaler\n",
    "sc = StandardScaler()\n",
    "X_train = sc.fit_transform(x_train)\n",
    "X_test = sc.transform(x_test)"
   ]
  },
  {
   "cell_type": "code",
   "execution_count": 25,
   "metadata": {},
   "outputs": [
    {
     "output_type": "execute_result",
     "data": {
      "text/plain": [
       "GaussianNB()"
      ]
     },
     "metadata": {},
     "execution_count": 25
    }
   ],
   "source": [
    "#common algorith for classification problems \n",
    "from sklearn.naive_bayes import GaussianNB\n",
    "model = GaussianNB()\n",
    "model.fit(X_train, y_train)"
   ]
  },
  {
   "cell_type": "code",
   "execution_count": 26,
   "metadata": {},
   "outputs": [
    {
     "output_type": "stream",
     "name": "stdout",
     "text": [
      "0.7464114832535885\n"
     ]
    }
   ],
   "source": [
    "from sklearn import metrics\n",
    "predict_test = model.predict(X_test)\n",
    "print(metrics.accuracy_score(y_test, predict_test))"
   ]
  },
  {
   "source": [
    "### Neural Network for Increased Accuracy"
   ],
   "cell_type": "markdown",
   "metadata": {}
  },
  {
   "cell_type": "code",
   "execution_count": 29,
   "metadata": {},
   "outputs": [],
   "source": [
    "from keras.models import Sequential\n",
    "from keras.layers import Dense\n",
    "\n",
    "model = Sequential()"
   ]
  },
  {
   "cell_type": "code",
   "execution_count": 30,
   "metadata": {},
   "outputs": [],
   "source": [
    "#The first layer will be set to have a dimension of 5, since you have 5 inputs: sex, pclass, age, relatives, and fare.\n",
    "model.add(Dense(5, kernel_initializer = 'uniform', activation = 'relu', input_dim = 5))\n",
    "#The middle layer was kept at 5 for simplicity, although that value could have been different.\n",
    "model.add(Dense(5, kernel_initializer = 'uniform', activation = 'relu'))\n",
    "#The last layer must output 1, since you want a 1-dimensional output indicating whether a passenger would survive.\n",
    "model.add(Dense(1, kernel_initializer = 'uniform', activation = 'sigmoid'))\n",
    "\n",
    "#The rectified linear unit (relu) activation function is used as a good general activation function for the first two layers, while the sigmoid activation function is required for the final layer as the output you want (of whether a passenger survives or not) needs to be scaled in the range of 0-1 (the probability of a passenger surviving)."
   ]
  },
  {
   "cell_type": "code",
   "execution_count": 31,
   "metadata": {},
   "outputs": [
    {
     "output_type": "stream",
     "name": "stdout",
     "text": [
      "Model: \"sequential\"\n_________________________________________________________________\nLayer (type)                 Output Shape              Param #   \n=================================================================\ndense (Dense)                (None, 5)                 30        \n_________________________________________________________________\ndense_1 (Dense)              (None, 5)                 30        \n_________________________________________________________________\ndense_2 (Dense)              (None, 1)                 6         \n=================================================================\nTotal params: 66\nTrainable params: 66\nNon-trainable params: 0\n_________________________________________________________________\n"
     ]
    }
   ],
   "source": [
    "model.summary()"
   ]
  },
  {
   "cell_type": "code",
   "execution_count": 32,
   "metadata": {},
   "outputs": [
    {
     "output_type": "stream",
     "name": "stdout",
     "text": [
      "Epoch 1/50\n",
      "27/27 [==============================] - 1s 2ms/step - loss: 0.6927 - accuracy: 0.5536\n",
      "Epoch 2/50\n",
      "27/27 [==============================] - 0s 2ms/step - loss: 0.6911 - accuracy: 0.5927\n",
      "Epoch 3/50\n",
      "27/27 [==============================] - 0s 2ms/step - loss: 0.6884 - accuracy: 0.6131\n",
      "Epoch 4/50\n",
      "27/27 [==============================] - 0s 2ms/step - loss: 0.6841 - accuracy: 0.7113\n",
      "Epoch 5/50\n",
      "27/27 [==============================] - 0s 2ms/step - loss: 0.6731 - accuracy: 0.7609\n",
      "Epoch 6/50\n",
      "27/27 [==============================] - 0s 2ms/step - loss: 0.6557 - accuracy: 0.7741\n",
      "Epoch 7/50\n",
      "27/27 [==============================] - 0s 2ms/step - loss: 0.6390 - accuracy: 0.7762\n",
      "Epoch 8/50\n",
      "27/27 [==============================] - 0s 2ms/step - loss: 0.6144 - accuracy: 0.7839\n",
      "Epoch 9/50\n",
      "27/27 [==============================] - 0s 2ms/step - loss: 0.6035 - accuracy: 0.7683\n",
      "Epoch 10/50\n",
      "27/27 [==============================] - 0s 2ms/step - loss: 0.6017 - accuracy: 0.7606\n",
      "Epoch 11/50\n",
      "27/27 [==============================] - 0s 2ms/step - loss: 0.5827 - accuracy: 0.7702\n",
      "Epoch 12/50\n",
      "27/27 [==============================] - 0s 1ms/step - loss: 0.5782 - accuracy: 0.7777\n",
      "Epoch 13/50\n",
      "27/27 [==============================] - 0s 1ms/step - loss: 0.5681 - accuracy: 0.7723\n",
      "Epoch 14/50\n",
      "27/27 [==============================] - 0s 1ms/step - loss: 0.5527 - accuracy: 0.7751\n",
      "Epoch 15/50\n",
      "27/27 [==============================] - 0s 2ms/step - loss: 0.5580 - accuracy: 0.7675\n",
      "Epoch 16/50\n",
      "27/27 [==============================] - 0s 2ms/step - loss: 0.5663 - accuracy: 0.7498\n",
      "Epoch 17/50\n",
      "27/27 [==============================] - 0s 2ms/step - loss: 0.5538 - accuracy: 0.7776\n",
      "Epoch 18/50\n",
      "27/27 [==============================] - 0s 2ms/step - loss: 0.5597 - accuracy: 0.7614\n",
      "Epoch 19/50\n",
      "27/27 [==============================] - 0s 2ms/step - loss: 0.5465 - accuracy: 0.7605\n",
      "Epoch 20/50\n",
      "27/27 [==============================] - 0s 2ms/step - loss: 0.5390 - accuracy: 0.7655\n",
      "Epoch 21/50\n",
      "27/27 [==============================] - 0s 2ms/step - loss: 0.5201 - accuracy: 0.7773\n",
      "Epoch 22/50\n",
      "27/27 [==============================] - 0s 2ms/step - loss: 0.5139 - accuracy: 0.7964\n",
      "Epoch 23/50\n",
      "27/27 [==============================] - 0s 2ms/step - loss: 0.5087 - accuracy: 0.7981\n",
      "Epoch 24/50\n",
      "27/27 [==============================] - 0s 2ms/step - loss: 0.5231 - accuracy: 0.7781\n",
      "Epoch 25/50\n",
      "27/27 [==============================] - 0s 2ms/step - loss: 0.5117 - accuracy: 0.7846\n",
      "Epoch 26/50\n",
      "27/27 [==============================] - 0s 2ms/step - loss: 0.5012 - accuracy: 0.7895\n",
      "Epoch 27/50\n",
      "27/27 [==============================] - 0s 2ms/step - loss: 0.5063 - accuracy: 0.7821\n",
      "Epoch 28/50\n",
      "27/27 [==============================] - 0s 2ms/step - loss: 0.5052 - accuracy: 0.7888\n",
      "Epoch 29/50\n",
      "27/27 [==============================] - 0s 2ms/step - loss: 0.5065 - accuracy: 0.7760\n",
      "Epoch 30/50\n",
      "27/27 [==============================] - 0s 2ms/step - loss: 0.5008 - accuracy: 0.7837\n",
      "Epoch 31/50\n",
      "27/27 [==============================] - 0s 2ms/step - loss: 0.5050 - accuracy: 0.7739\n",
      "Epoch 32/50\n",
      "27/27 [==============================] - 0s 3ms/step - loss: 0.5053 - accuracy: 0.7657\n",
      "Epoch 33/50\n",
      "27/27 [==============================] - 0s 2ms/step - loss: 0.4875 - accuracy: 0.7853\n",
      "Epoch 34/50\n",
      "27/27 [==============================] - 0s 2ms/step - loss: 0.5039 - accuracy: 0.7920\n",
      "Epoch 35/50\n",
      "27/27 [==============================] - 0s 2ms/step - loss: 0.4796 - accuracy: 0.7983\n",
      "Epoch 36/50\n",
      "27/27 [==============================] - 0s 2ms/step - loss: 0.4857 - accuracy: 0.7879\n",
      "Epoch 37/50\n",
      "27/27 [==============================] - 0s 2ms/step - loss: 0.4939 - accuracy: 0.7781\n",
      "Epoch 38/50\n",
      "27/27 [==============================] - 0s 2ms/step - loss: 0.4867 - accuracy: 0.7840\n",
      "Epoch 39/50\n",
      "27/27 [==============================] - 0s 2ms/step - loss: 0.4901 - accuracy: 0.7942\n",
      "Epoch 40/50\n",
      "27/27 [==============================] - 0s 2ms/step - loss: 0.4951 - accuracy: 0.7874\n",
      "Epoch 41/50\n",
      "27/27 [==============================] - 0s 2ms/step - loss: 0.4710 - accuracy: 0.7844\n",
      "Epoch 42/50\n",
      "27/27 [==============================] - 0s 2ms/step - loss: 0.4732 - accuracy: 0.7971\n",
      "Epoch 43/50\n",
      "27/27 [==============================] - 0s 2ms/step - loss: 0.4826 - accuracy: 0.7844\n",
      "Epoch 44/50\n",
      "27/27 [==============================] - 0s 2ms/step - loss: 0.4825 - accuracy: 0.7818\n",
      "Epoch 45/50\n",
      "27/27 [==============================] - 0s 2ms/step - loss: 0.4597 - accuracy: 0.8032\n",
      "Epoch 46/50\n",
      "27/27 [==============================] - 0s 2ms/step - loss: 0.4956 - accuracy: 0.7800\n",
      "Epoch 47/50\n",
      "27/27 [==============================] - 0s 2ms/step - loss: 0.4611 - accuracy: 0.8006\n",
      "Epoch 48/50\n",
      "27/27 [==============================] - 0s 2ms/step - loss: 0.4997 - accuracy: 0.7559\n",
      "Epoch 49/50\n",
      "27/27 [==============================] - 0s 2ms/step - loss: 0.5066 - accuracy: 0.7516\n",
      "Epoch 50/50\n",
      "27/27 [==============================] - 0s 2ms/step - loss: 0.4654 - accuracy: 0.7901\n"
     ]
    },
    {
     "output_type": "execute_result",
     "data": {
      "text/plain": [
       "<tensorflow.python.keras.callbacks.History at 0x1c7bbb85788>"
      ]
     },
     "metadata": {},
     "execution_count": 32
    }
   ],
   "source": [
    "model.compile(optimizer=\"adam\", loss='binary_crossentropy', metrics=['accuracy'])\n",
    "model.fit(X_train, y_train, batch_size=32, epochs=50)"
   ]
  },
  {
   "cell_type": "code",
   "execution_count": 33,
   "metadata": {},
   "outputs": [
    {
     "output_type": "stream",
     "name": "stdout",
     "text": [
      "0.7799043062200957\n"
     ]
    }
   ],
   "source": [
    "y_pred = model.predict_classes(X_test)\n",
    "print(metrics.accuracy_score(y_test, y_pred))"
   ]
  }
 ],
 "metadata": {
  "kernelspec": {
   "display_name": "Python 3",
   "language": "python",
   "name": "python3"
  },
  "language_info": {
   "codemirror_mode": {
    "name": "ipython",
    "version": 3
   },
   "file_extension": ".py",
   "mimetype": "text/x-python",
   "name": "python",
   "nbconvert_exporter": "python",
   "pygments_lexer": "ipython3",
   "version": "3.7.9-final"
  }
 },
 "nbformat": 4,
 "nbformat_minor": 4
}
